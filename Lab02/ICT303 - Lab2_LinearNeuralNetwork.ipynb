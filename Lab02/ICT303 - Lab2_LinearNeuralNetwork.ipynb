{
 "cells": [
  {
   "cell_type": "markdown",
   "metadata": {
    "id": "ZdDimpLi2_nI"
   },
   "source": [
    "# **ICT303 - Advanced Machine Learning and Artificial Intelligence**\n",
    "# **Lab 2 - Linear Neural Networks**\n",
    "\n",
    "The goal of this lab is to learn how to implement, from scratch, the linear neuron (or linear regression model) that we covered in the lecture. We will particularly focus on creating all the building blocks involved in any machine learning model. These should include a class for managing the data, a class for the machine leanring model itself (The Model), a class responsible for training the model (The Trainer) and finally a main program that runs all the necessary tests.\n",
    "\n",
    "While deep learning (and other) programming frameworks already provide ready-to-use implementations, implementing things from scratch is the only way to make sure that you\n",
    "- understand the theoretical concepts,\n",
    "- really know what you are doing,  \n",
    "- can use efficiently these tools,\n",
    "- understand their limitations, and\n",
    "- can extend and build on the top of them.\n",
    "\n",
    "We will first start with a naive approach that implements the analytical solution of the linear regression model and then solve the same problem by formulating it as a Neuron and train it on data.\n",
    "\n",
    "In both cases:\n",
    "- We will use synthetically-generated data and create a class called **SyntheticRegressionData** to manage the data.\n",
    "- Create a class called **LinearRegression** that implements the machine learning model.\n",
    "- Train the model using a class called **Trainer**.\n",
    "\n",
    "This forms the standard standard machine learnin pipeline. This will give you an idea of what is involved in the implementation of machine learning models.\n",
    "\n",
    "This lab is adapted from: https://d2l.ai/chapter_linear-regression/linear-regression-scratch.html"
   ]
  },
  {
   "cell_type": "markdown",
   "metadata": {
    "id": "RNeECLiQOUgc"
   },
   "source": [
    "### **1. A short summary of linear regression**\n",
    "\n",
    "Recall, from the lecture, that  regression is the problem of estimating the value of a variable (the output) $y$ as a function of $d$ variables (the input) \\begin{align}\n",
    "  \\textbf{x} = \\begin{bmatrix}\n",
    "           x_{1} \\\\\n",
    "           x_{2} \\\\\n",
    "           \\vdots \\\\\n",
    "           x_{d}\n",
    "         \\end{bmatrix}.\n",
    "\\end{align}\n",
    "\n",
    "In linear regression, this function, which defines the relation between the input $\\textbf{x}$ and the output $y$, is linear. In other words:\n",
    "\\begin{equation}\n",
    "y = w_1x_1 + w_2 x_2 + \\cdots + w_dx_d + b = \\sum_{i=1}^{d}w_ix_i + b,\n",
    "\\end{equation}\n",
    "\n",
    "where:\n",
    "- $b$ is a scalar called *bias*, and\n",
    "- $w_1, \\dots, w_d$ are scalar (real) values called *weights*.\n",
    "\n",
    "The weights $w_1, \\dots, w_d$  and the bias $b$ can be arranged into a single column vector of the form:\n",
    "\\begin{align}\n",
    "  \\textbf{W} = \\begin{bmatrix}\n",
    "           w_{1} \\\\\n",
    "           w_{2} \\\\\n",
    "           \\vdots \\\\\n",
    "           w_{d} \\\\\n",
    "           b\n",
    "         \\end{bmatrix}.\n",
    "\\end{align}\n",
    "\n",
    "This way, the linear regression equation above can be written using dot products between vectors:\n",
    "$$\n",
    "    y =  \\begin{bmatrix}\n",
    "            w_{1}, w_{2}, \\dots, w_{d}, b\n",
    "        \\end{bmatrix}\n",
    "       \\begin{bmatrix}\n",
    "           x_{1} \\\\\n",
    "           x_{2} \\\\\n",
    "           \\vdots \\\\\n",
    "           x_{d} \\\\\n",
    "           1\n",
    "         \\end{bmatrix}.\n",
    "$$\n",
    "\n",
    "which can be written in a compact way as:\n",
    "$$\n",
    "y = \\textbf{W}^{\\top} \\textbf{X} = \\langle \\textbf{W}, \\textbf{X} \\rangle.\n",
    "$$\n",
    "\n",
    "Note that here,\n",
    "$$\n",
    "  \\textbf{X} =  \\begin{bmatrix}\n",
    "           x_{1} \\\\\n",
    "           x_{2} \\\\\n",
    "           \\vdots \\\\\n",
    "           x_{d} \\\\\n",
    "           1\n",
    "         \\end{bmatrix}.\n",
    "$$\n",
    "\n",
    "\n",
    "$\\textbf{W}$, which includes both the weights and the bias  and $b$, are called **parameters** of the model. The goal of the **training** process is to find the right values of these weights from some training data.\n",
    "\n",
    "### **Example 1 - House prices** ###\n",
    "\n",
    "House prices are affected by many factors. In this example, let's assume that they are affected by 3 factors (in this case $d = 3$):\n",
    "- The surface of the livable area. Let's denote it by $x_1$,\n",
    "- The land area. Let's denote it by $x_2$.\n",
    "- The distance of the house to the train startion. Let's denote it by $x_3\".\n",
    "\n",
    "Let's denote by $y$ the house price.\n",
    "\n",
    "We would like to develop a linear model that predicts the house price, i.e., the value of $y$ from these 3 parameters. Then, we can write:\n",
    "\n",
    "$$\n",
    "    y =  \\begin{bmatrix}\n",
    "            w_{1}, w_{2}, w_{3}, b\n",
    "        \\end{bmatrix}\n",
    "       \\begin{bmatrix}\n",
    "           x_{1} \\\\\n",
    "           x_{2} \\\\\n",
    "           x_{3} \\\\\n",
    "           1\n",
    "         \\end{bmatrix} = w_1 x_1 +  w_2 x_2 + w_3 x_3 + b.\n",
    "$$\n",
    "\n",
    "In this formulation, we know the form of the relation between these parameters and the house price. Or, if we want to be correct, we assumed that the relation between the three factors and the house price is linear.  The problem, however, is that we do not know the exact values of the parameters $w_1, w_2, w_3$ and  $b$.\n",
    "\n",
    "The goal of the training phase is to actually determine the correct values of $w_1, w_2, w_3$ and  $b$ from examples. In other words, we will go out, collect data about each house (the surface of their livable area, the total area of the land, and their distance to the train station) as well as their historical sale prices. Then, we use this data to estimate the values of $w_1, w_2, w_3$ and  $b$. When someone wants to sell their house, they only need to enter the surface of the livable area of the house, the total land area, and its distance to the train station. The model will then return the estimated sale price.\n",
    "\n",
    "### **The training process** ###\n",
    "\n",
    "The first step inthe t raining process is to collect training data. In the example above, the training data consists of a number $n$ of houses. For each house, we need to collect (1) the area of its liveable surface, its total area and its distance to the station, and (2) the corresponding sale price. The latter is called grundtruth.\n",
    "\n",
    "In the general case, we need to collect:\n",
    "-  $n$ input samples $\\textbf{x}^1, \\dots, \\textbf{x}^n$. Each sample $\\textbf{x}^i$ is a vector of the form:\n",
    "  $$\n",
    "    \\textbf{x}^i = \\begin{bmatrix}\n",
    "           x^{i}_{1} \\\\\n",
    "           x^{i}_{2} \\\\\n",
    "           \\vdots \\\\\n",
    "           x^{i}_{d} \\\\\n",
    "           1\n",
    "         \\end{bmatrix}.\n",
    "  $$\n",
    "\n",
    "Note that in the case of houses the $ d = 3 $ and $x^{i}{1}$  corresponds to the areaof the liveable space of the $i-$th house, $x^{i}_{2}$ corresponds to the total area of the $i-$th house and $x^{i}_{3}$ corresponds to the distance of the $i-$th house from the train station.\n",
    "\n",
    "- For all the data we collected, we stack them into a single matrix $\\textbf{X}$ of the form:\n",
    "  $$\n",
    "    \\textbf{X} =\n",
    "      \\begin{bmatrix}\n",
    "           x^{1}_{1} \\cdots x^{i}_{1} \\cdots x^{n}_{1} \\\\\n",
    "           x^{1}_{2} \\cdots x^{i}_{1} \\cdots x^{n}_{2} \\\\\n",
    "           \\vdots \\\\\n",
    "            x^{1}_{d} \\cdots x^{i}_{d} \\cdots x^{n}_{d}\\\\\n",
    "            1 \\cdots 1 \\cdots 1\n",
    "         \\end{bmatrix}.\n",
    "  $$\n",
    "\n",
    "\n",
    "- For each sample $\\textbf{x}^i$, we have its desired output $y^i$. In our example, $y^i$ is the historical sale price of the $i-$th house.  Let's put all the $y^i$'s into one column vector:\n",
    " $$\n",
    " \\textbf{y} =  \n",
    "  \\begin{bmatrix}\n",
    "      y_1 \\\\\n",
    "      y_2\\\\\n",
    "      \\vdots \\\\\n",
    "      y_n\n",
    "  \\end{bmatrix}\n",
    " $$\n",
    "\n",
    "\n",
    "Then, we can write:\n",
    "$$\n",
    "\\begin{bmatrix}\n",
    "      y_1 \\\\\n",
    "      y_2\\\\\n",
    "      \\vdots \\\\\n",
    "      y_n\n",
    "  \\end{bmatrix} = \\begin{bmatrix}\n",
    "            w_{1}, w_{2}, \\dots, w_{d}, b\n",
    "        \\end{bmatrix}  \\begin{bmatrix}\n",
    "           x^{1}_{1} \\cdots x^{i}_{1} \\cdots x^{n}_{1} \\\\\n",
    "           x^{1}_{2} \\cdots x^{i}_{1} \\cdots x^{n}_{2} \\\\\n",
    "           \\vdots \\\\\n",
    "            x^{1}_{d} \\cdots x^{i}_{d} \\cdots x^{n}_{d}\\\\\n",
    "            1 \\cdots 1 \\cdots 1\n",
    "         \\end{bmatrix}.\n",
    "$$\n",
    "\n",
    "which can be written in short as:\n",
    "$$\n",
    "   \\textbf{y} = \\textbf{W}^\\top \\textbf{X}.\n",
    "$$\n",
    "\n",
    "Our goal is to find the values of $\\textbf{W}$. There are two ways of solving this problem:\n",
    "- Analytical (closed-form) solution, and\n",
    "- Iteratvie optimization-based solution.\n",
    "\n",
    "The former is only possible for simple problems such as the linear regression problem. The latter, on the other hand, is iterative but applicable to every machine learning problem.\n",
    "\n",
    "This week, we will look at the first solution. First, we will see how we can generate some synthetic/simulated data (Section 2), which we will use to validate the solution. This will show you how to implement the class the handles data. Second, will create the model class and the trainer (Section 2) and implement all the necessary methods.\n",
    "\n"
   ]
  },
  {
   "cell_type": "markdown",
   "metadata": {
    "id": "9_W5wADsWi2z"
   },
   "source": [
    "### **2. Generating synthetic data**\n",
    "\n",
    "Machine learning is all about data. The data usually comes from practical problems. However, when developing machine learning models, we usually rely on synthetic data because:\n",
    "- They are easy to generate, by just writing some code\n",
    "- We know the input, the output, and  the process that generated them. Thus, we can easily evaluate whether our machine learning model works the way it is intended to.\n",
    "\n",
    "Note, however, that synthetic data should not replace real data. Once a machine learning model has been developed and tested, it should be trained and testedt/validated on real data.\n",
    "\n",
    "In the case of linear regression, we will need training data in the form of pairs $(\\textbf{x}^i, y^i)$ where $\\textbf{x}^i$ is an input and $y^i$ is its corresponding output (called also label). In this example, let's start with a simple case where $d=1$ and thus $\\textbf{x}^i$ is a scalar (i.e., just one value).\n",
    "\n",
    "Let's simulate $1000$ data points (i.e., $n=1000$). We generate each $\\textbf{x}^i$ randomly from a normal (Gaussian) distribution with mean $0$ and standard deviation $0.01$ (any other values are also fine). Then, its corresponding output $y^i$ is  given by:\n",
    "\\begin{equation}\n",
    "      y^i = \\textbf{w}^\\top \\textbf{x}^i + b + \\varepsilon.\n",
    "\\end{equation}\n",
    "\n",
    "Here, $\\varepsilon$ is an additive **noise** that corrupts the data generation process. (Think of a device that captures data where, during the capture process, the data gets corrupted with some noise.)\n",
    "\n",
    "In this example, let's set\n",
    "$$\\textbf{w} = \\begin{bmatrix}\n",
    "     2 \\\\\n",
    "     4.2\n",
    "     \\end{bmatrix}\n",
    "$$\n",
    "\n",
    "To generate this data, we will created  a class called **SyntheticRegressionData** whose responsibiity is to generate some synthetic data following the description above.\n",
    "\n",
    "In this exercise, you are required to implement the method **generate**, which takes as input the mean mu, the standard deviation sigma, the noise value, and the number of training samples we want to generate. The generated data should be saved into variables X and y which should be members of the same class.  "
   ]
  },
  {
   "cell_type": "code",
   "execution_count": null,
   "metadata": {
    "id": "ot8TMZN-LCXv"
   },
   "outputs": [],
   "source": [
    "import torch\n",
    "import numpy as np\n",
    "\n",
    "class SyntheticRegressionData:\n",
    "\n",
    "  # Implement the constructor of the class\n",
    "  # We can assume that the constructor also generates some initial data\n",
    "  def __init__(self): #, w, b, mu = 0.0, sigma = 1.0, noise=0.01, num_train=1000):\n",
    "    # Generate num_train random samples following Gaussian distribution\n",
    "    # of mean mu and standard deviation sigma.\n",
    "    # [self.X, self.y ] = self.generate(mu, sigma, noise, num_train)\n",
    "    self.n = 0;\n",
    "    self.w = []\n",
    "    self.b = []\n",
    "\n",
    "  def generate(self, w, b, mu = 0.0, sigma = 1.0, noise=0.01, num_train=1000):\n",
    "\n",
    "    '''\n",
    "    Implement the function here\n",
    "\n",
    "    self.X should be a matrix of size len(self.w) x num_train\n",
    "    self.y should be a column vector of size num_train x 1\n",
    "    '''\n",
    "    np.random.seed(0)\n",
    "    #temp_x = np.random.randint(-1000, 1000, size=(torch.numel(w), num_train))\n",
    "    #self.X = torch.from_numpy(temp_x)\n",
    "\n",
    "#    temp_y = np.random.randint(-1000, 1000, size=(num_train,1))\n",
    "#   self.y = torch.from_numpy(temp_y)\n",
    "\n",
    "    self.X = torch.rand(torch.numel(w), num_train)\n",
    "    self.y = torch.rand(num_train, 1)\n",
    "\n",
    "    return self.X, self.y"
   ]
  },
  {
   "cell_type": "markdown",
   "metadata": {
    "id": "85bADCVOORG_"
   },
   "source": [
    "Below is an example of how to use the class to generate $n=1000$ data and plot them."
   ]
  },
  {
   "cell_type": "code",
   "execution_count": 14,
   "metadata": {
    "id": "HGLMQr_TOajv"
   },
   "outputs": [
    {
     "ename": "TypeError",
     "evalue": "rand() received an invalid combination of arguments - got (builtin_function_or_method, int), but expected one of:\n * (tuple of ints size, *, torch.Generator generator, tuple of names names, torch.dtype dtype = None, torch.layout layout = None, torch.device device = None, bool pin_memory = False, bool requires_grad = False)\n * (tuple of ints size, *, torch.Generator generator, Tensor out = None, torch.dtype dtype = None, torch.layout layout = None, torch.device device = None, bool pin_memory = False, bool requires_grad = False)\n * (tuple of ints size, *, Tensor out = None, torch.dtype dtype = None, torch.layout layout = None, torch.device device = None, bool pin_memory = False, bool requires_grad = False)\n * (tuple of ints size, *, tuple of names names, torch.dtype dtype = None, torch.layout layout = None, torch.device device = None, bool pin_memory = False, bool requires_grad = False)\n",
     "output_type": "error",
     "traceback": [
      "\u001b[31m---------------------------------------------------------------------------\u001b[39m",
      "\u001b[31mTypeError\u001b[39m                                 Traceback (most recent call last)",
      "\u001b[36mCell\u001b[39m\u001b[36m \u001b[39m\u001b[32mIn[14]\u001b[39m\u001b[32m, line 12\u001b[39m\n\u001b[32m      8\u001b[39m num_train = \u001b[32m1000\u001b[39m  \u001b[38;5;66;03m#I want to generate 1000 random houses\u001b[39;00m\n\u001b[32m     10\u001b[39m data_generator = SyntheticRegressionData()\n\u001b[32m---> \u001b[39m\u001b[32m12\u001b[39m X, y = \u001b[43mdata_generator\u001b[49m\u001b[43m.\u001b[49m\u001b[43mgenerate\u001b[49m\u001b[43m(\u001b[49m\u001b[43mw\u001b[49m\u001b[43m,\u001b[49m\u001b[43m \u001b[49m\u001b[43mb\u001b[49m\u001b[43m,\u001b[49m\u001b[43m \u001b[49m\u001b[43mmu\u001b[49m\u001b[43m=\u001b[49m\u001b[43mmu\u001b[49m\u001b[43m,\u001b[49m\u001b[43m \u001b[49m\u001b[43msigma\u001b[49m\u001b[43m \u001b[49m\u001b[43m=\u001b[49m\u001b[43m \u001b[49m\u001b[43msigma\u001b[49m\u001b[43m,\u001b[49m\u001b[43m \u001b[49m\u001b[43mnoise\u001b[49m\u001b[43m \u001b[49m\u001b[43m=\u001b[49m\u001b[43m \u001b[49m\u001b[43mnoise\u001b[49m\u001b[43m,\u001b[49m\u001b[43m \u001b[49m\u001b[43mnum_train\u001b[49m\u001b[43m \u001b[49m\u001b[43m=\u001b[49m\u001b[43m \u001b[49m\u001b[43mnum_train\u001b[49m\u001b[43m)\u001b[49m\n\u001b[32m     14\u001b[39m \u001b[38;5;66;03m# Let's teh shape of X\u001b[39;00m\n\u001b[32m     15\u001b[39m \u001b[38;5;28mprint\u001b[39m(X.shape)\n",
      "\u001b[36mCell\u001b[39m\u001b[36m \u001b[39m\u001b[32mIn[13]\u001b[39m\u001b[32m, line 31\u001b[39m, in \u001b[36mSyntheticRegressionData.generate\u001b[39m\u001b[34m(self, w, b, mu, sigma, noise, num_train)\u001b[39m\n\u001b[32m     24\u001b[39m     np.random.seed(\u001b[32m0\u001b[39m)\n\u001b[32m     25\u001b[39m     \u001b[38;5;66;03m#temp_x = np.random.randint(-1000, 1000, size=(torch.numel(w), num_train))\u001b[39;00m\n\u001b[32m     26\u001b[39m     \u001b[38;5;66;03m#self.X = torch.from_numpy(temp_x)\u001b[39;00m\n\u001b[32m     27\u001b[39m \n\u001b[32m     28\u001b[39m \u001b[38;5;66;03m#    temp_y = np.random.randint(-1000, 1000, size=(num_train,1))\u001b[39;00m\n\u001b[32m     29\u001b[39m \u001b[38;5;66;03m#   self.y = torch.from_numpy(temp_y)\u001b[39;00m\n\u001b[32m---> \u001b[39m\u001b[32m31\u001b[39m     \u001b[38;5;28mself\u001b[39m.X = \u001b[43mtorch\u001b[49m\u001b[43m.\u001b[49m\u001b[43mrand\u001b[49m\u001b[43m(\u001b[49m\u001b[43mtorch\u001b[49m\u001b[43m.\u001b[49m\u001b[43mnumel\u001b[49m\u001b[43m,\u001b[49m\u001b[43m \u001b[49m\u001b[43mnum_train\u001b[49m\u001b[43m)\u001b[49m\n\u001b[32m     32\u001b[39m     \u001b[38;5;28mself\u001b[39m.y = torch.rand(num_train, \u001b[32m1\u001b[39m)\n\u001b[32m     34\u001b[39m     \u001b[38;5;28;01mreturn\u001b[39;00m \u001b[38;5;28mself\u001b[39m.X, \u001b[38;5;28mself\u001b[39m.y\n",
      "\u001b[31mTypeError\u001b[39m: rand() received an invalid combination of arguments - got (builtin_function_or_method, int), but expected one of:\n * (tuple of ints size, *, torch.Generator generator, tuple of names names, torch.dtype dtype = None, torch.layout layout = None, torch.device device = None, bool pin_memory = False, bool requires_grad = False)\n * (tuple of ints size, *, torch.Generator generator, Tensor out = None, torch.dtype dtype = None, torch.layout layout = None, torch.device device = None, bool pin_memory = False, bool requires_grad = False)\n * (tuple of ints size, *, Tensor out = None, torch.dtype dtype = None, torch.layout layout = None, torch.device device = None, bool pin_memory = False, bool requires_grad = False)\n * (tuple of ints size, *, tuple of names names, torch.dtype dtype = None, torch.layout layout = None, torch.device device = None, bool pin_memory = False, bool requires_grad = False)\n"
     ]
    }
   ],
   "source": [
    "w = torch.tensor([2.0])\n",
    "b = 4.2\n",
    "\n",
    "noise = 1.2\n",
    "mu = 0\n",
    "sigma = 12\n",
    "\n",
    "num_train = 1000  #I want to generate 1000 random houses\n",
    "\n",
    "data_generator = SyntheticRegressionData()\n",
    "\n",
    "X, y = data_generator.generate(w, b, mu=mu, sigma = sigma, noise = noise, num_train = num_train)\n",
    "\n",
    "# Let's teh shape of X\n",
    "print(X.shape)\n",
    "print(y.shape)\n"
   ]
  },
  {
   "cell_type": "markdown",
   "metadata": {
    "id": "DGYXonscQgYv"
   },
   "source": [
    "Often, we need to **plot** or **visualize** the data instead of printing individual numerical values. Python offers a range of tools for plotting data and graphs. For instance, in the simple example above, we can use the **plot** function from **matloplib**:"
   ]
  },
  {
   "cell_type": "code",
   "execution_count": 12,
   "metadata": {
    "id": "sTuNDt5ETm4-"
   },
   "outputs": [
    {
     "data": {
      "text/plain": [
       "Text(0.5, 1.0, 'Random data')"
      ]
     },
     "execution_count": 12,
     "metadata": {},
     "output_type": "execute_result"
    },
    {
     "data": {
      "image/png": "[encoded data removed]",
      "text/plain": [
       "<Figure size 640x480 with 1 Axes>"
      ]
     },
     "metadata": {},
     "output_type": "display_data"
    }
   ],
   "source": [
    "import matplotlib.pyplot as plt\n",
    "\n",
    "# Plot as points in green\n",
    "plt.plot(X, torch.transpose(y, 0, 1), 'r.')\n",
    "plt.xlabel('X')\n",
    "plt.ylabel('y')\n",
    "plt.title('Random data')"
   ]
  },
  {
   "cell_type": "markdown",
   "metadata": {
    "id": "HchH-_NYWFIA"
   },
   "source": [
    "**Questions:**\n",
    "\n",
    "\n",
    "1. Play with the different parameters of the data generator and observe the plot that is generated.\n",
    "\n"
   ]
  },
  {
   "cell_type": "code",
   "execution_count": null,
   "metadata": {
    "id": "jYtr2BJ0Wgaw"
   },
   "outputs": [],
   "source": [
    "## Write the code here and test it"
   ]
  },
  {
   "cell_type": "markdown",
   "metadata": {
    "id": "_Ml0MykiWkkf"
   },
   "source": [
    "2. Can the class above be used to generate high dimensionial data, e.g., 2D or 3D points, or even points in nD? Write below the code of the extended class as well as the main program that tests it."
   ]
  },
  {
   "cell_type": "code",
   "execution_count": null,
   "metadata": {
    "id": "6_cMdn9kW5Qo"
   },
   "outputs": [],
   "source": [
    "## Write the code here and test it"
   ]
  },
  {
   "cell_type": "markdown",
   "metadata": {
    "id": "3PdKVLn4V6dF"
   },
   "source": [
    "### **3. Analytical solution to the linear regression problem**\n",
    "\n",
    "Since this is a linear model, the solution has an analytical form. To simplify things, we add the bias $b$ to the vector $\\textbf{W}$. Thus, in what follows, $\\textbf{W} = (w_1, \\dots, w_d, b)^\\top$. We also add the element $1$ to each vector $\\textbf{x}^i$. With this notation, the solution of the equation above, i.e., the best values of the parameters $\\textbf{W}$, is given by:\n",
    "\n",
    "$$\n",
    "\\textbf{W}^*  = (\\textbf{X} \\textbf{X}^\\top)^{-1} \\textbf{X} \\textbf{y}.\n",
    "$$\n",
    "\n",
    "In the equation above:\n",
    "- $\\textbf{X}$ is a $(d+1) \\times n$ matrix, where each column is a training sample with the value $1$ appended to it.\n",
    "- $\\textbf{X}^\\top$ means the transpose of the matrix $\\textbf{X}$.\n",
    "- The $-1$ exponent means the inverse of a matrix."
   ]
  },
  {
   "cell_type": "markdown",
   "metadata": {
    "id": "rBdVRILw-8bm"
   },
   "source": [
    "#### **3.1. A simple implementation of the analytic solution**\n",
    "\n",
    " Using PyTorch, you are required to implement the analytical solution for the linear regression problem. We will then use the synthetic data generator we created above to test our solution."
   ]
  },
  {
   "cell_type": "code",
   "execution_count": null,
   "metadata": {
    "id": "ZQM5k4KxYk0O"
   },
   "outputs": [],
   "source": [
    "# Step 1 - Generate some synthetic data\n",
    "\n",
    "'''\n",
    "Write the code here\n",
    "'''\n",
    "\n",
    "# Step 2 - linear regression\n",
    "# From this data, we need to estimate w and b - let's call them w_star and b_star\n",
    "# Ideally, if our model is accurate, w_start and b_star should be equal to w and b, respectively\n",
    "# The they are to w and b, the better is our solution\n",
    "\n",
    "'''\n",
    "Write the code here\n",
    "'''\n",
    "\n",
    "# Let's print the estimated parameeters as well as the real values of these paramters\n",
    "# The estimated parameters should be close to the real values\n",
    "print(\"Estimated W: \", w_star)\n",
    "print(\"Estimate b: \", b_star)\n",
    "\n",
    "# real values\n",
    "print(\"Real W: \", w)\n",
    "print(\"Real b: \", b)\n",
    "\n"
   ]
  },
  {
   "cell_type": "markdown",
   "metadata": {
    "id": "TvE31QHCzRrA"
   },
   "source": [
    "\n",
    "#### **3.2. Analysis of the solution**\n",
    "\n",
    "#### **Effect of the noise and number of samples**\n",
    "In the code above, try the followings:\n",
    "- Set the variable **noise** to $0$, and observe the results produced by the code.\n",
    "- Increase the amount of noise in the generated synthetic data, i.e., by setting the variable **noise** to larger values, and observe the results produced by the code.\n",
    "- vary the number of data elements **num_train** from a small number, e.g., 5, to a large number, e.g., 10000, and compare the results that you obtain.\n",
    "\n",
    "What can you say about the accuracy? How is it affected by these parameters and why?\n",
    "\n",
    "#### **Performance** ###\n",
    "\n",
    "What do you think would be the issues with the solution above? Think of:\n",
    "- The computation time: think first of what would be the issue and then test the code. You can add some code lines to check the computation time it takes to find te parameters $\\textbf{w}$ and $b$,  \n",
    "- The computation of the inverse of the matrix $\\textbf{X} \\textbf{X}^\\top$. Does the inverse always exist? If no, in which conditions it would not exist?"
   ]
  },
  {
   "cell_type": "markdown",
   "metadata": {
    "id": "WiCXDoJDyi0i"
   },
   "source": [
    "#### **3.3. A Practical problem**\n",
    "\n",
    " We would like to write a code that predicts house prices based on their land **area** and **age**. We assume that the house price is a linear function of **area** and **age**.\n",
    "\n",
    "Use the classes you created above to solve this problem. To test your solution, use the synthetic data generator class to simulate some data. For example, you can simulate data by calling the class **SyntheticRegressionData** with the parameters $w_1 = 100, w_2 = -5, b=100$.\n",
    "\n",
    "Make sure you make the necessary changes to the solution above in order to solve this problem. However, when you make changes, make sure that the classes also work for the previous problem."
   ]
  },
  {
   "cell_type": "code",
   "execution_count": null,
   "metadata": {
    "id": "tdpqXfkc7uei"
   },
   "outputs": [],
   "source": [
    "## Create the necessary code here"
   ]
  },
  {
   "cell_type": "markdown",
   "metadata": {
    "id": "FPOaDtN916FZ"
   },
   "source": [
    "### **4. A better implementation**\n",
    "\n",
    "In the code above, we implemented the synthetic data generator as a class but the linear regression solver as part of the main code. In this exercise, let's also implement the solver as a class.\n",
    "\n",
    "\n"
   ]
  },
  {
   "cell_type": "markdown",
   "metadata": {
    "id": "6x0XDvT2UvSl"
   },
   "source": [
    "#### **4.1. The Model**\n",
    "\n",
    "To do so, we will create a class called **LinearRegression**. It will have at least the following methods as members:\n",
    "- The weights $\\textbf{W}$ and bias $b$. When the class is created, these weights will be initialized to random values. Note that, in the current solution, these weights can be initialized to $0$. We will show later when using the general soluution, that initializing to $0$ is not a good idea.\n",
    "- The method **forward**, which takes $\\textbf{X}$ and computes its output $y$."
   ]
  },
  {
   "cell_type": "code",
   "execution_count": null,
   "metadata": {
    "id": "SJYzAsmj5mPa"
   },
   "outputs": [],
   "source": [
    "class LinearRegression:\n",
    "  def __init__(self, d=1):\n",
    "\n",
    "    self.dim = d  # dimension of the data\n",
    "\n",
    "    # Set the weights to random values from normal distribution of mean 0 and std 0.01\n",
    "    self.w = torch.randn(self.dim, 1) * 0.01\n",
    "    self.b = torch.randn(1, 1) * 0.01         # the bias\n",
    "\n",
    "  # The forward function, which computes y for a given X\n",
    "  def forward(self, X):\n",
    "\n",
    "    '''\n",
    "    This function  takes as input X and computes the output Y\n",
    "\n",
    "    Provide the implementation here\n",
    "    '''\n",
    "\n",
    "\n",
    "    return y\n",
    "\n"
   ]
  },
  {
   "cell_type": "markdown",
   "metadata": {
    "id": "jqJ0KaY-7gz-"
   },
   "source": [
    "#### **4.2. The Trainer**\n",
    "\n",
    "Now we need to define the training class, i.e., the class that takes the generated data, and then it fits to it the LinearRegression model (i.e, estimates the optimal parameters of the linear regression). Let's call it **Trainer**, which has at least the following members:\n",
    "- Method **fit()**, which takes as input the model (LinearRegression in our case) and the data (the synthetic data we generated in our case), and computes the optimal parameters **$\\textbf{W}$** and **$b$** of the model."
   ]
  },
  {
   "cell_type": "code",
   "execution_count": null,
   "metadata": {
    "id": "5d_Ox3vE8b7N"
   },
   "outputs": [],
   "source": [
    "class Trainer:\n",
    "  def __init__(self):\n",
    "    return\n",
    "\n",
    "  def fit(self, model, data):\n",
    "\n",
    "    '''\n",
    "    Implement the function here\n",
    "\n",
    "    It takes the model and the data and should compute the weights W and the bias b, which are members of the mode\n",
    "    '''\n",
    "\n",
    "    return\n"
   ]
  },
  {
   "cell_type": "markdown",
   "metadata": {
    "id": "YRAiwYYu9deV"
   },
   "source": [
    "#### **4.3. The main code**\n",
    "\n",
    "Below is a script that shows how the classes above are used to solve the linear regression model."
   ]
  },
  {
   "cell_type": "code",
   "execution_count": null,
   "metadata": {
    "id": "lkrOQL729lQd"
   },
   "outputs": [],
   "source": [
    "# 1. The data\n",
    "d = 1   # dim of the data\n",
    "w = torch.tensor([2.0])\n",
    "b = 4.2\n",
    "num_train = 1000000\n",
    "noise = 1.2\n",
    "\n",
    "data_generator = SyntheticRegressionData()\n",
    "data_generator.generate(w, b, noise = noise, num_train = num_train)\n",
    "\n",
    "print(\"The shape of the input data X and desired output y: \")\n",
    "print(data_generator.X.shape)\n",
    "print(data_generator.y.shape)\n",
    "\n",
    "\n",
    "\n",
    "# 2. The model (linear regression)\n",
    "model = LinearRegression(d)\n",
    "\n",
    "# 3. The trainer\n",
    "trainer = Trainer()\n",
    "\n",
    "# 4. Estimate the parameters\n",
    "trainer.fit(model, data_generator)\n",
    "\n",
    "# 5. Get the results\n",
    "w_star = model.w\n",
    "b_star = model.b\n",
    "\n",
    "# Let's see the estimated parameters\n",
    "print(\"Estimated W: \", w_star)\n",
    "print(\"Estimate b: \",  b_star)\n",
    "\n",
    "# real values\n",
    "print(\"Real W: \", w)\n",
    "print(\"Real b: \", b)"
   ]
  },
  {
   "cell_type": "markdown",
   "metadata": {
    "id": "2vmq48DqZWNl"
   },
   "source": [
    "Test the code above on multidimensional data (e.g., 2D or 3D)."
   ]
  },
  {
   "cell_type": "markdown",
   "metadata": {
    "id": "Pj7e5wRlZiAi"
   },
   "source": [
    "### **5. Another problem**\n",
    "\n",
    "Suppose now that the problem we would like to solve is:\n",
    "$$\n",
    "y = \\sum_{i=1}^{d}w_ix_i^2 + b,\n",
    "$$\n",
    "where $x_i \\in \\mathbb{R}$, i.e., $x_i$'s are one-dimensinal scalars. How would you use the model you implemented above to solve this same problem with minimum extension?"
   ]
  }
 ],
 "metadata": {
  "colab": {
   "provenance": [],
   "toc_visible": true
  },
  "kernelspec": {
   "display_name": "Python 3",
   "language": "python",
   "name": "python3"
  },
  "language_info": {
   "codemirror_mode": {
    "name": "ipython",
    "version": 3
   },
   "file_extension": ".py",
   "mimetype": "text/x-python",
   "name": "python",
   "nbconvert_exporter": "python",
   "pygments_lexer": "ipython3",
   "version": "3.13.3"
  }
 },
 "nbformat": 4,
 "nbformat_minor": 4
}
