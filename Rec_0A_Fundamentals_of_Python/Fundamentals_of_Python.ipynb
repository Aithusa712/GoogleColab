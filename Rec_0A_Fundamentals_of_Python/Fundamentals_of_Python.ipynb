{
  "nbformat": 4,
  "nbformat_minor": 0,
  "metadata": {
    "colab": {
      "name": "Fundamentals_of_Python.ipynb",
      "provenance": [],
      "gpuType": "T4"
    },
    "kernelspec": {
      "display_name": "Python 3",
      "name": "python3"
    },
    "language_info": {
      "codemirror_mode": {
        "name": "ipython",
        "version": 3
      },
      "file_extension": ".py",
      "mimetype": "text/x-python",
      "name": "python",
      "nbconvert_exporter": "python",
      "pygments_lexer": "ipython3",
      "version": "3.7.4"
    },
    "accelerator": "GPU"
  },
  "cells": [
    {
      "cell_type": "markdown",
      "metadata": {
        "id": "UUIPeZY_5nw_"
      },
      "source": [
        "# Recitation 0 - Introduction\n",
        "Welcome to the Recitation 0 for the Fall 2020 iteration of the course 11-785: Intro to Deep Learning.\n",
        "Recitation 0 is split into 3 bigger pictures, with every part divided into sub-parts.\n",
        "* Big Picture 1 (Recitation 0A, 0B, 0C) - Introduction to Python, Numpy, and Pytorch\n",
        "* Big Picture 2 (Recitation 0D, 0E)     - Introduction to AWS, Google Colab, and Jupyter\n",
        "* Big Picture 3 (Recitation 0F, 0G)     - Introduction to Debugging, Tensorboard, TSNE, and Visualization\n"
      ]
    },
    {
      "cell_type": "markdown",
      "metadata": {
        "id": "usWyONEENSke"
      },
      "source": [
        "# *Recitation 0A - Introduction to Python*\n",
        "\n"
      ]
    },
    {
      "cell_type": "markdown",
      "metadata": {
        "id": "wGc1kbgXQoLT"
      },
      "source": [
        "Python\n",
        "\n",
        "All information about python, from downloading to documentation, can be found here: https://www.python.org. We recommend that you use python 3 for the homeworks in this course."
      ]
    },
    {
      "cell_type": "markdown",
      "metadata": {
        "id": "zDYp9r3FRCOI"
      },
      "source": [
        "External Modules\n",
        "\n",
        "Install external modules using the pip package manager(https://pypi.org/project/pip/).\n",
        "The main modules we'll be using in the course include  \n",
        "\n",
        "*   numpy\n",
        "*   torch (Pytorch)\n",
        "\n",
        "To check if both the modules got installed correctly, please type the below code in your terminal and check if some version comes up.\n",
        "\n",
        "```\n",
        "python -c \"import torch; print(torch.__version__)\"\n",
        "python -c \"import numpy; print(numpy.version.version)\"\n",
        "```\n",
        "\n"
      ]
    },
    {
      "cell_type": "markdown",
      "metadata": {
        "id": "t9FINMJKTlQu"
      },
      "source": [
        "Importing Modules code snippets"
      ]
    },
    {
      "cell_type": "code",
      "source": [
        "!git clone https://github.com/Aithusa712/GoogleColab/\n"
      ],
      "metadata": {
        "id": "untN8hwUAODw",
        "outputId": "bfb5f12d-2e23-491c-b131-c9421b94f51c",
        "colab": {
          "base_uri": "https://localhost:8080/"
        }
      },
      "execution_count": 1,
      "outputs": [
        {
          "output_type": "stream",
          "name": "stdout",
          "text": [
            "Cloning into 'GoogleColab'...\n",
            "remote: Enumerating objects: 25, done.\u001b[K\n",
            "remote: Counting objects: 100% (25/25), done.\u001b[K\n",
            "remote: Compressing objects: 100% (23/23), done.\u001b[K\n",
            "remote: Total 25 (delta 5), reused 13 (delta 0), pack-reused 0 (from 0)\u001b[K\n",
            "Receiving objects: 100% (25/25), 43.07 KiB | 668.00 KiB/s, done.\n",
            "Resolving deltas: 100% (5/5), done.\n"
          ]
        }
      ]
    },
    {
      "cell_type": "code",
      "source": [
        "%cd GoogleColab/Rec_0A_Fundamentals_of_Python/\n",
        "!ls"
      ],
      "metadata": {
        "id": "iS6AzDQuAia8",
        "outputId": "c617c82a-6280-485c-c279-045dcf7ef7e0",
        "colab": {
          "base_uri": "https://localhost:8080/"
        }
      },
      "execution_count": 12,
      "outputs": [
        {
          "output_type": "stream",
          "name": "stdout",
          "text": [
            "/content/GoogleColab/Rec_0A_Fundamentals_of_Python\n",
            "3d-array-stack.png\t      recitation0a.txt\n",
            "Fundamentals_of_Python.ipynb  sampledata.csv\n"
          ]
        }
      ]
    },
    {
      "cell_type": "code",
      "metadata": {
        "id": "TL-2zx-FTYWn"
      },
      "source": [
        "import numpy\n",
        "a = numpy.array([1,2,3])\n",
        "\n",
        "import numpy as np\n",
        "a = np.array([1,2,3])\n",
        "\n",
        "from math import ceil\n",
        "\n",
        "from math import *"
      ],
      "execution_count": 7,
      "outputs": []
    },
    {
      "cell_type": "markdown",
      "metadata": {
        "id": "dT6Ft1G7VdnM"
      },
      "source": [
        "File Formats and Loading Data\n",
        "\n",
        "\n",
        "\n",
        "*   .txt: plain text file\n",
        "*   .pkl: python objects\n",
        "*   .csv: tabular data - fields separated by commas\n",
        "*   .npy: numpy arrays (saved using numpy library)\n",
        "*   .npz: zipped archive of npy files"
      ]
    },
    {
      "cell_type": "code",
      "metadata": {
        "id": "XfuNy5irWjC_",
        "colab": {
          "base_uri": "https://localhost:8080/"
        },
        "outputId": "06db9cc2-ad2a-427d-b0b3-e7c6408df2d3"
      },
      "source": [
        "# traditional way of reading files with explicit open and close statements\n",
        "\n",
        "f = open(\"recitation0a.txt\", \"r\")\n",
        "print(f.readlines())\n",
        "f.close()"
      ],
      "execution_count": 13,
      "outputs": [
        {
          "output_type": "stream",
          "name": "stdout",
          "text": [
            "['This is the first line of text.\\n', 'This is the second line of text.']\n"
          ]
        }
      ]
    },
    {
      "cell_type": "code",
      "metadata": {
        "id": "hdb29mg3WlKU",
        "colab": {
          "base_uri": "https://localhost:8080/"
        },
        "outputId": "4608d54a-f8dc-4d40-bd5c-89ec5c2a5b1f"
      },
      "source": [
        "# no need to mention explict close statement in the \"with\" statement\n",
        "\n",
        "with open(\"recitation0a.txt\", \"r\") as f:\n",
        "    print(f.readlines())"
      ],
      "execution_count": 14,
      "outputs": [
        {
          "output_type": "stream",
          "name": "stdout",
          "text": [
            "['This is the first line of text.\\n', 'This is the second line of text.']\n"
          ]
        }
      ]
    },
    {
      "cell_type": "markdown",
      "metadata": {
        "id": "9R9tnhl_WuMr"
      },
      "source": [
        "More about file access modes: https://stackoverflow.com/questions/16208206/confused-by-python-file-mode-w"
      ]
    },
    {
      "cell_type": "code",
      "metadata": {
        "id": "ywtui4QIXC1N",
        "colab": {
          "base_uri": "https://localhost:8080/",
          "height": 284
        },
        "outputId": "ea60f9d9-3d92-476e-9998-c003fc0c97f5"
      },
      "source": [
        "# to read a csv file\n",
        "\n",
        "import csv\n",
        "\n",
        "with open (\"sample_data.csv\", \"r\") as f:\n",
        "    reader = csv.reader(f, delimiter=\",\")\n",
        "\n",
        "    for row in reader:\n",
        "        print(row)"
      ],
      "execution_count": null,
      "outputs": [
        {
          "output_type": "stream",
          "text": [
            "['Year', 'Variable_name', 'Variable_category', 'Value']\n",
            "['2018', 'Total income', 'Financial performance', '691859']\n",
            "['2018', 'Sales, government funding, grants and subsidies', 'Financial performance', '605766']\n",
            "['2018', 'Interest, dividends and donations', 'Financial performance', '63509']\n",
            "['2018', 'Non-operating income', 'Financial performance', '22583']\n",
            "['2018', 'Total expenditure', 'Financial performance', '597623']\n",
            "['2018', 'Interest and donations', 'Financial performance', '34223']\n",
            "['2018', 'Indirect taxes', 'Financial performance', '7124']\n",
            "['2018', 'Depreciation', 'Financial performance', '19863']\n",
            "['2018', 'Salaries and wages paid', 'Financial performance', '106351']\n",
            "['2018', 'Redundancy and severance', 'Financial performance', '297']\n",
            "['2018', 'Salaries and wages to self employed commission agents', 'Financial performance', '1659']\n",
            "['2018', 'Purchases and other operating expenses', 'Financial performance', '418642']\n",
            "['2018', 'Non-operating expenses', 'Financial performance', '9762']\n",
            "['2018', 'Opening stocks', 'Financial performance', '59433']\n"
          ],
          "name": "stdout"
        }
      ]
    },
    {
      "cell_type": "code",
      "metadata": {
        "id": "SUZA7TnW-2kl",
        "outputId": "0853ea2d-f845-4c20-bd3a-4302d2d18c73",
        "colab": {
          "base_uri": "https://localhost:8080/"
        }
      },
      "source": [
        "import pickle\n",
        "\n",
        "mydict = {\"student1\": \"Alice\", \"Student2\": \"Bob\", \"Student3\": \"Rachel\"}\n",
        "\n",
        "pickle.dump(mydict, open(\"store.pkl\", \"wb\"))\n",
        "\n",
        "loaded = pickle.load(open(\"store.pkl\", \"rb\"))\n",
        "print(loaded)"
      ],
      "execution_count": 15,
      "outputs": [
        {
          "output_type": "stream",
          "name": "stdout",
          "text": [
            "{'student1': 'Alice', 'Student2': 'Bob', 'Student3': 'Rachel'}\n"
          ]
        }
      ]
    },
    {
      "cell_type": "code",
      "source": [
        "!ls"
      ],
      "metadata": {
        "id": "16s-8_cYBDIc",
        "outputId": "5e98ab1b-76e4-4f5c-ae35-00aec01ebde2",
        "colab": {
          "base_uri": "https://localhost:8080/"
        }
      },
      "execution_count": 16,
      "outputs": [
        {
          "output_type": "stream",
          "name": "stdout",
          "text": [
            "3d-array-stack.png\t      recitation0a.txt\tstore.pkl\n",
            "Fundamentals_of_Python.ipynb  sampledata.csv\n"
          ]
        }
      ]
    },
    {
      "cell_type": "markdown",
      "metadata": {
        "id": "W9NyFYBd6JI3"
      },
      "source": [
        "Data Storing\n",
        "\n",
        "\n",
        " - lists: generic container - allow for numeric indexing\n",
        " - tuples: immutable lists\n",
        " - dictionaries: keys act as indices - keys must be unique\n",
        " - sets: group of unique elements"
      ]
    },
    {
      "cell_type": "code",
      "metadata": {
        "id": "r3_fTgQqb_Ih",
        "colab": {
          "base_uri": "https://localhost:8080/"
        },
        "outputId": "40fd7b58-2343-4ee2-dc77-89803e71c2ac"
      },
      "source": [
        "same_type_list = [1, 3, 4, 89, 23, 43, 90]\n",
        "diff_type_list = [1, 3, \"hello\", 4.9, \"c\"]\n",
        "\n",
        "print(same_type_list[3])\n",
        "print(len(same_type_list))\n",
        "\n",
        "same_type_list[0] = \"I'm new\"\n",
        "print(same_type_list)"
      ],
      "execution_count": 17,
      "outputs": [
        {
          "output_type": "stream",
          "name": "stdout",
          "text": [
            "89\n",
            "7\n",
            "[\"I'm new\", 3, 4, 89, 23, 43, 90]\n"
          ]
        }
      ]
    },
    {
      "cell_type": "code",
      "metadata": {
        "id": "iChZqwAqcJAO",
        "colab": {
          "base_uri": "https://localhost:8080/"
        },
        "outputId": "1f11734a-ea89-4e92-ba07-4c434bb9900e"
      },
      "source": [
        "new_list = same_type_list + diff_type_list\n",
        "print(new_list)"
      ],
      "execution_count": 24,
      "outputs": [
        {
          "output_type": "stream",
          "name": "stdout",
          "text": [
            "[\"I'm new\", 3, 4, 89, 23, 43, 90, 1, 3, 'hello', 4.9, 'c']\n"
          ]
        }
      ]
    },
    {
      "cell_type": "code",
      "metadata": {
        "id": "f1Yy_fwUcLEc",
        "colab": {
          "base_uri": "https://localhost:8080/"
        },
        "outputId": "99eb95b8-8175-4083-dcaa-f0bdf47bd4cc"
      },
      "source": [
        "new_list_2 = [\"hi\", \"hello\"] * 2\n",
        "print(new_list_2)"
      ],
      "execution_count": 25,
      "outputs": [
        {
          "output_type": "stream",
          "name": "stdout",
          "text": [
            "['hi', 'hello', 'hi', 'hello']\n"
          ]
        }
      ]
    },
    {
      "cell_type": "code",
      "metadata": {
        "id": "zN5dQvkrcNUa",
        "colab": {
          "base_uri": "https://localhost:8080/"
        },
        "outputId": "2f561610-1b8b-4584-b888-acd370f685f8"
      },
      "source": [
        "same_type_tuple = (1, 10, 7)\n",
        "diff_type_tuple = (1, 2, \"foo\")\n",
        "\n",
        "print(diff_type_tuple[2])\n",
        "print(same_type_tuple[1])\n",
        "\n",
        "# same_type_tuple[0] = 3"
      ],
      "execution_count": 29,
      "outputs": [
        {
          "output_type": "stream",
          "name": "stdout",
          "text": [
            "foo\n",
            "10\n"
          ]
        }
      ]
    },
    {
      "cell_type": "code",
      "metadata": {
        "id": "m3e4VQOhco5k",
        "colab": {
          "base_uri": "https://localhost:8080/"
        },
        "outputId": "83a770f5-be87-422e-f8fa-c150b693e934"
      },
      "source": [
        "# some more list/tuple functions\n",
        "\n",
        "print(max(same_type_tuple))\n",
        "print(min(same_type_tuple))\n",
        "print(sorted(same_type_tuple))\n",
        "\n",
        "#print(min(same_type_list))"
      ],
      "execution_count": 30,
      "outputs": [
        {
          "output_type": "stream",
          "name": "stdout",
          "text": [
            "10\n",
            "1\n",
            "[1, 7, 10]\n"
          ]
        }
      ]
    },
    {
      "cell_type": "code",
      "metadata": {
        "id": "eFLbsSkLcS1s",
        "colab": {
          "base_uri": "https://localhost:8080/"
        },
        "outputId": "3cd2f488-daf1-4bce-a2fc-f9eeeb0fc1b0"
      },
      "source": [
        "my_dict = {\"student1\": \"Alice\", \"student2\": \"Bob\", \"student3\": \"Rachel\"}\n",
        "\n",
        "print(my_dict[\"student1\"])\n",
        "# print(my_dict[0])\n",
        "# print(my_dict[\"student4\"])\n",
        "print(my_dict.get(\"student4\", \"student does not exist\"))"
      ],
      "execution_count": 39,
      "outputs": [
        {
          "output_type": "stream",
          "name": "stdout",
          "text": [
            "Alice\n",
            "student does not exist\n"
          ]
        }
      ]
    },
    {
      "cell_type": "code",
      "metadata": {
        "id": "mugMOPnBchZL",
        "colab": {
          "base_uri": "https://localhost:8080/",
          "height": 35
        },
        "outputId": "110dc4c7-a7a7-486c-8a0e-f79c8b0d9168"
      },
      "source": [
        "my_dict[\"student1\"] = \"Billy\"\n",
        "print(my_dict)"
      ],
      "execution_count": null,
      "outputs": [
        {
          "output_type": "stream",
          "text": [
            "{'student1': 'Billy', 'student2': 'Bob', 'student3': 'Rachel'}\n"
          ],
          "name": "stdout"
        }
      ]
    },
    {
      "cell_type": "code",
      "metadata": {
        "id": "z2MU9sJlcjj_",
        "colab": {
          "base_uri": "https://localhost:8080/"
        },
        "outputId": "a6128ace-456a-4561-eb53-5e3f52336b5d"
      },
      "source": [
        "my_set = {\"obj1\", \"obj2\", \"obj3\"}\n",
        "print(my_set)\n",
        "#print(my_set[1])"
      ],
      "execution_count": 33,
      "outputs": [
        {
          "output_type": "stream",
          "name": "stdout",
          "text": [
            "{'obj3', 'obj2', 'obj1'}\n"
          ]
        }
      ]
    },
    {
      "cell_type": "code",
      "metadata": {
        "id": "qrA3WPXobCKa",
        "colab": {
          "base_uri": "https://localhost:8080/"
        },
        "outputId": "d967e3d8-d985-4884-aee1-0717cd9aa5b8"
      },
      "source": [
        "# use of random in selecting data from dictionaries\n",
        "\n",
        "import random\n",
        "countries = {'VENEZUELA':'CARACAS', 'CANADA':'OTTAWA'}\n",
        "bex = random.choice(list(countries))\n",
        "print(bex)"
      ],
      "execution_count": 47,
      "outputs": [
        {
          "output_type": "stream",
          "name": "stdout",
          "text": [
            "VENEZUELA\n"
          ]
        }
      ]
    },
    {
      "cell_type": "markdown",
      "metadata": {
        "id": "0LQGSXf3C0CG"
      },
      "source": [
        "More about Random: https://docs.python.org/3/library/random.html"
      ]
    },
    {
      "cell_type": "code",
      "metadata": {
        "id": "ExQUsiQ2au2m",
        "colab": {
          "base_uri": "https://localhost:8080/",
          "height": 52
        },
        "outputId": "d6d1ae99-e86a-48b5-c192-76e08f90198e"
      },
      "source": [
        "some_array = [[[64,64,32],\n",
        "                 [22,23,24]],\n",
        "                [[64,4,32],\n",
        "                 [22,3,24]]\n",
        "               ]\n",
        "some_array = np.asarray(some_array)\n",
        "print(some_array.shape)\n",
        "\n",
        "another_array = list(range(3))\n",
        "print(another_array)"
      ],
      "execution_count": null,
      "outputs": [
        {
          "output_type": "stream",
          "text": [
            "(2, 2, 3)\n",
            "[0, 1, 2]\n"
          ],
          "name": "stdout"
        }
      ]
    },
    {
      "cell_type": "markdown",
      "metadata": {
        "id": "ZRxioqko6hcZ"
      },
      "source": [
        "Filtering Lists\n",
        "\n",
        "1. Slicing and Dicing\n",
        "2. List comprehensions"
      ]
    },
    {
      "cell_type": "code",
      "metadata": {
        "id": "JWmpXvsNfzaa",
        "colab": {
          "base_uri": "https://localhost:8080/",
          "height": 70
        },
        "outputId": "8410f54b-e53c-4785-d86a-e0e8416ef054"
      },
      "source": [
        "# slicing & dicing\n",
        "# general format: sliced_list = [start_idx : end_idx+1 : step]\n",
        "\n",
        "some_list = [2, 5, 2, 45, 7, 9, 76, 80, 21, 53]\n",
        "print(some_list[5:])\n",
        "print(some_list[:3])\n",
        "print(some_list[3:9:2])"
      ],
      "execution_count": null,
      "outputs": [
        {
          "output_type": "stream",
          "text": [
            "[9, 76, 80, 21, 53]\n",
            "[2, 5, 2]\n",
            "[45, 9, 80]\n"
          ],
          "name": "stdout"
        }
      ]
    },
    {
      "cell_type": "markdown",
      "metadata": {
        "id": "o0wWFV90gJqZ"
      },
      "source": [
        "Slicing with 2D and 3D arrays\n",
        "\n",
        "3D arrays are indexed across the 3 dimensions as follows:\n",
        "\n",
        "![3D array](https://github.com/Aithusa712/GoogleColab/blob/main/Rec_0A_Fundamentals_of_Python/3d-array-stack.png?raw=1)\n",
        "\n",
        "Where if you consider your 3D array to be a stack of matrices, i selects the matrix, j selects the row in that matrix and k selects the column in that matrix."
      ]
    },
    {
      "cell_type": "code",
      "metadata": {
        "id": "gHVjdegOgJRs",
        "colab": {
          "base_uri": "https://localhost:8080/",
          "height": 212
        },
        "outputId": "376186d7-86ea-4d18-a40b-6956e9e24713"
      },
      "source": [
        "# slicing 3D array examples:\n",
        "\n",
        "three_d_array = np.array([[[10, 11, 12], [13, 14, 15], [16, 17, 18]],\n",
        "               [[20, 21, 22], [23, 24, 25], [26, 27, 28]],\n",
        "               [[30, 31, 32], [33, 34, 35], [36, 37, 38]]])\n",
        "\n",
        "print(three_d_array)"
      ],
      "execution_count": null,
      "outputs": [
        {
          "output_type": "stream",
          "text": [
            "[[[10 11 12]\n",
            "  [13 14 15]\n",
            "  [16 17 18]]\n",
            "\n",
            " [[20 21 22]\n",
            "  [23 24 25]\n",
            "  [26 27 28]]\n",
            "\n",
            " [[30 31 32]\n",
            "  [33 34 35]\n",
            "  [36 37 38]]]\n"
          ],
          "name": "stdout"
        }
      ]
    },
    {
      "cell_type": "code",
      "metadata": {
        "id": "kpYtd9rcg3ok",
        "colab": {
          "base_uri": "https://localhost:8080/",
          "height": 35
        },
        "outputId": "3622ab51-1501-4178-efa1-582fc8e6bcb6"
      },
      "source": [
        "# ------------ selecting a row ------------\n",
        "# you want to specify the matrix, then the row\n",
        "\n",
        "print(three_d_array[0,2]) # matrix 0, row 2\n",
        "# print(three_d_array[0:2])"
      ],
      "execution_count": null,
      "outputs": [
        {
          "output_type": "stream",
          "text": [
            "[16 17 18]\n"
          ],
          "name": "stdout"
        }
      ]
    },
    {
      "cell_type": "code",
      "metadata": {
        "id": "nNTB1p4Qg5V1",
        "colab": {
          "base_uri": "https://localhost:8080/",
          "height": 35
        },
        "outputId": "b5c82cc5-8812-45b8-cbe2-e52bf8a50ae4"
      },
      "source": [
        "# ------------ selecting a column ------------\n",
        "# you want to specify the matrix, ignore the row, and then specify the column\n",
        "\n",
        "print(three_d_array[1, :, 1]) # matrix 1, column 1"
      ],
      "execution_count": null,
      "outputs": [
        {
          "output_type": "stream",
          "text": [
            "[21 24 27]\n"
          ],
          "name": "stdout"
        }
      ]
    },
    {
      "cell_type": "code",
      "metadata": {
        "id": "madPCU5dg88N",
        "colab": {
          "base_uri": "https://localhost:8080/",
          "height": 70
        },
        "outputId": "3757fc3e-ddb3-47f5-9f1a-db9a1f434758"
      },
      "source": [
        "# ------------ selecting a matrix ------------\n",
        "\n",
        "print(three_d_array[2]) # matrix 2"
      ],
      "execution_count": null,
      "outputs": [
        {
          "output_type": "stream",
          "text": [
            "[[30 31 32]\n",
            " [33 34 35]\n",
            " [36 37 38]]\n"
          ],
          "name": "stdout"
        }
      ]
    },
    {
      "cell_type": "code",
      "metadata": {
        "id": "WbMG5Ul1g_Qd",
        "colab": {
          "base_uri": "https://localhost:8080/",
          "height": 35
        },
        "outputId": "036e5a4a-9d8d-4839-ea8f-3780f71df469"
      },
      "source": [
        "# ------------ creating a row across matrices ------------\n",
        "print(three_d_array[:, 1, 2]) # for every matrix, row 1, column 2"
      ],
      "execution_count": null,
      "outputs": [
        {
          "output_type": "stream",
          "text": [
            "[15 25 35]\n"
          ],
          "name": "stdout"
        }
      ]
    },
    {
      "cell_type": "code",
      "metadata": {
        "id": "xa68z36WhBCW",
        "colab": {
          "base_uri": "https://localhost:8080/",
          "height": 70
        },
        "outputId": "45fad07e-e529-4e08-e848-52fd47aaa05f"
      },
      "source": [
        "# ------------ creating a matrix from rows ------------\n",
        "print(three_d_array[:, 1]) # for every matrix, row 1"
      ],
      "execution_count": null,
      "outputs": [
        {
          "output_type": "stream",
          "text": [
            "[[13 14 15]\n",
            " [23 24 25]\n",
            " [33 34 35]]\n"
          ],
          "name": "stdout"
        }
      ]
    },
    {
      "cell_type": "code",
      "metadata": {
        "id": "1UNEAbf2hEP0",
        "colab": {
          "base_uri": "https://localhost:8080/",
          "height": 70
        },
        "outputId": "7efe2ff1-b948-4a79-edab-555060e23653"
      },
      "source": [
        "# ------------ creating a matrix from columns ------------\n",
        "print(three_d_array[:, :, 1]) # for every matrix, for every row, column 1"
      ],
      "execution_count": null,
      "outputs": [
        {
          "output_type": "stream",
          "text": [
            "[[11 14 17]\n",
            " [21 24 27]\n",
            " [31 34 37]]\n"
          ],
          "name": "stdout"
        }
      ]
    },
    {
      "cell_type": "markdown",
      "metadata": {
        "id": "Awiwx-9phG4j"
      },
      "source": [
        "You can also slice within rows, columns and matrices in a 3D array, the same way you would in 1D arrays."
      ]
    },
    {
      "cell_type": "code",
      "metadata": {
        "id": "eBt6ZT26hJaa",
        "colab": {
          "base_uri": "https://localhost:8080/",
          "height": 35
        },
        "outputId": "c3542056-da16-4f47-d579-8fa86b8e3b6b"
      },
      "source": [
        "# list comprehensions\n",
        "# general format: new_list = [expression for_loop_one_or_more condtions]\n",
        "\n",
        "res = [num for num in same_type_list if isinstance(num, int) and num>0]\n",
        "print(res)"
      ],
      "execution_count": null,
      "outputs": [
        {
          "output_type": "stream",
          "text": [
            "[3, 4, 89, 23, 43, 90]\n"
          ],
          "name": "stdout"
        }
      ]
    },
    {
      "cell_type": "code",
      "metadata": {
        "id": "5cy_Ub4xhNDd",
        "colab": {
          "base_uri": "https://localhost:8080/",
          "height": 52
        },
        "outputId": "99195225-e3e0-49b3-aa4e-ba0f5c37603a"
      },
      "source": [
        "%%timeit\n",
        "\n",
        "res2 = []\n",
        "res2 = [i for i in range(500)]"
      ],
      "execution_count": null,
      "outputs": [
        {
          "output_type": "stream",
          "text": [
            "The slowest run took 5.41 times longer than the fastest. This could mean that an intermediate result is being cached.\n",
            "100000 loops, best of 3: 15.7 µs per loop\n"
          ],
          "name": "stdout"
        }
      ]
    },
    {
      "cell_type": "code",
      "metadata": {
        "id": "9VYsHr5phO8Q",
        "colab": {
          "base_uri": "https://localhost:8080/",
          "height": 35
        },
        "outputId": "25df7e14-a1e9-4e3b-e188-0338cdc7feef"
      },
      "source": [
        "%%timeit\n",
        "\n",
        "res3 = []\n",
        "for i in range(500):\n",
        "    res3.append(i)"
      ],
      "execution_count": null,
      "outputs": [
        {
          "output_type": "stream",
          "text": [
            "10000 loops, best of 3: 32.5 µs per loop\n"
          ],
          "name": "stdout"
        }
      ]
    },
    {
      "cell_type": "markdown",
      "metadata": {
        "id": "FcvjZCWG6leq"
      },
      "source": [
        "# Classes\n",
        "\n",
        "You'll use classes extensively in the homeworks in this course. You will need classes for defining your models as well as your datasets. We'll consider an example of implementing the dataset class here."
      ]
    },
    {
      "cell_type": "code",
      "metadata": {
        "id": "Mc85weLphWqB"
      },
      "source": [
        "from torch.utils.data import Dataset\n",
        "\n",
        "class MyDataset(Dataset):\n",
        "    def __init__(self, x, y):\n",
        "        self.x = x\n",
        "        self.y = y\n",
        "\n",
        "    def __getitem__(self, index):\n",
        "        return (self.x[index], self.y[index])\n",
        "\n",
        "    def __len__(self):\n",
        "        return len(self.x)"
      ],
      "execution_count": null,
      "outputs": []
    },
    {
      "cell_type": "markdown",
      "metadata": {
        "id": "i-JZ2srm6wMy"
      },
      "source": [
        "# Debugging\n",
        "\n",
        "You'll we extensively using pdb for debugging across the entire semester, especially in Part 2s. Few useful debugging shortcuts:\n",
        "\n",
        "* n - next statement (excludes function calls)\n",
        "* s - step into (includes function calls)\n",
        "* q - quit\n",
        "* b - breakpoints\n",
        "\n",
        "You can read more about pdb and its commands here https://docs.python.org/3/library/pdb.html"
      ]
    },
    {
      "cell_type": "code",
      "metadata": {
        "id": "x1WXq43UhmLh"
      },
      "source": [
        "# notice the use of \"n\", \"s\", \"c\" when pdb sets the trace.\n",
        "# If \"s\" is commanded, it would go inside the set_trace() method\n",
        "# If you need to step out, just command \"c\"\n",
        "\n",
        "import pdbn\n",
        "for i in range(3):\n",
        "    pdb.set_trace()\n",
        "    print(\"this is iteration \" + str(i))"
      ],
      "execution_count": null,
      "outputs": []
    },
    {
      "cell_type": "code",
      "metadata": {
        "id": "F-DhbyGiaGyl"
      },
      "source": [],
      "execution_count": null,
      "outputs": []
    }
  ]
}