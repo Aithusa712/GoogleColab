{
  "cells": [
    {
      "cell_type": "markdown",
      "metadata": {
        "id": "ZdDimpLi2_nI"
      },
      "source": [
        "# **ICT303 - Advanced Machine Learning and Artificial Intelligence**\n",
        "# **Lab 3 - Perceptron and Multilayer Perceptron**\n",
        "\n",
        "The goal of this lab is to learn how to implement, in a concise way, Linear Regression, Classification, Perceptron and Multilayer Perceptron.\n",
        "\n",
        "We will first revisit our implementation of the linear regression (linear neuron) model and re-solve it using optimization.\n"
      ]
    },
    {
      "cell_type": "markdown",
      "metadata": {
        "id": "RNeECLiQOUgc"
      },
      "source": [
        "## **1. Solving Linear Regression using Optimization Algorithms**\n",
        "\n",
        "In the previous tutorial, we  tried to implement from scratch the analytical (closed-form) solution of the linear regression model. In this tutorial, we will use high level deep learning APIs (PyTorch in our case) for its implementation.\n",
        "\n",
        "Also, instead of implementing the analytical form, we will implement the optmization-based method, using optimizers such as the Gradient Descent Algorithm (SGD) or Adam, which are the most commonly used in deep learning.  \n",
        "\n",
        "First, we need to import the necessary packages:"
      ]
    },
    {
      "cell_type": "code",
      "execution_count": 1,
      "metadata": {
        "id": "qgVb8EB1lxFz"
      },
      "outputs": [],
      "source": [
        "import numpy as np\n",
        "import torch\n",
        "from torch import nn"
      ]
    },
    {
      "cell_type": "markdown",
      "metadata": {
        "id": "wnQjlBncnIS7"
      },
      "source": [
        "### **1.1. Defining the model**\n",
        "\n",
        "PyTorch provides a base Neural Network module called **Module** and is part of the library **nn**. Think about it as a template. Every neural network you define should extend this class and implement the necessary methods.\n",
        "\n",
        "In the case of linear regression (simple linear neuron), we define a class called  **LinearRegression** that extends **nn.Module**.\n",
        "\n",
        "The minimal implementation should contains the following methods (the first two have already been covered in the previous tutorial):\n",
        "- The constructor **__init__**\n",
        "- The **forward()** method - used to make a forward pass through the network. In other words, this method takes an input and evaluates the network's output for that input sample,\n",
        "- The method **loss**, which defines the loss function, and\n",
        "- The method **configure_optimizers()**, which sets the type of  optimization (i.e., training) algorithm to use to estimate the parameters of the model.\n",
        "\n",
        "\n"
      ]
    },
    {
      "cell_type": "code",
      "execution_count": 2,
      "metadata": {
        "id": "ot8TMZN-LCXv"
      },
      "outputs": [],
      "source": [
        "class LinearRegression(nn.Module):\n",
        "\n",
        "    ## This is the constructor of the class\n",
        "    def __init__(self, inputSize, outputSize, lr):\n",
        "        super().__init__()\n",
        "\n",
        "        self.lr = lr # the learning rate\n",
        "\n",
        "        # The network is just a linear model\n",
        "        self.net = nn.Linear(inputSize, outputSize)\n",
        "\n",
        "    ## The forward step\n",
        "    def forward(self, X):\n",
        "      # Computes the output given the input X\n",
        "      return self.net(X)\n",
        "\n",
        "    ## The loss function - Here it is the Mean Square Error\n",
        "    #  It measures the difference between the network output\n",
        "    #  and the desired (groundtruth) output\n",
        "    def loss(self, y_hat, y):\n",
        "      fn = nn.MSELoss()\n",
        "      return fn(y_hat, y)\n",
        "\n",
        "    ## The optimization algorithm\n",
        "    #  Let's use the stochastic gradient descent (SGD)\n",
        "    def configure_optimizers(self):\n",
        "      return torch.optim.SGD(self.parameters(), self.lr)\n"
      ]
    },
    {
      "cell_type": "markdown",
      "metadata": {
        "id": "mAckao9pWhIc"
      },
      "source": [
        "Let's discuss each method in detail.\n",
        "\n"
      ]
    },
    {
      "cell_type": "markdown",
      "metadata": {
        "id": "PGzlc-JVWrLT"
      },
      "source": [
        "#### **1.1.1. The constructor**\n",
        "\n",
        "The role of the constructor `__init__` is to define the architecture of the neural network and set some of the hyper parameters.\n",
        "\n",
        "In this example, our network is just a linear neuron that takes a certain number of inputs and produces a certain nunmber of outputs. PyTorch provides a class `nn.Linear` that implements this:\n",
        "```\n",
        "# Creating a simple linear neuron with takes inputSize inputs and produces outputSize output. The created neuron is saved in self.net\n",
        "self.net = nn.Linear(inputSize, outputSize)\n",
        "```\n",
        "In this example, we have only one hyper parameter, which is the learning rate `lr`:\n",
        "\n",
        "```\n",
        "# Setting the learning rate\n",
        "self.lr = lr\n",
        "```\n",
        "\n",
        "Thus, the constructor `__init__` needs to have as input the `inputSize`, the `outputSize` and the learning rate `lr`.\n"
      ]
    },
    {
      "cell_type": "markdown",
      "metadata": {
        "id": "BtXPGi4JWzpD"
      },
      "source": [
        "#### **1.1.2. The foward method**\n",
        "\n",
        "The role of the forward method is to take an input `X`, pass it to the network and return its output. out network is `self.net`. Thus, inside the forward methid, we only need to call `self.net` and with `X` as its input:\n",
        "\n",
        "```\n",
        "def forward(self, X):\n",
        "  # Computes the output given the input X\n",
        "  return self.net(X)\n",
        "```\n",
        "\n"
      ]
    },
    {
      "cell_type": "markdown",
      "metadata": {
        "id": "IvLfGkOyW2n8"
      },
      "source": [
        "#### **1.1.3. Defining the loss function**\n",
        "\n",
        "The role of the loss function to measure the error between the output produced by the neural network `self.net` and the groundtruth (i.e., the desired output).\n",
        "\n",
        "It has two inputs:\n",
        "- the actual output of the network `y_hat` and\n",
        "- the desired output `y`.\n",
        "\n",
        "It should than define which type of loss function will be used and then calls this function to compute the error between `y` and `y_hat`:\n",
        "\n",
        "```\n",
        "def loss(self, y_hat, y):\n",
        "      fn = nn.MSELoss(). # Here we will use the mean square error\n",
        "      return fn(y_hat, y) # computes the error and returns it\n",
        "```"
      ]
    },
    {
      "cell_type": "markdown",
      "metadata": {
        "id": "ej6DQ9bwW9l7"
      },
      "source": [
        "#### **1.1.4. Choosing the optimizer**\n",
        "\n",
        "The last thing is to configure the optimizer. This is done inside the method `configure_optimizers`. In this example, we will use the Stochastic Gradient Descent (SGD) algorithm, which needs as parameter the learning rate `self.lr`:\n",
        "\n",
        "```\n",
        "def configure_optimizers(self):\n",
        "      return torch.optim.SGD(self.parameters(), self.lr)\n",
        "```\n"
      ]
    },
    {
      "cell_type": "markdown",
      "metadata": {
        "id": "Lj1VAEwmpx4q"
      },
      "source": [
        "### **1.2. Preparing training data**\n",
        "\n",
        "To train and test the model, we need data. One option is to collect real data but usually this is time consuming. Alternatively, one can use synthetic data, i.e., data simulated by computer.\n",
        "\n",
        "To generate synthetic data, we will use the class **SyntheticRegressionData** that we created in the previous lab. Teh class is reproduced here for completeness.\n",
        "\n",
        "Note that I added a few methods to facilitate its usage."
      ]
    },
    {
      "cell_type": "code",
      "execution_count": 3,
      "metadata": {
        "id": "gBGuEj3up4ET"
      },
      "outputs": [],
      "source": [
        "class SyntheticRegressionData:\n",
        "\n",
        "  # Implement the constructor of the class\n",
        "  # We can assume that the constructor also generates some initial data\n",
        "  def __init__(self): #, w, b, mu = 0.0, sigma = 1.0, noise=0.01, num_train=1000):\n",
        "    # Generate num_train random samples following Gaussian distribution\n",
        "    # of mean mu and standard deviation sigma.\n",
        "    # [self.X, self.y ] = self.generate(mu, sigma, noise, num_train)\n",
        "    self.n = 0;\n",
        "    self.w = []\n",
        "    self.b = []\n",
        "\n",
        "  def generate(self, w, b, mu = 0.0, sigma = 1.0, noise=0.01, num_train=1000):\n",
        "\n",
        "    self.n = num_train   # no. of trianing samples\n",
        "    self.w = w\n",
        "    self.b = b\n",
        "\n",
        "    self.mu = mu\n",
        "    self.sigma = sigma\n",
        "\n",
        "    # Generate num_train random samples following Gaussian distribution\n",
        "    # of mean mu and standard deviation sigma.\n",
        "    self.X = mu +  torch.randn(len(self.w), self.n) * sigma\n",
        "\n",
        "    # Let's corrupt the data with some random noise\n",
        "    noise = torch.randn(1, self.n) * noise\n",
        "\n",
        "    # For each sample in X, generate its corresponding y value\n",
        "    # using the equation above.\n",
        "    # Note below that the function reshape has parameters (-1, 1).\n",
        "    # This means that it will reshape the vector w into a 2D matrix where:\n",
        "    # - the 2nd dimension has length 1\n",
        "    # - the length of the first dimension will be autmatically set.\n",
        "    #\n",
        "    self.y = torch.matmul(w.reshape((-1, )), self.X) + b + noise\n",
        "    self.y = torch.transpose(self.y, 0, 1)\n",
        "\n",
        "    return self.X, self.y\n",
        "\n",
        "  def dim(self):\n",
        "    # Return the dimension of the input data\n",
        "    return self.X.size(dim=0)\n",
        "\n",
        "  def dimOutput(self):\n",
        "    return self.y.size(dim=1)"
      ]
    },
    {
      "cell_type": "markdown",
      "metadata": {
        "id": "F71_QAGnpaAi"
      },
      "source": [
        "### **1.3. Training process**\n",
        "\n",
        "Here, we need to update the **Trainer** that we created in the last lab. In particular, the important method of this class is the method ***fit()***, which finds the best parameters of the model given the training data. It has as input:\n",
        "- The machine learning model **model**. In our case, this will be an instance of the class **LinearRegression**\n",
        "- The training **data**. The data should include input samples (**data.X**) and their corresponding desired (groundtruth) output (**data.Y**). The latter is often referred to as labels. Note that in the example below, I am assuming that each column of **data.X** is a data sample (following the convention we had in the lecture and in the previoous lab).\n",
        "\n",
        "\n",
        "The method **fit** will then iterate `max_epochs` times. At each iteration, it will call the method **fit_epoch**  whose role is to:\n",
        "- Go through all the input data, feed them to the network and collect the computed output\n",
        "- Compare, using the loss function, the discrepancy between the computed output and the groundtruth output\n",
        "- Compute the gradient of the loss function and backpropagate it to all the layers of the network using the function `loss.backward()`,\n",
        "- Update the values of the network parameters using the function `self.optimizer.step()`.\n",
        "\n",
        "Note that prior to the computation of the loss and gradient, we had to call the function `self.optimizer.zero_grad()`. This clears gradient buffers because we do not want any gradient from previous epoch to carry forward.\n",
        "\n",
        "The entire code of the class is given below. Note that we also provide here the function `fit_naive`, which is the implementation we did last week."
      ]
    },
    {
      "cell_type": "code",
      "execution_count": 4,
      "metadata": {
        "id": "50SFTmQmriLS"
      },
      "outputs": [],
      "source": [
        "class Trainer:\n",
        "\n",
        "  # The constructor of the class\n",
        "  # It is used to set some basic training parameters (e.g., no. of epochs)\n",
        "  def __init__(self, n_epochs = 3):\n",
        "    self.max_epochs = n_epochs\n",
        "    return\n",
        "\n",
        "  # Training method: it uses iterative optimization\n",
        "  #  This one is generic, i.e., it should work with any regresssion (linear or non-linear)\n",
        "  def fit(self, model, data):\n",
        "\n",
        "    # configure the optimizer\n",
        "    self.optimizer = model.configure_optimizers()\n",
        "\n",
        "    # Store the model as an instance variable\n",
        "    self.model = model\n",
        "\n",
        "    for epoch in range(self.max_epochs):\n",
        "      self.fit_epoch(data)\n",
        "\n",
        "  def fit_epoch(self, data):\n",
        "    inputs = torch.transpose(data.X, 0, 1) # this makes each row as a data sample\n",
        "    labels = data.y\n",
        "\n",
        "    # Clear gradient buffers because we don't want any gradient from previous\n",
        "    # epoch to carry forward, dont want to cummulate gradients\n",
        "    self.optimizer.zero_grad()\n",
        "\n",
        "    # get output from the model, given the inputs\n",
        "    outputs = self.model(inputs)\n",
        "\n",
        "    # get loss for the predicted output\n",
        "    loss = self.model.loss(outputs, labels)\n",
        "\n",
        "    # get gradients w.r.t the parameters of the model\n",
        "    loss.backward()\n",
        "\n",
        "    # update the parameters\n",
        "    self.optimizer.step()\n",
        "\n",
        "  # Training method - Previous implementation (previous lab)\n",
        "  #  This is the naive implementation, included here for comparison\n",
        "  #  Only works with nonlinear regression\n",
        "  def fit_naive(self, model, data):\n",
        "    # 2.1. Add 1 at the end of X\n",
        "    ones = torch.ones(1, data.n)  # a column vector of ones\n",
        "    X = torch.cat((data.X, ones), 0)\n",
        "\n",
        "    # 2.2. The solution\n",
        "    A = torch.matmul(X, torch.transpose(X, 0, 1))\n",
        "    # A should be of size num_train x num_train. To check it, uncomment the following\n",
        "    # print(A.size())\n",
        "\n",
        "    B = torch.matmul(torch.inverse(A), X) #torch.transpose(X, 0, 1))\n",
        "    # print(B.size())\n",
        "\n",
        "    w_estimated = torch.matmul(B, data.y)\n",
        "    # print(w_estimated .size())\n",
        "\n",
        "    model.w = w_estimated[0:-1]    # get all the elements except the last one\n",
        "    model.b = w_estimated[-1:]     # last element\n"
      ]
    },
    {
      "cell_type": "markdown",
      "metadata": {
        "id": "qnyx2h9wxdSd"
      },
      "source": [
        "### **1.4. Putting all things together**\n",
        "\n",
        "Now that we have all classes in places, we need to write the main program that uses these classes to:\n",
        "- Create synthetic data,\n",
        "- Define the machine learning mdoel (Linear Regression in our case),\n",
        "- Train the model,\n",
        "- Evaluate its performance."
      ]
    },
    {
      "cell_type": "code",
      "execution_count": null,
      "metadata": {
        "colab": {
          "base_uri": "https://localhost:8080/"
        },
        "id": "bPnfjXotp7sj",
        "outputId": "05143614-1575-4acb-d6f6-aab45ab2c0ce"
      },
      "outputs": [
        {
          "output_type": "stream",
          "name": "stdout",
          "text": [
            "X shape: torch.Size([1, 1000])\n",
            "y shape: torch.Size([1000, 1])\n"
          ]
        }
      ],
      "source": [
        "data_generator = SyntheticRegressionData()\n",
        "w = torch.tensor([2.0])\n",
        "b = 5.0\n",
        "X, y = data_generator.generate(w=w, b=b, num_train=1000)\n",
        "print(\"X shape:\", X.shape)\n",
        "print(\"y shape:\", y.shape)\n"
      ]
    },
    {
      "cell_type": "markdown",
      "metadata": {
        "id": "7ZcytBVayldT"
      },
      "source": [
        "**Questions:**\n",
        "- What are the parameters of the model?\n",
        "- What are the hyper parameters of the model?"
      ]
    },
    {
      "cell_type": "markdown",
      "metadata": {
        "id": "gmaG99LzzCoj"
      },
      "source": [
        "**Answers**\n",
        "### Model Parameters\n",
        "\n",
        "These are **learnable weights** updated during training:\n",
        "\n",
        "1. **Weights (`w`) and Bias (`b`)** of the linear model:\n",
        "\n",
        "   * Defined within `self.net = nn.Linear(inputSize, outputSize)` inside the `LinearRegression` class.\n",
        "   * Accessible via `model.parameters()`.\n",
        "   * Learned during training using backpropagation and gradient descent.\n",
        "\n",
        "---\n",
        "\n",
        "### Model Hyperparameters\n",
        "\n",
        "These are **manually set values** that control the training process or model architecture:\n",
        "\n",
        "1. **`inputSize` and `outputSize`** (in `LinearRegression.__init__`)\n",
        "\n",
        "   * Define the dimensions of the model.\n",
        "\n",
        "2. **Learning Rate (`lr`)**:\n",
        "\n",
        "   * Passed to the model and used in `torch.optim.SGD(self.parameters(), self.lr)`.\n",
        "\n",
        "3. **Number of Epochs (`n_epochs`)**:\n",
        "\n",
        "   * Set in the `Trainer` class during initialization (`Trainer(n_epochs=3)` by default).\n",
        "\n",
        "4. **Synthetic Data Generation Settings**:\n",
        "\n",
        "   * In `generate()` method of `SyntheticRegressionData`:\n",
        "\n",
        "     * `mu`, `sigma`: Mean and standard deviation for Gaussian distribution.\n",
        "     * `noise`: Noise level added to `y`.\n",
        "     * `num_train`: Number of training samples.\n",
        "     * `w` and `b`: True values used to generate synthetic data (ground truth).\n",
        "\n",
        "---\n",
        "\n",
        "### Summary Table\n",
        "\n",
        "| Category             | Items                                                                            |\n",
        "| -------------------- | -------------------------------------------------------------------------------- |\n",
        "| **Model Parameters** | `self.net.weight`, `self.net.bias`                                               |\n",
        "| **Hyperparameters**  | `inputSize`, `outputSize`, `lr`, `n_epochs`, `mu`, `sigma`, `noise`, `num_train` |\n",
        "\n",
        "Let me know if you want the hyperparameters grouped for training vs. data generation.\n"
      ]
    },
    {
      "cell_type": "markdown",
      "metadata": {
        "id": "3DD5v01akUbh"
      },
      "source": [
        "### **1.3. Exercise 1**\n",
        "\n",
        "Try to change the number of epochs, by starting with a small value, e.g., 2 and then increase it to 10, 50, 75 and 100. Then observe the effect on the result.\n",
        "\n",
        "Now, set the maximum number of epochs to 100 and\n",
        "- vary the number of traning samples, from a small number to a large one, and observe the results.\n",
        "- vary the learning rate, e.g., by trying small values and large values. What do you observe?"
      ]
    },
    {
      "cell_type": "markdown",
      "metadata": {
        "id": "FnU4Bx5izCoj"
      },
      "source": [
        "Below is a step-by-step analysis for each experiment using the code you shared.\n",
        "\n",
        "## Step 1: Vary Number of Epochs\n",
        "\n",
        "Set different values for `n_epochs` in:\n",
        "\n",
        "```python\n",
        "trainer = Trainer(n_epochs=...)\n",
        "```\n",
        "\n",
        "### Values to try: `2`, `10`, `50`, `75`, `100`\n",
        "\n",
        "### What to Observe:\n",
        "\n",
        "* Track **training loss** across epochs.\n",
        "* You should see:\n",
        "\n",
        "  * At **2 epochs**: The model may underfit (high loss, predictions off).\n",
        "  * At **10–50 epochs**: Loss decreases, predictions become more accurate.\n",
        "  * At **75–100 epochs**: May reach convergence (loss flattens).\n",
        "\n",
        "### Expected Outcome:\n",
        "\n",
        "* **Increasing epochs** generally improves performance up to a point.\n",
        "* Beyond a certain number (e.g., 75–100), the improvement slows — diminishing returns.\n",
        "\n",
        "---\n",
        "\n",
        "## Step 2: Vary Number of Training Samples\n",
        "\n",
        "Set different values in:\n",
        "\n",
        "```python\n",
        "X, y = data_generator.generate(w=w, b=b, num_train=...)\n",
        "```\n",
        "\n",
        "### Values to try: `10`, `100`, `1000`, `5000`\n",
        "\n",
        "### What to Observe:\n",
        "\n",
        "* Track how **loss** and **parameter estimation accuracy** change.\n",
        "* Compare learned `model.net.weight` and `model.net.bias` to ground truth `w = [2.0]`, `b = 5.0`.\n",
        "\n",
        "### Expected Outcome:\n",
        "\n",
        "| Training Samples    | Effect                                         |\n",
        "| ------------------- | ---------------------------------------------- |\n",
        "| Small (e.g., 10)    | Poor generalization, high variance             |\n",
        "| Moderate (100–1000) | Better fit, more stable results                |\n",
        "| Large (5000+)       | Highly stable training and accurate parameters |\n",
        "\n",
        "---\n",
        "\n",
        "## Step 3: Vary Learning Rate\n",
        "\n",
        "Set in:\n",
        "\n",
        "```python\n",
        "model = LinearRegression(inputSize=..., outputSize=..., lr=...)\n",
        "```\n",
        "\n",
        "### Values to try: `0.0001`, `0.01`, `0.1`, `1.0`\n",
        "\n",
        "### What to Observe:\n",
        "\n",
        "* How fast or stable the training is.\n",
        "* Whether loss converges or diverges.\n",
        "\n",
        "### Expected Outcome:\n",
        "\n",
        "| Learning Rate       | Observation                                                 |\n",
        "| ------------------- | ----------------------------------------------------------- |\n",
        "| Too small (0.0001)  | Training is **very slow**, might not converge in 100 epochs |\n",
        "| Moderate (0.01–0.1) | **Stable and effective** training                           |\n",
        "| Too large (1.0)     | Likely **diverges**, oscillates, or explodes                |\n",
        "\n",
        "---"
      ]
    },
    {
      "cell_type": "code",
      "execution_count": 8,
      "metadata": {
        "colab": {
          "base_uri": "https://localhost:8080/"
        },
        "id": "TFYSaLzRzCok",
        "outputId": "f512e801-0ce5-4cc9-b773-2441abe6a3e6"
      },
      "outputs": [
        {
          "output_type": "stream",
          "name": "stdout",
          "text": [
            "Epochs: 100, Samples: 1000, LR: 0.01\n",
            "Learned w: 1.6980, True w: 2.0\n",
            "Learned b: 4.3847, True b: 5.0\n"
          ]
        }
      ],
      "source": [
        "def run_experiment(num_epochs=100, num_train=1000, lr=0.01, w_true=torch.tensor([2.0]), b_true=5.0):\n",
        "    data_generator = SyntheticRegressionData()\n",
        "    data_X, data_y = data_generator.generate(w=w_true, b=b_true, num_train=num_train)\n",
        "\n",
        "    model = LinearRegression(inputSize=data_X.size(0), outputSize=data_y.size(1), lr=lr)\n",
        "    trainer = Trainer(n_epochs=num_epochs)\n",
        "\n",
        "    # Pass the DataLoader to the trainer.fit method\n",
        "    trainer.fit(model, data_generator)\n",
        "    #trainer.fit_naive(model, data_generator)\n",
        "    learned_w = model.net.weight.data[0].item()\n",
        "    learned_b = model.net.bias.data[0].item()\n",
        "\n",
        "    print(f\"Epochs: {num_epochs}, Samples: {num_train}, LR: {lr}\")\n",
        "    print(f\"Learned w: {learned_w:.4f}, True w: {w_true.item()}\")\n",
        "    print(f\"Learned b: {learned_b:.4f}, True b: {b_true}\")\n",
        "\n",
        "# Try different values here\n",
        "run_experiment(num_epochs=100, num_train=1000, lr=0.01)"
      ]
    },
    {
      "cell_type": "markdown",
      "metadata": {
        "id": "Y0d04z6Ux-7V"
      },
      "source": [
        "## **2. Multilayer Perceptron**\n",
        "\n",
        "Now that we have seen how to create a neuron that implements a linear regression, it is time to scale up and build our first Multilayer Perceptron (MLP) using PyTorch.\n",
        "\n",
        "Implementing an MLP with PyTorch involves the following steps:\n",
        "- Importing all dependencies\n",
        "- Defining the neural network class, let's call it **MLP**, as a subclass of **nn.Module** in the same way we did for the linear regression model.\n",
        "- Preparing the data set - in this example, let's use the **CIFAR-10** dataset, which consists of $60$K colour images (of size $32\\times32$) divided into $10$ classes, with $6000$ images per class. There are $50$K training images and $10$K test images.\n",
        "- Initializing the loss function and optimizer.\n",
        "- Defining the custom training loop, where all the magic happens.\n",
        "\n",
        "CIFAR-10 dataset has $10$ classes of objects (e.g., airplane, automobile, birdt, cat, etc.)."
      ]
    },
    {
      "cell_type": "markdown",
      "metadata": {
        "id": "CH0BWBcl38bE"
      },
      "source": [
        "### **2.1. Dependencies**\n",
        "\n",
        "We will need to import:\n",
        "- PyTorch.\n",
        "- From it we import **nn**, which allows us to define a neural network module.\n",
        "- The **DataLoader** so that we can feed data into the MLP during training. In this example, we will use the CIFAR10 dataset.\n",
        "- transforms, which allows us to perform transformations on the data prior to feeding it to the MLP. We will discuss more about the utility of this step."
      ]
    },
    {
      "cell_type": "code",
      "execution_count": null,
      "metadata": {
        "id": "Ot4cBt1i4__c"
      },
      "outputs": [],
      "source": [
        "# Importing all dependencies\n",
        "import os # for some OS ops\n",
        "import torch\n",
        "from torch import nn\n",
        "\n",
        "from torch.utils.data import DataLoader\n",
        "from torchvision import transforms\n",
        "import torchvision\n",
        "\n",
        "from torchvision.datasets import CIFAR10  # The data set that we will use\n",
        "\n",
        "import matplotlib.pyplot as plt\n",
        "import numpy as np\n",
        "\n"
      ]
    },
    {
      "cell_type": "markdown",
      "metadata": {
        "id": "ZDOQ9psL5JmW"
      },
      "source": [
        "### **2.2. Defining the MLP neural network**\n",
        "\n",
        "The input to the network are images of size $32\\times32$ from CIFAR-10. Each pixel is represented with three values that encode the Red, Green and Blue component of the RGB color. Thus, the input to the MLP is a vector of size $32 \\times 32 \\times 3$. In this case, the input layer of the MLP will have $32 \\times 32 \\times 3 = 3072$ neurons.\n",
        "\n",
        "We would like the MLP to recognise each of the $10$ object classes. Thus, the output layer needs to have $10$ neurons.\n",
        "\n",
        "The number of intermediate layers as well as the number of neurons in each of the intermediate layers are hyper parameters that one needs to define and tune. These can be done either by experience or experimentally (try different values and pick up the best). In this example, we will use two hidden layers of size $64$ and $32$, respectively. Each of the hidden layers will be followed by a ReLU activation function."
      ]
    },
    {
      "cell_type": "code",
      "execution_count": null,
      "metadata": {
        "colab": {
          "base_uri": "https://localhost:8080/"
        },
        "id": "6vsdCAfM9pgz",
        "outputId": "328194d3-2950-490d-822a-1be5bbdefda9"
      },
      "outputs": [
        {
          "output_type": "stream",
          "name": "stdout",
          "text": [
            "Epoch 1: loss = 22.2615\n",
            "Epoch 2: loss = 21.4138\n",
            "Epoch 3: loss = 20.5984\n",
            "Epoch 4: loss = 19.8141\n",
            "Epoch 5: loss = 19.0597\n",
            "Epoch 6: loss = 18.3340\n",
            "Epoch 7: loss = 17.6360\n",
            "Epoch 8: loss = 16.9646\n",
            "Epoch 9: loss = 16.3188\n",
            "Epoch 10: loss = 15.6976\n",
            "Epoch 11: loss = 15.1001\n",
            "Epoch 12: loss = 14.5254\n",
            "Epoch 13: loss = 13.9725\n",
            "Epoch 14: loss = 13.4408\n",
            "Epoch 15: loss = 12.9292\n",
            "Epoch 16: loss = 12.4372\n",
            "Epoch 17: loss = 11.9639\n",
            "Epoch 18: loss = 11.5087\n",
            "Epoch 19: loss = 11.0708\n",
            "Epoch 20: loss = 10.6495\n"
          ]
        }
      ],
      "source": [
        "# Define the input and output sizes based on the data structure\n",
        "# Assuming X has shape [input_features, num_samples] and y has shape [num_samples, output_features]\n",
        "# From the traceback context, X is torch.Size([1, 1000]) and y is torch.Size([1000, 1])\n",
        "# So, inputSize should be 1 and outputSize should be 1.\n",
        "\n",
        "input_features = X.size(0) # Get input features from X\n",
        "output_features = y.size(1) # Get output features from y\n",
        "\n",
        "# Define hyperparameters - example values, adjust as needed\n",
        "learning_rate = 0.01\n",
        "\n",
        "# Instantiate the model\n",
        "regression_model = LinearRegression(inputSize=input_features, outputSize=output_features, lr=learning_rate)\n",
        "\n",
        "# Configure the optimizer using the model's parameters and the defined learning rate\n",
        "optimizer = regression_model.configure_optimizers()\n",
        "\n",
        "num_epochs = 20\n",
        "for epoch in range(num_epochs):\n",
        "    optimizer.zero_grad()\n",
        "    y_hat = regression_model(X.T)\n",
        "    loss = regression_model.loss(y_hat, y)\n",
        "    loss.backward()\n",
        "    optimizer.step()\n",
        "\n",
        "    print(f\"Epoch {epoch+1}: loss = {loss.item():.4f}\")\n"
      ]
    },
    {
      "cell_type": "markdown",
      "metadata": {
        "id": "brT9saFT-k_J"
      },
      "source": [
        "Note that we have only changed two things changed compared to the **LinearRegression** class:\n",
        "- the definition of the network layers in the method **__init__**, and\n",
        "- the method **forward()**.\n",
        "\n",
        "Since it is a classification problem, here we use the Cross Entropy Loss.\n",
        "\n",
        "For the optimizer, we could also use SGD optimizer, but Adam is the most popular in deep learning."
      ]
    },
    {
      "cell_type": "markdown",
      "metadata": {
        "id": "o_bqSXn1ABAl"
      },
      "source": [
        "### **2.3. The training loop**\n",
        "\n",
        "Here again, we will use. the class Trainer, which we reproduce here for clarity. Below, we discuss the necessary changes that need to be made."
      ]
    },
    {
      "cell_type": "code",
      "execution_count": null,
      "metadata": {
        "id": "yvi-N_uGAgAV"
      },
      "outputs": [],
      "source": [
        "class Trainer:\n",
        "\n",
        "  def __init__(self, n_epochs = 3):\n",
        "    self.max_epochs = n_epochs\n",
        "    return\n",
        "\n",
        "  # The fitting step\n",
        "  def fit(self, model, data):\n",
        "\n",
        "    self.data = data\n",
        "\n",
        "    # configure the optimizer\n",
        "    self.optimizer = model.configure_optimizers()\n",
        "    self.model     = model\n",
        "\n",
        "    for epoch in range(self.max_epochs):\n",
        "      self.fit_epoch()\n",
        "\n",
        "    print(\"Training process has finished\")\n",
        "\n",
        "  def fit_epoch(self):\n",
        "\n",
        "    current_loss = 0.0\n",
        "\n",
        "    # iterate over the DataLoader for training data\n",
        "    # This iteration is over the batches\n",
        "    # For each batch, it updates the network weeights and computes the loss\n",
        "    for i, data in enumerate(self.data):\n",
        "      # Get input aand its corresponding groundtruth output\n",
        "      inputs, target = data\n",
        "\n",
        "      # Clear gradient buffers because we don't want any gradient from previous\n",
        "      # epoch to carry forward, dont want to cummulate gradients\n",
        "      self.optimizer.zero_grad()\n",
        "\n",
        "      # get output from the model, given the inputs\n",
        "      outputs = self.model(inputs)\n",
        "\n",
        "      # get loss for the predicted output\n",
        "      loss = self.model.loss(outputs, target)\n",
        "\n",
        "      # get gradients w.r.t the parameters of the model\n",
        "      loss.backward()\n",
        "\n",
        "      # update the parameters (perform optimization)\n",
        "      self.optimizer.step()\n",
        "\n",
        "      # Let's print some statisics\n",
        "      current_loss += loss.item()\n",
        "      if i % 500 == 499:\n",
        "          print('Loss after mini-batch %5d: %.3f' %\n",
        "                (i + 1, current_loss / 500))\n",
        "          current_loss = 0.0"
      ]
    },
    {
      "cell_type": "markdown",
      "metadata": {
        "id": "wGbKXoMFBzPx"
      },
      "source": [
        "### **2.4. The main program**\n",
        "The main program to train the neural network looks as follows:"
      ]
    },
    {
      "cell_type": "code",
      "execution_count": null,
      "metadata": {
        "colab": {
          "base_uri": "https://localhost:8080/",
          "height": 472
        },
        "id": "iTxW5LFaB6uy",
        "outputId": "34d73854-7b58-4113-ceff-cfb2742459f6"
      },
      "outputs": [
        {
          "output_type": "display_data",
          "data": {
            "text/plain": [
              "<Figure size 640x480 with 1 Axes>"
            ],
            "image/png": "[encoded data removed]"
          },
          "metadata": {}
        }
      ],
      "source": [
        "import matplotlib.pyplot as plt\n",
        "\n",
        "plt.scatter(X.numpy()[0], y.numpy(), alpha=0.5, label='True')\n",
        "plt.scatter(X.numpy()[0], regression_model(X.T).detach().numpy(), alpha=0.5, label='Predicted')\n",
        "plt.xlabel('X')\n",
        "plt.ylabel('y')\n",
        "plt.title('Regression Results')\n",
        "plt.legend()\n",
        "plt.show()\n"
      ]
    },
    {
      "cell_type": "markdown",
      "metadata": {
        "id": "qF8kUYiBbjNq"
      },
      "source": [
        "### **2.5. Testing the trained model**\n",
        "\n",
        "Once trained, the network needs to be tested on images that the network hasn't seen during training. In other words, the test images should be different from those used for training.  \n",
        "\n",
        "We do this by predicting the class label that the neural network outputs, and checking it against the ground-truth. If the prediction is correct, we add the sample to the list of correct predictions."
      ]
    },
    {
      "cell_type": "code",
      "execution_count": null,
      "metadata": {
        "colab": {
          "base_uri": "https://localhost:8080/",
          "height": 520
        },
        "id": "OlsN2hYDcnTs",
        "outputId": "0ab45e81-fc07-4123-9acf-d0f7d1b47b68"
      },
      "outputs": [
        {
          "output_type": "stream",
          "name": "stderr",
          "text": [
            "100%|██████████| 170M/170M [00:03<00:00, 43.9MB/s]\n"
          ]
        },
        {
          "output_type": "stream",
          "name": "stdout",
          "text": [
            "Starting training...\n",
            "[1,  2000] loss: 1.867\n",
            "[1,  4000] loss: 1.787\n",
            "[1,  6000] loss: 1.729\n",
            "[1,  8000] loss: 1.687\n",
            "[1, 10000] loss: 1.690\n",
            "[1, 12000] loss: 1.653\n",
            "[2,  2000] loss: 1.563\n",
            "[2,  4000] loss: 1.605\n",
            "[2,  6000] loss: 1.583\n",
            "[2,  8000] loss: 1.573\n",
            "[2, 10000] loss: 1.591\n",
            "[2, 12000] loss: 1.585\n",
            "Finished Training\n"
          ]
        },
        {
          "output_type": "display_data",
          "data": {
            "text/plain": [
              "<Figure size 640x480 with 1 Axes>"
            ],
            "image/png": "[encoded data removed]"
          },
          "metadata": {}
        },
        {
          "output_type": "stream",
          "name": "stdout",
          "text": [
            "GroundTruth:  cats  ships ships airplanes\n",
            "Estimated Labels:  cats  truck ships airplanes\n",
            "Accuracy of the network on the 10000 test images: 46.88 %\n"
          ]
        }
      ],
      "source": [
        "# Re-import necessary libraries if the kernel was reset\n",
        "import os\n",
        "import torch\n",
        "from torch import nn\n",
        "import torch.nn.functional as F # Need F for ReLU\n",
        "from torch.utils.data import DataLoader\n",
        "from torchvision import transforms\n",
        "import torchvision\n",
        "\n",
        "from torchvision.datasets import CIFAR10\n",
        "import matplotlib.pyplot as plt\n",
        "import numpy as np\n",
        "\n",
        "# Define the MLP neural network for CIFAR-10\n",
        "# Input size is 32*32*3 = 3072\n",
        "# Output size is 10 (for the 10 classes)\n",
        "class MLP_CIFAR10(nn.Module):\n",
        "    def __init__(self, inputSize, hidden_sizes, outputSize):\n",
        "        super().__init__()\n",
        "        layers = []\n",
        "        in_size = inputSize\n",
        "        # Add hidden layers with ReLU activation\n",
        "        for h in hidden_sizes:\n",
        "            layers.append(nn.Linear(in_size, h))\n",
        "            layers.append(nn.ReLU())\n",
        "            in_size = h\n",
        "        # Add output layer\n",
        "        layers.append(nn.Linear(in_size, outputSize))\n",
        "        self.net = nn.Sequential(*layers)\n",
        "\n",
        "    def forward(self, x):\n",
        "        # Flatten the image input: (batch_size, 3, 32, 32) -> (batch_size, 3*32*32)\n",
        "        x = x.view(x.size(0), -1)\n",
        "        return self.net(x)\n",
        "\n",
        "    def loss(self, y_hat, y):\n",
        "        # Use CrossEntropyLoss for classification\n",
        "        return nn.CrossEntropyLoss()(y_hat, y)\n",
        "\n",
        "    def configure_optimizers(self):\n",
        "        # Define the optimizer here if not using the Trainer's method\n",
        "        # Or, you can pass lr during instantiation and use self.parameters()\n",
        "        # Let's use Adam optimizer with a default learning rate for this example\n",
        "        return torch.optim.Adam(self.parameters(), lr=0.001)\n",
        "\n",
        "# --- Data Loading and Preparation (replicated from original code) ---\n",
        "# Define the transform\n",
        "transform = transforms.Compose(\n",
        "    [transforms.ToTensor(),\n",
        "     transforms.Normalize((0.5, 0.5, 0.5), (0.5, 0.5, 0.5))])\n",
        "\n",
        "# Define the batch size\n",
        "batch_size = 4 # Example batch size\n",
        "\n",
        "# Load training and test data\n",
        "# Make sure to load the training data as well for training\n",
        "trainset = CIFAR10(root=os.getcwd(), train=True, download=True, transform=transform)\n",
        "trainloader = torch.utils.data.DataLoader(trainset, batch_size=batch_size, shuffle=True, num_workers=1)\n",
        "\n",
        "testset = CIFAR10(root=os.getcwd(), train=False, download=True, transform=transform)\n",
        "testloader = torch.utils.data.DataLoader(testset, batch_size=batch_size, shuffle=False, num_workers=1)\n",
        "\n",
        "classes = ('airplanes', 'cars', 'birds', 'cats', 'deer', 'dogs', 'frogs', 'horses', 'ships', 'truck')\n",
        "\n",
        "# Helper function to show images (replicated from original code)\n",
        "def imshow(img):\n",
        "    img = img / 2 + 0.5     # unnormalize\n",
        "    npimg = img.numpy()\n",
        "    plt.imshow(np.transpose(npimg, (1, 2, 0)))\n",
        "    plt.show()\n",
        "\n",
        "# --- Instantiate and Train the MLP model ---\n",
        "# Define model hyperparameters\n",
        "input_size = 32 * 32 * 3 # Input size for CIFAR-10 images\n",
        "hidden_sizes = [128, 64] # Example hidden layer sizes\n",
        "output_size = 10        # Number of output classes\n",
        "\n",
        "# Instantiate the MLP model for CIFAR-10\n",
        "mlp_model = MLP_CIFAR10(inputSize=input_size, hidden_sizes=hidden_sizes, outputSize=output_size)\n",
        "\n",
        "# Define the optimizer and loss function outside the model if not using model.configure_optimizers\n",
        "# For this example, we'll use the model's configure_optimizers which uses Adam\n",
        "optimizer = mlp_model.configure_optimizers() # Using Adam with lr=0.001 as defined in MLP_CIFAR10\n",
        "criterion = mlp_model.loss # Using CrossEntropyLoss as defined in MLP_CIFAR10\n",
        "\n",
        "# Simple training loop (can also use the Trainer class if adapted for DataLoader)\n",
        "# Let's use a manual loop for clarity here, showing how to iterate over DataLoader\n",
        "epochs = 2 # Example number of epochs for demonstration\n",
        "print(\"Starting training...\")\n",
        "for epoch in range(epochs):\n",
        "    running_loss = 0.0\n",
        "    # Iterate over batches from the training DataLoader\n",
        "    for i, data in enumerate(trainloader, 0):\n",
        "        # get the inputs; data is a list of [inputs, labels]\n",
        "        inputs, labels = data\n",
        "\n",
        "        # zero the parameter gradients\n",
        "        optimizer.zero_grad()\n",
        "\n",
        "        # forward + backward + optimize\n",
        "        outputs = mlp_model(inputs)\n",
        "        loss = criterion(outputs, labels)\n",
        "        loss.backward()\n",
        "        optimizer.step()\n",
        "\n",
        "        # print statistics\n",
        "        running_loss += loss.item()\n",
        "        if i % 2000 == 1999:    # print every 2000 mini-batches\n",
        "            print(f'[{epoch + 1}, {i + 1:5d}] loss: {running_loss / 2000:.3f}')\n",
        "            running_loss = 0.0\n",
        "\n",
        "print('Finished Training')\n",
        "\n",
        "# --- Testing the trained model (Original failing block, now with mlp_model defined) ---\n",
        "# This block can now run without the NameError\n",
        "\n",
        "# Get one batch from the test data\n",
        "dataiter = iter(testloader)\n",
        "images, labels = next(dataiter)\n",
        "\n",
        "# Let's see some images\n",
        "imshow(torchvision.utils.make_grid(images))\n",
        "print('GroundTruth: ', ' '.join(f'{classes[labels[j]]:5s}' for j in range(images.shape[0])))\n",
        "\n",
        "# Now, let's see what the network thinks these examples are\n",
        "# mlp_model is now defined and trained\n",
        "output = mlp_model(images)\n",
        "# The output is a tensor of shape (batch_size, 10) representing class scores\n",
        "# To get the predicted class index, find the index of the maximum score along dimension 1\n",
        "_, predicted = torch.max(output, 1)\n",
        "# estimated_labels is equivalent to predicted in this case\n",
        "estimated_labels = predicted\n",
        "\n",
        "print('Estimated Labels: ', ' '.join(f'{classes[estimated_labels[j]]:5s}' for j in range(images.shape[0])))\n",
        "\n",
        "# You can also calculate the overall test accuracy as in the MNIST example (Exercise 3)\n",
        "correct = 0\n",
        "total = 0\n",
        "with torch.no_grad(): # Disable gradient calculations for testing\n",
        "    for data in testloader:\n",
        "        images, labels = data\n",
        "        outputs = mlp_model(images)\n",
        "        _, predicted = torch.max(outputs.data, 1)\n",
        "        total += labels.size(0)\n",
        "        correct += (predicted == labels).sum().item()\n",
        "\n",
        "print(f'Accuracy of the network on the 10000 test images: {100 * correct / total:.2f} %')"
      ]
    },
    {
      "cell_type": "markdown",
      "metadata": {
        "id": "Sc-15ltYbbm4"
      },
      "source": [
        "##  **3. Exercise 2**\n",
        "\n",
        "Change the number of layers in the network we defined above and observe how the network is performing. Also, compare the computation time, i.e., how long it takes to train when you increase the number of layers.\n",
        "\n",
        "Try also to increase the number of neurons in the intermediate layers of your network.\n",
        "\n",
        "**Question:** Does increasing, undefinitely, the number of layers and the number of neuron per layer always improves classification accuracy?"
      ]
    },
    {
      "cell_type": "code",
      "execution_count": null,
      "metadata": {
        "colab": {
          "base_uri": "https://localhost:8080/",
          "height": 1000
        },
        "id": "cvN8qxDndXh8",
        "outputId": "a32d1712-40b8-43a5-ba20-b3d973112a55"
      },
      "outputs": [
        {
          "output_type": "stream",
          "name": "stdout",
          "text": [
            "Architecture: [], Epochs: 100, Samples: 1000, LR: 0.01\n",
            "Learned w (1st layer): [1.8902207612991333], True w: [2.0]\n",
            "Learned b (output layer): 4.4770, True b: 5.0\n",
            "Final Loss: 0.302808, Training time: 0.05 seconds\n",
            "\n"
          ]
        },
        {
          "output_type": "display_data",
          "data": {
            "text/plain": [
              "<Figure size 640x480 with 1 Axes>"
            ],
            "image/png": "[encoded data removed]"
          },
          "metadata": {}
        },
        {
          "output_type": "stream",
          "name": "stdout",
          "text": [
            "Architecture: [64], Epochs: 100, Samples: 1000, LR: 0.01\n",
            "Learned w (1st layer): [0.7229450345039368, 0.015169203281402588, 0.30333971977233887, -1.0037120580673218, -0.5715252161026001, -0.32219618558883667, -0.5793671011924744, 0.955167829990387, 0.24478738009929657, -0.1339251697063446, 0.2603681981563568, -0.7009461522102356, -0.06758614629507065, -0.9861498475074768, 0.034938812255859375, -0.2970115542411804, -0.3244151771068573, -0.7072622179985046, -0.7421085834503174, 0.9357883930206299, 0.1258683204650879, -0.9792903661727905, -0.8425573110580444, 0.37300893664360046, -0.8941538333892822, 0.8463138937950134, 0.6836608052253723, -0.007932859472930431, -0.08564376831054688, -0.28975147008895874, -0.7619940042495728, -0.9187092781066895, 0.728102445602417, -0.6142386794090271, -0.3885899782180786, 0.1318100392818451, -0.014369368553161621, 0.523216187953949, -0.5857927203178406, -0.4854795038700104, 0.36291468143463135, -0.030013076961040497, 0.3616253137588501, 0.592960774898529, 0.8122400045394897, -0.6042290329933167, -0.8354237079620361, 0.7522202730178833, -0.01386725902557373, -0.7732713222503662, 0.6357226967811584, 0.9615988731384277, -0.19658081233501434, -0.37935519218444824, 0.2868994176387787, -0.5352744460105896, -0.16707292199134827, -1.015305995941162, 0.1338689923286438, 0.6799910068511963, -0.8408404588699341, -0.6545314788818359, -0.5062476396560669, -0.40171027183532715], True w: [2.0]\n",
            "Learned b (output layer): 0.3662, True b: 5.0\n",
            "Final Loss: 0.024173, Training time: 0.08 seconds\n",
            "\n"
          ]
        },
        {
          "output_type": "display_data",
          "data": {
            "text/plain": [
              "<Figure size 640x480 with 1 Axes>"
            ],
            "image/png": "[encoded data removed]"
          },
          "metadata": {}
        },
        {
          "output_type": "stream",
          "name": "stdout",
          "text": [
            "Architecture: [128, 64], Epochs: 100, Samples: 1000, LR: 0.01\n",
            "Learned w (1st layer): [0.6818932294845581, 0.10124929249286652, -0.3940250277519226, 0.7110532522201538, -0.5077874064445496, -0.22609691321849823, 0.44224315881729126, 0.49416807293891907, -0.038661155849695206, -0.6286656856536865, -0.7324112057685852, 0.08554208278656006, 0.8598241806030273, -0.39057064056396484, -0.6898934245109558, 0.6951904892921448, 0.8041403293609619, 0.6250312924385071, 0.8095449209213257, -0.4135604202747345, -0.9217768907546997, -0.026010584086179733, 0.7819290161132812, -0.8516976237297058, 0.5554916858673096, -0.8799088597297668, -0.20089924335479736, 0.5492922067642212, -0.5660947561264038, 0.5810580253601074, -0.753684937953949, -0.33483368158340454, -0.14290770888328552, 0.8806317448616028, -0.07663679122924805, 0.07739628106355667, -0.7530873417854309, -0.34306827187538147, -0.6895339488983154, -0.27772873640060425, 0.7247174978256226, 0.7384625673294067, 0.17150509357452393, -0.29894858598709106, -0.38544756174087524, -0.5899782776832581, -0.1364506483078003, 0.6490542888641357, 0.12030255794525146, 0.4209800064563751, 0.6827502846717834, -0.9420776963233948, 0.606955885887146, 0.5890771746635437, 0.21112015843391418, 0.7902999520301819, 0.6513566374778748, -0.48423418402671814, -0.41744542121887207, 0.49032503366470337, 0.16056597232818604, -0.7601327896118164, -0.7307958006858826, -0.899582028388977, -0.4895595610141754, -0.8251715302467346, -0.35570505261421204, 0.14934638142585754, 0.2506529986858368, 0.16219690442085266, -0.30490362644195557, -0.09645050019025803, -0.6456827521324158, 0.2001482993364334, 0.9353084564208984, -0.14780186116695404, 0.11287528276443481, 0.32098573446273804, 0.23311865329742432, 0.28996580839157104, 0.15045899152755737, -0.3034103512763977, -0.09911096096038818, -0.452296644449234, 0.7765215039253235, 0.23314335942268372, 0.9167705178260803, -0.44755080342292786, -0.4564704895019531, 0.17237401008605957, 0.609441876411438, 0.7889652848243713, -0.5429835319519043, -0.24164731800556183, -0.26485028862953186, -0.3403029143810272, 0.5196629166603088, 0.7163538932800293, -0.35890552401542664, 0.08253704756498337, 0.38437655568122864, 0.6077504754066467, 0.570713996887207, -0.7363467216491699, -0.12347384542226791, -0.7042014598846436, -0.5999980568885803, 0.6798144578933716, -0.2273646742105484, -0.1991727203130722, -0.17375457286834717, 0.1731632649898529, -0.2642817199230194, -0.6105107665061951, -0.08162878453731537, -0.6979079842567444, -0.11760688573122025, -0.6583164930343628, -0.5910813212394714, -0.6082225441932678, 0.2337651401758194, 0.3562065064907074, -0.2417391538619995, 0.6432875990867615, 0.9045760035514832, 0.7725471258163452, -0.690837025642395, 0.9026679396629333], True w: [2.0]\n",
            "Learned b (output layer): 0.2618, True b: 5.0\n",
            "Final Loss: 0.031765, Training time: 0.18 seconds\n",
            "\n"
          ]
        },
        {
          "output_type": "display_data",
          "data": {
            "text/plain": [
              "<Figure size 640x480 with 1 Axes>"
            ],
            "image/png": "[encoded data removed]"
          },
          "metadata": {}
        },
        {
          "output_type": "stream",
          "name": "stdout",
          "text": [
            "Architecture: [256, 128, 64], Epochs: 100, Samples: 1000, LR: 0.01\n",
            "Learned w (1st layer): [-0.2541879713535309, -0.3980127274990082, -0.6501184701919556, -0.7075479626655579, 0.721885085105896, 0.937497079372406, 0.6512079238891602, 0.5674722790718079, -0.6191182136535645, -0.6197575330734253, 0.8826831579208374, -0.1849486082792282, -0.4988670349121094, -0.5064008831977844, -0.5489071607589722, 0.3194485604763031, 0.055110812187194824, 0.5494035482406616, -0.2765299379825592, -0.389443963766098, -0.4024829566478729, -0.8165099620819092, -0.23945322632789612, 0.1402515470981598, 0.1957591325044632, -0.3333727717399597, 0.2337467074394226, -0.758902907371521, -0.8878014087677002, -0.4632676839828491, 0.9418591260910034, 0.3470694422721863, 0.8184969425201416, -0.2927314043045044, -0.7519616484642029, 0.832574188709259, 0.911147952079773, 0.18672597408294678, -0.9262851476669312, -0.880267858505249, -0.8503493666648865, -0.3735489547252655, 0.3529355227947235, 0.8051633834838867, -0.9048368334770203, -0.2105090469121933, 0.9964818954467773, 0.806178867816925, -0.8533794283866882, -0.2408345341682434, 0.13233809173107147, 0.10017475485801697, 0.22343891859054565, 0.12080995738506317, 0.3082053065299988, 0.3903872072696686, -0.4092637002468109, 0.21994175016880035, 0.5626044869422913, -0.3851989507675171, -0.009966135025024414, -0.6838821172714233, -0.007786154747009277, 0.35905689001083374, -0.350547730922699, 0.06363143771886826, -0.6697261929512024, 0.635138988494873, -0.10815639048814774, 0.581390917301178, 0.6945719718933105, 0.05856221541762352, 0.4101022481918335, -0.31421828269958496, 0.5320143699645996, 0.35244688391685486, -0.7780988216400146, 0.6582242846488953, -0.2821015417575836, 0.8630765080451965, -0.5492097735404968, 0.06911434233188629, 0.835864782333374, 0.6013123989105225, 0.919302761554718, 0.35719168186187744, 0.4634358584880829, -0.6829594969749451, 0.309810608625412, 0.07869473844766617, 0.22048847377300262, 0.32017847895622253, -0.3435184061527252, -0.10563197731971741, 0.008977532386779785, -0.31271255016326904, -0.05966786667704582, -0.06900579482316971, -0.30467742681503296, -0.7402708530426025, 0.2640988528728485, 0.8047139048576355, -0.815415620803833, 0.49662166833877563, 0.49979397654533386, 0.20297792553901672, 0.17301732301712036, 0.8070935010910034, -0.48073816299438477, 0.3908933997154236, -0.7490271925926208, 0.2830834686756134, 0.9024361968040466, 0.5688145756721497, -0.47366514801979065, -0.6549997329711914, -0.8854968547821045, 0.6806294918060303, 0.5884563326835632, 0.7937185168266296, 0.9016678333282471, 0.09423517435789108, 0.15122592449188232, -0.3120087683200836, 0.23584210872650146, 0.2890321612358093, -0.13328509032726288, 0.32781460881233215, 0.524680495262146, -0.9411136507987976, -0.7399499416351318, -0.8433166742324829, -0.19251982867717743, -0.6553208231925964, 0.7799968719482422, 0.6229166388511658, 0.41933688521385193, 0.06572315841913223, -0.29316219687461853, 0.3838093876838684, -0.9814178943634033, 0.21286022663116455, -0.041348788887262344, 0.9795106649398804, 0.584692120552063, -0.8851242065429688, -0.021596431732177734, -0.7004393935203552, -0.6890419721603394, 0.8267804980278015, -0.5867627859115601, -0.9210880994796753, -0.9723340272903442, 0.342744380235672, 0.5010479688644409, 0.35848984122276306, 0.7746841907501221, -0.2833925485610962, -0.44334739446640015, -0.711961030960083, -0.7461437582969666, -0.4233928918838501, -0.8833428025245667, 0.16990387439727783, 0.9114716053009033, -0.6102941632270813, 0.7714307308197021, 0.23245172202587128, -0.6299257278442383, -0.8499674201011658, -0.4953642785549164, -0.5280443429946899, 0.866322934627533, 0.8536943197250366, -0.34412500262260437, 0.9618255496025085, -0.2625739872455597, -0.47333958745002747, 0.22747910022735596, 0.5147022008895874, -0.7098700404167175, -0.042872071266174316, -0.6008948683738708, -0.031682729721069336, 0.5686504244804382, -0.4987044930458069, 0.0560530461370945, 0.6267251372337341, 0.5384840369224548, 0.6178445816040039, -0.0057536521926522255, 0.9050428867340088, 0.41942429542541504, 0.9282374978065491, 0.23878079652786255, 0.2565593421459198, -0.04057978093624115, -0.23304148018360138, -0.45274704694747925, 0.6965981125831604, -0.6167563199996948, -0.1204364150762558, -0.08563530445098877, 0.5335661768913269, -0.3185896873474121, 0.6038862466812134, -0.05178177356719971, 0.8571987748146057, 0.8940257430076599, 0.2924531102180481, 0.7025576233863831, -0.4746341109275818, 0.2299194484949112, -0.7980657815933228, -0.6307488083839417, -0.01579427719116211, -0.6535398960113525, 0.34648558497428894, 0.0092087984085083, 0.46788203716278076, 0.24320179224014282, 0.7588815689086914, -0.23188556730747223, 0.421862930059433, -0.21663053333759308, 0.022913683205842972, 0.20767143368721008, 0.476630836725235, -0.11844019591808319, -0.07511977106332779, 0.46188515424728394, 0.21159541606903076, 0.9703288078308105, -0.0380476713180542, 0.47740158438682556, -0.47974181175231934, 0.9712456464767456, -0.34023547172546387, -0.7765377163887024, 0.17716357111930847, -0.4671093225479126, -0.4389495849609375, 0.6347318887710571, 0.7686022520065308, -0.20100903511047363, -0.6481465697288513, 0.7514593005180359, -0.07752887904644012, -0.5139417052268982, -0.3812130093574524, -0.32335329055786133, 0.03572952747344971, 0.46417200565338135, -0.882027804851532, 0.42581138014793396, -0.4373304545879364], True w: [2.0]\n",
            "Learned b (output layer): 0.3552, True b: 5.0\n",
            "Final Loss: 0.075507, Training time: 0.41 seconds\n",
            "\n"
          ]
        },
        {
          "output_type": "display_data",
          "data": {
            "text/plain": [
              "<Figure size 640x480 with 1 Axes>"
            ],
            "image/png": "[encoded data removed]"
          },
          "metadata": {}
        }
      ],
      "source": [
        "# Re-importing necessary modules after reset\n",
        "import torch\n",
        "import torch.nn as nn\n",
        "import matplotlib.pyplot as plt\n",
        "import time\n",
        "\n",
        "# Define a flexible Feedforward Neural Network\n",
        "class FeedforwardNet(nn.Module):\n",
        "    def __init__(self, inputSize, hidden_sizes, outputSize, lr):\n",
        "        super().__init__()\n",
        "        self.lr = lr\n",
        "        layers = []\n",
        "        in_size = inputSize\n",
        "        # Add hidden layers\n",
        "        for h in hidden_sizes:\n",
        "            layers.append(nn.Linear(in_size, h))\n",
        "            layers.append(nn.ReLU())\n",
        "            in_size = h\n",
        "        # Add output layer\n",
        "        layers.append(nn.Linear(in_size, outputSize))\n",
        "        self.net = nn.Sequential(*layers)\n",
        "\n",
        "    def forward(self, X):\n",
        "        return self.net(X)\n",
        "\n",
        "    def loss(self, y_hat, y):\n",
        "        # Ensure y_hat and y have the same shape for MSELoss\n",
        "        return nn.MSELoss()(y_hat, y)\n",
        "\n",
        "    def configure_optimizers(self):\n",
        "        return torch.optim.SGD(self.parameters(), self.lr)\n",
        "\n",
        "# Data generator for regression\n",
        "class SyntheticRegressionData:\n",
        "    def __init__(self):\n",
        "        self.n = 0\n",
        "\n",
        "    def generate(self, w, b, mu=0.0, sigma=1.0, noise=0.01, num_train=1000):\n",
        "        self.n = num_train\n",
        "        self.w = w\n",
        "        self.b = b\n",
        "        # Ensure X has the correct dimensions based on w\n",
        "        self.X = mu + torch.randn(len(w), num_train) * sigma\n",
        "\n",
        "        noise_tensor = torch.randn(1, num_train) * noise\n",
        "\n",
        "        # Calculate y using matrix multiplication and add noise\n",
        "        # Ensure w is a row vector for multiplication (shape [1, len(w)])\n",
        "        # and X is transposed to shape [num_train, len(w)]\n",
        "        # The result of the multiplication should be [1, num_train]\n",
        "        self.y = torch.matmul(w.float().unsqueeze(0), self.X.float()).squeeze(0) + b + noise_tensor.squeeze(0)\n",
        "\n",
        "        # Transpose y to have shape [num_train, 1]\n",
        "        self.y = self.y.unsqueeze(-1)\n",
        "\n",
        "        return self.X, self.y\n",
        "\n",
        "# Trainer to track training and loss\n",
        "class Trainer:\n",
        "    def __init__(self, n_epochs=100):\n",
        "        self.max_epochs = n_epochs\n",
        "        self.loss_log = []\n",
        "\n",
        "    def fit(self, model, data):\n",
        "        optimizer = model.configure_optimizers()\n",
        "        # Transpose X so samples are rows\n",
        "        inputs = data.X.T\n",
        "        labels = data.y\n",
        "        for epoch in range(self.max_epochs):\n",
        "            optimizer.zero_grad()\n",
        "            outputs = model(inputs)\n",
        "            loss = model.loss(outputs, labels)\n",
        "            self.loss_log.append(loss.item())\n",
        "            loss.backward()\n",
        "            optimizer.step()\n",
        "\n",
        "# Function to run and measure experiment\n",
        "def run_experiment(hidden_sizes, num_epochs=100, num_train=1000, lr=0.01):\n",
        "    # Determine the input dimension based on the true weight vector.\n",
        "    # This assumes the data generation is consistent with the intended model input size.\n",
        "    # If no hidden layers, assume inputSize is determined by the first layer's input in FeedforwardNet.\n",
        "    # This was the source of the error, the inputSize should be based on the data.\n",
        "    # Let's assume the true weight vector 'w_true' defines the number of input features.\n",
        "    # We will set w_true length based on a reasonable default or experiment context.\n",
        "    # For this regression example, a single feature (inputSize=1) seems intended based on the original code.\n",
        "    inputSize = 1 # Defaulting to 1 input feature for this regression example\n",
        "    w_true = torch.tensor([2.0] * inputSize) # Adjust w_true size based on inputSize\n",
        "    b_true = 5.0\n",
        "\n",
        "    data = SyntheticRegressionData()\n",
        "    # Pass w_true as a tensor\n",
        "    data.generate(w=w_true, b=b_true, num_train=num_train)\n",
        "\n",
        "    # Now determine the correct inputSize from the generated data\n",
        "    inputSize = data.X.size(0)\n",
        "\n",
        "    # Pass the determined inputSize to FeedforwardNet\n",
        "    model = FeedforwardNet(inputSize=inputSize, hidden_sizes=hidden_sizes, outputSize=data.y.size(1), lr=lr)\n",
        "    trainer = Trainer(n_epochs=num_epochs)\n",
        "\n",
        "    start_time = time.time()\n",
        "    trainer.fit(model, data)\n",
        "    duration = time.time() - start_time\n",
        "\n",
        "    # Access the weight of the first linear layer (either the first hidden or the output layer)\n",
        "    # and the bias of the last linear layer (the output layer)\n",
        "    # Ensure there is at least one linear layer before accessing its weight\n",
        "    if model.net:\n",
        "        learned_w = model.net[0].weight.data.flatten().tolist()\n",
        "    else:\n",
        "        learned_w = [] # Or handle appropriately if no layers\n",
        "    learned_b = model.net[-1].bias.data.item()\n",
        "    final_loss = trainer.loss_log[-1]\n",
        "\n",
        "    print(f\"Architecture: {hidden_sizes}, Epochs: {num_epochs}, Samples: {num_train}, LR: {lr}\")\n",
        "    print(f\"Learned w (1st layer): {learned_w}, True w: {w_true.tolist()}\")\n",
        "    print(f\"Learned b (output layer): {learned_b:.4f}, True b: {b_true}\")\n",
        "    print(f\"Final Loss: {final_loss:.6f}, Training time: {duration:.2f} seconds\\n\")\n",
        "\n",
        "    plt.plot(trainer.loss_log)\n",
        "    plt.xlabel(\"Epoch\")\n",
        "    plt.ylabel(\"Loss\")\n",
        "    plt.title(f\"Loss Curve - Hidden Layers: {hidden_sizes}\")\n",
        "    plt.grid(True)\n",
        "    plt.show()\n",
        "\n",
        "# Execute with various layer settings\n",
        "# Make sure inputSize is consistent with w_true's length in data.generate\n",
        "run_experiment(hidden_sizes=[], num_epochs=100, num_train=1000, lr=0.01)            # No hidden layer\n",
        "run_experiment(hidden_sizes=[64], num_epochs=100, num_train=1000, lr=0.01)          # 1 hidden layer\n",
        "run_experiment(hidden_sizes=[128, 64], num_epochs=100, num_train=1000, lr=0.01)     # 2 hidden layers\n",
        "run_experiment(hidden_sizes=[256, 128, 64], num_epochs=100, num_train=1000, lr=0.01) # 3 hidden layers"
      ]
    },
    {
      "cell_type": "markdown",
      "metadata": {
        "id": "OGpEN9o0zCol"
      },
      "source": [
        "## Quick Summary of What You'll Observe\n",
        "\n",
        "| Hidden Layers          | Training Time ↑ | Loss ↓ | Accuracy ↑ (to a point)    |\n",
        "| ---------------------- | --------------- | ------ | -------------------------- |\n",
        "| 0 (Linear only)        | Very fast       | OK     | Low                        |\n",
        "| 1 layer (64)           | Slightly slower | Better | Higher                     |\n",
        "| 2 layers (128, 64)     | Slower          | Better | Even higher                |\n",
        "| 3+ layers (256,128...) | Much slower     | Varies | May overfit or not improve |\n",
        "\n",
        "---\n",
        "\n",
        "## Does More = Better?\n",
        "\n",
        "No — as explained earlier:\n",
        "\n",
        "* **Too many layers/neurons** can lead to **overfitting** and **longer training time**\n",
        "* Optimal architecture depends on:\n",
        "\n",
        "  * Dataset size & complexity\n",
        "  * Regularization\n",
        "  * Learning rate\n",
        "  * Training time budget"
      ]
    },
    {
      "cell_type": "markdown",
      "metadata": {
        "id": "tR_-10HFZKQs"
      },
      "source": [
        "##  **4. Exercise 3 - MNIST dataset**\n",
        "\n",
        "In this exercise, you are required to build a neural network (a MLP) in PyTorch and train it to recognize handwritten digits from the MNIST dataset.\n",
        "\n",
        "Instead of using the class CIFAR10 to load the data, you can use MNIST. Once the training set is loaded, please check:\n",
        "- the resolution of each image,\n",
        "- the number of images in each training set and\n",
        "- the number of classes (can you guess how many classes the dataset will contain??).\n",
        "\n",
        "Then design an MLP by setting the adequate number of input and output neurons. The number of layers and the number of neurons in each hidden layer are hyperparameters, which you can play with and observe the performance."
      ]
    },
    {
      "cell_type": "code",
      "execution_count": null,
      "metadata": {
        "colab": {
          "base_uri": "https://localhost:8080/"
        },
        "id": "Op9gkisz3Oea",
        "outputId": "d584ebb2-5292-4bdd-e023-320040e20e46"
      },
      "outputs": [
        {
          "output_type": "stream",
          "name": "stderr",
          "text": [
            "100%|██████████| 9.91M/9.91M [00:01<00:00, 6.61MB/s]\n",
            "100%|██████████| 28.9k/28.9k [00:00<00:00, 495kB/s]\n",
            "100%|██████████| 1.65M/1.65M [00:00<00:00, 3.95MB/s]\n",
            "100%|██████████| 4.54k/4.54k [00:00<00:00, 8.91MB/s]\n"
          ]
        }
      ],
      "source": [
        "# Load MNIST training data\n",
        "import torchvision.transforms as transforms\n",
        "from torchvision.datasets import MNIST\n",
        "from torch.utils.data import DataLoader\n",
        "\n",
        "# Define a transformation to convert images to tensors and normalize (optional but common)\n",
        "transform = transforms.Compose([transforms.ToTensor(), transforms.Normalize((0.5,), (0.5,))])\n",
        "\n",
        "# Load the training dataset\n",
        "# download=True will download the dataset if it's not already available\n",
        "train_dataset = MNIST(root='./data', train=True, download=True, transform=transform)\n",
        "\n",
        "# Create a DataLoader for the training set\n",
        "# batch_size determines the number of samples per batch\n",
        "# shuffle=True shuffles the data at the beginning of each epoch\n",
        "train_loader = DataLoader(train_dataset, batch_size=64, shuffle=True)\n",
        "\n",
        "# Load the test dataset (for later evaluation)\n",
        "test_dataset = MNIST(root='./data', train=False, download=True, transform=transform)\n",
        "test_loader = DataLoader(test_dataset, batch_size=64, shuffle=False) # No need to shuffle test data"
      ]
    },
    {
      "cell_type": "code",
      "execution_count": null,
      "metadata": {
        "id": "ttUMTYMydZEu"
      },
      "outputs": [],
      "source": [
        "# Define the model\n",
        "class MLP(nn.Module):\n",
        "    def __init__(self):\n",
        "        super().__init__()\n",
        "        self.fc1 = nn.Linear(28*28, 128)  # first hidden layer\n",
        "        self.fc2 = nn.Linear(128, 64)     # second hidden layer\n",
        "        self.fc3 = nn.Linear(64, 10)      # output layer (10 digits)\n",
        "\n",
        "    def forward(self, x):\n",
        "        x = x.view(-1, 28*28)  # flatten the image\n",
        "        x = F.relu(self.fc1(x))\n",
        "        x = F.relu(self.fc2(x))\n",
        "        return self.fc3(x)"
      ]
    },
    {
      "cell_type": "code",
      "execution_count": null,
      "metadata": {
        "colab": {
          "base_uri": "https://localhost:8080/"
        },
        "id": "akA2hD-JzCom",
        "outputId": "0fa30891-8f1b-4629-9f7a-aaa69dda0040"
      },
      "outputs": [
        {
          "output_type": "stream",
          "name": "stdout",
          "text": [
            "Epoch 1, Loss: 0.4329\n",
            "Epoch 2, Loss: 0.1794\n",
            "Epoch 3, Loss: 0.1343\n",
            "Epoch 4, Loss: 0.1065\n",
            "Epoch 5, Loss: 0.0883\n"
          ]
        }
      ],
      "source": [
        "# Train the model\n",
        "model = MLP()\n",
        "optimizer = torch.optim.SGD(model.parameters(), lr=0.01, momentum=0.9)\n",
        "criterion = nn.CrossEntropyLoss()\n",
        "\n",
        "epochs = 5\n",
        "train_loss = []\n",
        "\n",
        "for epoch in range(epochs):\n",
        "    running_loss = 0.0\n",
        "    for images, labels in train_loader:\n",
        "        optimizer.zero_grad()\n",
        "        outputs = model(images)\n",
        "        loss = criterion(outputs, labels)\n",
        "        loss.backward()\n",
        "        optimizer.step()\n",
        "        running_loss += loss.item()\n",
        "    avg_loss = running_loss / len(train_loader)\n",
        "    train_loss.append(avg_loss)\n",
        "    print(f\"Epoch {epoch+1}, Loss: {avg_loss:.4f}\")"
      ]
    },
    {
      "cell_type": "code",
      "execution_count": null,
      "metadata": {
        "colab": {
          "base_uri": "https://localhost:8080/",
          "height": 472
        },
        "id": "iB5WfJX3zCom",
        "outputId": "e4e7eb3a-e015-40a8-bf26-ac50b62c7d6b"
      },
      "outputs": [
        {
          "output_type": "display_data",
          "data": {
            "text/plain": [
              "<Figure size 640x480 with 1 Axes>"
            ],
            "image/png": "[encoded data removed]"
          },
          "metadata": {}
        }
      ],
      "source": [
        "# Plot the loss curve\n",
        "plt.plot(train_loss)\n",
        "plt.xlabel(\"Epoch\")\n",
        "plt.ylabel(\"Loss\")\n",
        "plt.title(\"Training Loss Curve\")\n",
        "plt.grid(True)\n",
        "plt.show()"
      ]
    },
    {
      "cell_type": "code",
      "execution_count": null,
      "metadata": {
        "colab": {
          "base_uri": "https://localhost:8080/"
        },
        "id": "ooyw-nRtzCom",
        "outputId": "6d09ed3c-58e5-46db-8d70-a93543f8c6fb"
      },
      "outputs": [
        {
          "output_type": "stream",
          "name": "stdout",
          "text": [
            "Test Accuracy: 97.04%\n"
          ]
        }
      ],
      "source": [
        "# Evaluate model accuracy\n",
        "correct = 0\n",
        "total = 0\n",
        "with torch.no_grad():\n",
        "    for images, labels in test_loader:\n",
        "        outputs = model(images)\n",
        "        _, predicted = torch.max(outputs.data, 1)\n",
        "        total += labels.size(0)\n",
        "        correct += (predicted == labels).sum().item()\n",
        "\n",
        "print(f\"Test Accuracy: {100 * correct / total:.2f}%\")"
      ]
    },
    {
      "cell_type": "markdown",
      "metadata": {
        "id": "V8L_nPwR3XSG"
      },
      "source": [
        "##  **5. Exercise 4 - Forward thoughts**\n",
        "\n",
        "What do you think about:\n",
        "- the way we are currently evaluating the performance?\n",
        "- the way we are choosing the different hyperparameters?\n",
        "\n",
        "Can you think of a better way to streamline this and make it more rigorous?"
      ]
    },
    {
      "cell_type": "markdown",
      "metadata": {
        "id": "2n7GGAVMzCom"
      },
      "source": [
        "Forward thoughts\n",
        "\n",
        "## 1. Current Approach\n",
        "### Strengths:\n",
        "\n",
        "* Simple and easy to interpret.\n",
        "* Directly reports **classification accuracy** on unseen test data.\n",
        "\n",
        "### Limitations:\n",
        "\n",
        "* **Accuracy alone** can be misleading (especially in imbalanced datasets).\n",
        "* No insight into **how** the model is making errors (e.g., confusion between similar digits).\n",
        "* Evaluation is **done only once** — no statistical confidence or variation estimate.\n",
        "\n",
        "---\n",
        "\n",
        "## 2. Current Hyperparameter Selection\n",
        "\n",
        "Currently:\n",
        "\n",
        "* Learning rate, number of layers, and hidden units are set manually.\n",
        "* No formal structure to test which set is optimal.\n",
        "\n",
        "### Limitations:\n",
        "\n",
        "* **Manual tuning** is time-consuming and subjective.\n",
        "* There's no guarantee you're selecting the best combination.\n",
        "* No clear method to **compare** model variants.\n",
        "\n",
        "---\n",
        "\n",
        "## 3. Better, More Rigorous Alternatives\n",
        "\n",
        "### ✅ For Evaluation:\n",
        "\n",
        "| Method                              | Benefit                                                          |\n",
        "| ----------------------------------- | ---------------------------------------------------------------- |\n",
        "| **Confusion Matrix**                | See per-class performance (e.g., 4 vs 9 confusion)               |\n",
        "| **Precision/Recall/F1**             | Useful when class imbalance is present                           |\n",
        "| **Cross-validation** (e.g., k-fold) | More statistically robust than single train/test split           |\n",
        "| **Train/Val/Test Split**            | Add a validation set to select models/hyperparams before testing |\n",
        "\n",
        "### ✅ For Hyperparameter Tuning:\n",
        "\n",
        "| Method                      | Tool/Tech                                        | Benefit                                  |\n",
        "| --------------------------- | ------------------------------------------------ | ---------------------------------------- |\n",
        "| **Grid Search**             | Manual or using libraries                        | Tries all combinations (exhaustive)      |\n",
        "| **Random Search**           | Random trials                                    | Often faster than grid                   |\n",
        "| **Automated Tuning**        | Optuna, Ray Tune, Hyperopt                       | Efficient and scalable                   |\n",
        "| **Learning Curve Analysis** | Plot accuracy/loss over epochs and dataset sizes | Helps detect overfitting or underfitting |"
      ]
    }
  ],
  "metadata": {
    "accelerator": "GPU",
    "colab": {
      "gpuType": "T4",
      "provenance": []
    },
    "kernelspec": {
      "display_name": "Python 3",
      "name": "python3"
    },
    "language_info": {
      "codemirror_mode": {
        "name": "ipython",
        "version": 3
      },
      "file_extension": ".py",
      "mimetype": "text/x-python",
      "name": "python",
      "nbconvert_exporter": "python",
      "pygments_lexer": "ipython3",
      "version": "3.7.7"
    }
  },
  "nbformat": 4,
  "nbformat_minor": 0
}