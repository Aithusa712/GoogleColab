{
  "cells": [
    {
      "cell_type": "markdown",
      "metadata": {
        "id": "ZdDimpLi2_nI"
      },
      "source": [
        "# **ICT303 - Advanced Machine Learning and Artificial Intelligence**\n",
        "# **Lab 1 - Introduction to Python, NumPy and Torch**\n",
        "\n",
        "The purpose of this lab is to provide you with the Python toolkit you will be using in this unit. This includes:\n",
        "- Familiarize yourself with Python programming. Although there is no unit within the IT degree that explicitly teaches Python, as an IT student of Murdoch, you should by now have learned C, Java and eventually C++. These are the foundations that will enable you to learn any other programming language by your own. In fact,  as an IT expert, you MUST learn how to learn by yourself.\n",
        "- Familiarize yourself with some important Python libraries that we will be using during the semester. These include NumPy and PyTorch.\n",
        "\n",
        "Note that, Section 2 of this lab has been adapted from https://numpy.org/doc/stable/user/quickstart.html. Sections 3 onwards have been adapted from https://deeplearning.cs.cmu.edu/F20/index.html."
      ]
    },
    {
      "cell_type": "markdown",
      "metadata": {
        "id": "RNeECLiQOUgc"
      },
      "source": [
        "### **1. Python**\n",
        "\n",
        "In this unit, we will use the [*Colab research platform*](https://colab.research.google.com/) for programming. Since you are reading this, it means you have already created a Google account and managed to open this Colab notebook.\n",
        "\n",
        "Before you continue, I recommend to create a folder named ICT303 in your Google drive, and make sure you save all your work (i.e., the notebooks and associated files your will create as part of this unit) in it.\n",
        "\n",
        "You can find more information on how to use Colab and its features in the link above. Note also that Colab integrates cleanly with Github, allowing both loading notebooks from Github and saving notebooks into Github. You can find more details here: https://colab.research.google.com/github/googlecolab/colabtools/blob/master/notebooks/colab-github-demo.ipynb.\n",
        "\n",
        "Once done, it is time for you to learn a little bit about Python. There are plenty of online resources that you can use. I recommend downloading this tutorial notebook from CMU: https://deeplearning.cs.cmu.edu/F20/document/recitation/Rec_0A_Fundamentals_of_Python.zip\n",
        "- Download the notebook and then upload it to your google drive and view it in Colab.\n",
        "- Work through the tutorial step by step.\n",
        "\n",
        "Note that you do not need to do the entire Python tutorial. Scheme through it and try to:\n",
        "- Understand the structure of a Python program\n",
        "- How to create classes, methods and functions\n",
        "- How to pass in parameters into functions.\n",
        "\n",
        "Then, use this tutorial as a reference whenever  you need to create something with Python."
      ]
    },
    {
      "cell_type": "markdown",
      "metadata": {
        "id": "CIidViuPvPAR"
      },
      "source": [
        "\n",
        "### **2. NumPy**\n",
        "\n",
        "The first library of interest is [NumPy](http://www.numpy.org/). You can find more details about NumPy at https://numpy.org/doc/stable/user/quickstart.html. Here, I will just summarize some important aspects. You can also go through this CMU tutorial: https://deeplearning.cs.cmu.edu/F20/document/recitation/Rec_0B_Fundamentals_of_Numpy.zip\n",
        "\n",
        "In this document, I will summarize some of the most important features of NumPy.\n",
        "\n",
        "NumPy is the fundamental package for scientific computing with Python. It contains among other things:\n",
        "\n",
        "- A powerful N-dimensional array object\n",
        "- Sophisticated (broadcasting) functions\n",
        "- Tools for integrating C/C++ and Fortran code\n",
        "- Useful linear algebra, Fourier transform, and random number capabilities\n",
        "\n",
        "Besides its obvious scientific uses, NumPy can also be used as an efficient multi-dimensional container of generic data. Arbitrary data-types can be defined. This allows NumPy to seamlessly and speedily integrate with a wide variety of databases."
      ]
    },
    {
      "cell_type": "markdown",
      "metadata": {
        "id": "2mMd2VCSVwpc"
      },
      "source": [
        "#### **2.1. The Basics**\n",
        "\n",
        "NumPy’s main object is the homogeneous multidimensional array. It is a table of elements (usually numbers), all of the same type, indexed by a tuple of non-negative integers. In NumPy dimensions are called **axes**.\n",
        "\n",
        "NumPy arrays are called **ndarray** defiied in the package **numpy.array**.\n",
        "\n",
        "****Example 1 - A point or vector in 3D space:****\n",
        "A point in 3D space has 3 coordinates (x, y, z). Similarly, a vector in 3D space has 3 coordinates (x, y, z). Thus, from the programming point of view, they can both be defined using an array of 3 elements. Using NumPy **ndarray**, they can be defined as an array that has one axis (one dimension). For example:"
      ]
    },
    {
      "cell_type": "code",
      "execution_count": null,
      "metadata": {
        "colab": {
          "base_uri": "https://localhost:8080/"
        },
        "id": "RSu4krOC2pRM",
        "outputId": "50c1f7a3-c819-442f-e512-f10c20058be8"
      },
      "outputs": [
        {
          "output_type": "stream",
          "name": "stdout",
          "text": [
            "The point is: \n",
            "[1, 2, 1]\n",
            "The vector is: \n",
            "[3, 2.1, 5]\n"
          ]
        }
      ],
      "source": [
        "## A point in 3D space\n",
        "p = [1, 2, 1]\n",
        "\n",
        "## A vector in 3D space\n",
        "v = [3, 2.1, 5]\n",
        "\n",
        "## printing\n",
        "print(\"The point is: \")\n",
        "print(p)\n",
        "print(\"The vector is: \")\n",
        "print(v)"
      ]
    },
    {
      "cell_type": "markdown",
      "metadata": {
        "id": "k6fjfFxA3wU0"
      },
      "source": [
        "***Example 2 - A list of 3D points***\n",
        "\n",
        "Assume that we would like to create a data structure that will hold a list of 3D points.  Using NumPy's **ndarray**, it can be defined using an array that has two axes:\n",
        "\n"
      ]
    },
    {
      "cell_type": "code",
      "execution_count": null,
      "metadata": {
        "colab": {
          "base_uri": "https://localhost:8080/"
        },
        "id": "0V0NG_re4aJD",
        "outputId": "bafb3c35-8f99-463b-c3a6-5b3b58c8a2a8"
      },
      "outputs": [
        {
          "output_type": "stream",
          "name": "stdout",
          "text": [
            "[[ 1.   0.   0. ]\n",
            " [ 3.   2.   0.1]\n",
            " [-1.3  2.4  5. ]\n",
            " [ 5.3  3.  -2.3]]\n"
          ]
        },
        {
          "output_type": "execute_result",
          "data": {
            "text/plain": [
              "array([ 1. ,  3. , -1.3,  5.3])"
            ]
          },
          "metadata": {},
          "execution_count": 2
        }
      ],
      "source": [
        "import numpy as np\n",
        "vertices =np.array([[1, 0, 0],\n",
        "           [3, 2, 0.1],\n",
        "           [-1.3, 2.4, 5],\n",
        "           [5.3, 3, -2.3]])\n",
        "# Printing - method 1\n",
        "print(vertices)\n",
        "\n",
        "# Printing - method 2\n",
        "vertices\n",
        "\n",
        "# Printing the first point or row (of index 0)\n",
        "vertices[0,]\n",
        "\n",
        "# Printing the first column (of index 0)\n",
        "vertices[:,0]\n"
      ]
    },
    {
      "cell_type": "markdown",
      "metadata": {
        "id": "-dt-xh2k4n8D"
      },
      "source": [
        "This ndarray has two axes. The first axis has a length of 4. The second axis has a length of 3.\n",
        "\n",
        "The class ndarray has many important attributes. The most important ones include:\n",
        "\n",
        "- ***ndarray.ndim*** - The number of axes (dimensions) of the array.\n",
        "\n",
        "- ***ndarray.shape*** - the dimensions of the array. This is a tuple of integers indicating the size of the array in each dimension. For a matrix with n rows and m columns, shape will be (n,m). The length of the shape tuple is therefore the number of axes, ndim.\n",
        "\n",
        "- ***ndarray.size*** - the total number of elements of the array. This is equal to the product of the elements of shape.\n",
        "\n",
        "- ***ndarray.dtype*** - an object describing the type of the elements in the array. One can create or specify dtype’s using standard Python types. Additionally NumPy provides types of its own. numpy.int32, numpy.int16, and numpy.float64 are some examples.\n",
        "\n",
        "- ***ndarray.itemsize*** - the size in bytes of each element of the array. For example, an array of elements of type float64 has itemsize 8 (=64/8), while one of type complex32 has itemsize 4 (=32/8). It is equivalent to ndarray.dtype.itemsize.\n",
        "\n",
        "- ***ndarray.data*** - the buffer containing the actual elements of the array. Normally, we won’t need to use this attribute because we will access the elements in an array using indexing facilities.\n",
        "\n",
        "***Example 3.***  Try these properties on the examples defined above."
      ]
    },
    {
      "cell_type": "markdown",
      "metadata": {
        "id": "3PdKVLn4V6dF"
      },
      "source": [
        "#### **2.2. Creating and printing NumPy arrays**\n",
        "\n",
        "Please refer to Sections ***Array Creation*** and ***Printing Arrays*** of https://numpy.org/doc/stable/user/quickstart.html\n",
        "\n",
        "***Example 4***: Create a random 1D array of size $32$. Then try to:\n",
        "- Reshape the 1D array into a 2D array of size $8 \\times 4$ (i.e., axes 1 will have size $8$ while axes $2$ will have size $4$). Use the function numpy.arrange. For this, please refer to https://numpy.org/doc/stable/reference/generated/numpy.reshape.html\n",
        "- Display (print) the results.\n",
        "\n",
        "As a bonus question, try to rearrange the 2D array into a 1D array. For this, check the different parameters of the function reshape, especially the last parameter which takes one of the three values: 'C', 'F', and 'A'. Please refer to https://numpy.org/doc/stable/reference/generated/numpy.reshape.html."
      ]
    },
    {
      "cell_type": "markdown",
      "metadata": {
        "id": "Vd2GjT2rLBpe"
      },
      "source": [
        "***Solution to Example 4***\n",
        "For this, we will use the function numpy.random.rand, which creates an array of a given shape and populates it with random samples from a uniform distribution over $[0, 1)$. If you want the values to be between $a$ and $b$ value (with $a \\le b$), then you have to multiply the generated values by $(b - a)$ and then add $a$."
      ]
    },
    {
      "cell_type": "code",
      "execution_count": null,
      "metadata": {
        "id": "HCsXmpv2KjBv",
        "colab": {
          "base_uri": "https://localhost:8080/"
        },
        "outputId": "aae7422a-d152-48c6-f350-df1571188660"
      },
      "outputs": [
        {
          "output_type": "execute_result",
          "data": {
            "text/plain": [
              "array([65.70722598, 84.01224986, 89.86851075, 23.29652613, 13.33548868,\n",
              "       86.82806946, 34.96298169, 73.50447515, 93.94145887, 65.68474251,\n",
              "        8.12162797, 71.30407915, 96.38174419, 75.54278515, 84.14742831,\n",
              "       94.42323062, 28.56379293, 31.01575462, 45.13472836, 16.77971794,\n",
              "       62.52221272,  8.9797287 , 64.75901689, 15.03968071, 33.7477485 ,\n",
              "       34.36183157, 93.73315973, 47.26393328, 17.40858504, 25.15098279,\n",
              "       79.25263853, 43.80198395])"
            ]
          },
          "metadata": {},
          "execution_count": 3
        }
      ],
      "source": [
        "## Example 4 - Creating a 1D array of size 32. The values will be set randomly\n",
        "import numpy as np\n",
        "from numpy import random\n",
        "\n",
        "# defining the parameters\n",
        "a = 0\n",
        "b = 100\n",
        "n = 32\n",
        "\n",
        "# Creating the random array\n",
        "values = random.rand(32)\n",
        "values = values * (b - a) + a\n",
        "\n",
        "values  # uncomment this if you would like to print"
      ]
    },
    {
      "cell_type": "code",
      "execution_count": null,
      "metadata": {
        "id": "Qd5x-PscOi52",
        "colab": {
          "base_uri": "https://localhost:8080/"
        },
        "outputId": "8dc6a8aa-17f7-4687-e185-2edf570b1741"
      },
      "outputs": [
        {
          "output_type": "execute_result",
          "data": {
            "text/plain": [
              "array([[65.70722598, 84.01224986, 89.86851075, 23.29652613],\n",
              "       [13.33548868, 86.82806946, 34.96298169, 73.50447515],\n",
              "       [93.94145887, 65.68474251,  8.12162797, 71.30407915],\n",
              "       [96.38174419, 75.54278515, 84.14742831, 94.42323062],\n",
              "       [28.56379293, 31.01575462, 45.13472836, 16.77971794],\n",
              "       [62.52221272,  8.9797287 , 64.75901689, 15.03968071],\n",
              "       [33.7477485 , 34.36183157, 93.73315973, 47.26393328],\n",
              "       [17.40858504, 25.15098279, 79.25263853, 43.80198395]])"
            ]
          },
          "metadata": {},
          "execution_count": 4
        }
      ],
      "source": [
        "# Rearrange the 2D array into a 2D arrat of size 8 x 4\n",
        "values = np.reshape(values, [8, 4], 'C')\n",
        "\n",
        "values"
      ]
    },
    {
      "cell_type": "markdown",
      "metadata": {
        "id": "bNaMAvAwV-51"
      },
      "source": [
        "#### **2.3. Basic Operations**\n",
        "\n",
        "You can do arithmetic operations (addition, subtraction, multiplication) on NumPy arrays. These will be applied element wise. For example, to add two arrays ***A*** and ****B***  of same dimension, you do not need to write a loop through its elements, you just need to write ***A+B***. Please refer to the section ***Basic Operations*** of https://numpy.org/doc/stable/user/quickstart.html.\n",
        "\n",
        "It is important to pay attention to some aspects that are specific to NumPy arrays. In particular, the product operator *  operates elementwise in NumPy array. If you want to use matric product, then you have t yse the operator ***@*** (in Python > 3.5) or the ***dot*** function. Please refer to https://numpy.org/doc/stable/user/quickstart.html for more details. The example below illustrates this concept."
      ]
    },
    {
      "cell_type": "code",
      "execution_count": null,
      "metadata": {
        "id": "WpFw1Aj4MQCz"
      },
      "outputs": [],
      "source": [
        "A = np.array([[1, 1],\n",
        "              [0, 1]])\n",
        "B = np.array([[2, 0],\n",
        "              [3, 4]])\n",
        "C1 = A * B     # elementwise product\n",
        "\n",
        "C2 = A @ B     # matrix product\n",
        "\n",
        "C3 = A.dot(B)  # another matrix product"
      ]
    },
    {
      "cell_type": "markdown",
      "metadata": {
        "id": "Umx8rVz7Mrc3"
      },
      "source": [
        "Note also that the NumPy array class provides methods such as sum, min, max, etc., which operate on the entire elements of the array. By default, these operations apply to the array as though it were a list of numbers, regardless of its shape. However, by specifying the axis parameter you can apply an operation along the specified axis of an array:\n",
        "\n"
      ]
    },
    {
      "cell_type": "code",
      "execution_count": null,
      "metadata": {
        "id": "QW6zhR_GNFes",
        "colab": {
          "base_uri": "https://localhost:8080/",
          "height": 144
        },
        "outputId": "0c44ffcb-0ce0-49a3-d85a-6633d5ab71b2"
      },
      "outputs": [
        {
          "output_type": "stream",
          "name": "stdout",
          "text": [
            "[[ 0  1  2  3]\n",
            " [ 4  5  6  7]\n",
            " [ 8  9 10 11]]\n"
          ]
        },
        {
          "output_type": "display_data",
          "data": {
            "text/plain": [
              "array([12, 15, 18, 21])"
            ]
          },
          "metadata": {}
        },
        {
          "output_type": "execute_result",
          "data": {
            "text/plain": [
              "array([[ 0,  1,  3,  6],\n",
              "       [ 4,  9, 15, 22],\n",
              "       [ 8, 17, 27, 38]])"
            ]
          },
          "metadata": {},
          "execution_count": 6
        }
      ],
      "source": [
        "b = np.arange(12).reshape(3, 4)\n",
        "print(b)                 # Printing b\n",
        "\n",
        "display(b.sum(axis=0))     # sum of each column\n",
        "\n",
        "b.min(axis=1)     # min of each row\n",
        "\n",
        "b.cumsum(axis=1)  # cumulative sum along each row"
      ]
    },
    {
      "cell_type": "markdown",
      "metadata": {
        "id": "PIzFyAkcNSsb"
      },
      "source": [
        "NumPy also provides common mathematical functions such as $\\text{exp}$ (for exponential), $\\text{sqrt}$ (for square root), etc.\n",
        "\n",
        "#### **2.4. Indexing, Slicing and Iterating**\n",
        "\n",
        "One-dimensional arrays can be indexed, sliced and iterated over, much like lists and other Python sequences.\n",
        "\n"
      ]
    },
    {
      "cell_type": "code",
      "execution_count": null,
      "metadata": {
        "id": "W8fVSaA0gumu",
        "colab": {
          "base_uri": "https://localhost:8080/"
        },
        "outputId": "db47a775-94d6-4179-c17f-8ee5b8b499cd"
      },
      "outputs": [
        {
          "output_type": "stream",
          "name": "stdout",
          "text": [
            "First element: \n",
            "Last element: \n",
            "3rd element: \n",
            "Elements from 2 to 5: \n",
            "1000\n",
            "1\n",
            "1000\n",
            "3\n",
            "1000\n",
            "5\n",
            "6\n",
            "7\n",
            "8\n",
            "9\n"
          ]
        }
      ],
      "source": [
        "# An array of 10 elements with values [0, 1, , ..., 9] and make every element power 3\n",
        "a = np.arange(10)\n",
        "a\n",
        "\n",
        "# First element\n",
        "print(\"First element: \")\n",
        "a[0]\n",
        "\n",
        "# Last element\n",
        "print(\"Last element: \")\n",
        "a[-1]\n",
        "\n",
        "# Print the 3rd element - Similar to C, array indices in NumPy start from 0\n",
        "print(\"3rd element: \")\n",
        "a[2]\n",
        "\n",
        "# Print the elements index between 2 and 5\n",
        "print(\"Elements from 2 to 5: \")\n",
        "a[2:5]\n",
        "\n",
        "# From start to position 6, exclusive, set every 2nd element to 1000\n",
        "# This is equivalent to a[0:6:2] = 1000;\n",
        "a[:6:2] = 1000\n",
        "a\n",
        "\n",
        "# Reverse the array a, i.e., last element becomes first, etc.\n",
        "a[::-1]\n",
        "\n",
        "# Looping through the elements of a\n",
        "for x in a:\n",
        "    print(x)"
      ]
    },
    {
      "cell_type": "markdown",
      "metadata": {
        "id": "uvGC2IJCjpgH"
      },
      "source": [
        "**Multidimensional** arrays can have one index per axis. These indices are given in a tuple separated by commas.\n",
        "\n",
        "When fewer indices are provided than the number of axes, the missing indices are considered complete slices. For instance, in the example below, b[1] is the same as b[1, :] and is also the same as b[1, ...] where the three dots mean the remaining dimensions."
      ]
    },
    {
      "cell_type": "code",
      "execution_count": null,
      "metadata": {
        "colab": {
          "base_uri": "https://localhost:8080/"
        },
        "id": "WYN8G7T-kH50",
        "outputId": "14327483-948d-496c-dae0-ad7590fa59cc"
      },
      "outputs": [
        {
          "output_type": "stream",
          "name": "stdout",
          "text": [
            "[10 11 12 13]\n"
          ]
        }
      ],
      "source": [
        "import numpy as np\n",
        "\n",
        "b = np.array([[ 0,  1,  2,  3],\n",
        "              [10, 11, 12, 13],\n",
        "              [20, 21, 22, 23],\n",
        "              [30, 31, 32, 33],\n",
        "              [40, 41, 42, 43]])\n",
        "\n",
        "print(b[1])\n",
        "\n"
      ]
    },
    {
      "cell_type": "code",
      "execution_count": null,
      "metadata": {
        "colab": {
          "base_uri": "https://localhost:8080/"
        },
        "id": "vnshOEPUlspE",
        "outputId": "79beb874-5b79-4c97-89e2-e99201a9eecc"
      },
      "outputs": [
        {
          "output_type": "stream",
          "name": "stdout",
          "text": [
            "[10 11 12 13]\n"
          ]
        }
      ],
      "source": [
        "# Same command but written different\n",
        "print(b[1,:])\n",
        "\n"
      ]
    },
    {
      "cell_type": "code",
      "execution_count": null,
      "metadata": {
        "colab": {
          "base_uri": "https://localhost:8080/"
        },
        "id": "dBf07FA_lsVz",
        "outputId": "94d67160-74b6-44ae-d534-fe21122d9229"
      },
      "outputs": [
        {
          "name": "stdout",
          "output_type": "stream",
          "text": [
            "[10 11 12 13]\n"
          ]
        }
      ],
      "source": [
        "# And another way of doing the same thing\n",
        "print(b[1, ...])"
      ]
    },
    {
      "cell_type": "markdown",
      "metadata": {
        "id": "4WEZIsI0pkrZ"
      },
      "source": [
        "**Iterating** over multidimensional arrays is done with respect to the first axis:"
      ]
    },
    {
      "cell_type": "code",
      "execution_count": null,
      "metadata": {
        "colab": {
          "base_uri": "https://localhost:8080/"
        },
        "id": "cOVFAJprzHyy",
        "outputId": "a5d7c2b2-64d9-4a0d-917e-dcfcb9d4665b"
      },
      "outputs": [
        {
          "output_type": "stream",
          "name": "stdout",
          "text": [
            "[0 1 2 3]\n",
            "[10 11 12 13]\n",
            "[20 21 22 23]\n",
            "[30 31 32 33]\n",
            "[40 41 42 43]\n"
          ]
        }
      ],
      "source": [
        "# Iterating over rows\n",
        "for row in b:\n",
        "    print(row)\n"
      ]
    },
    {
      "cell_type": "markdown",
      "metadata": {
        "id": "JXhFGOvpzOg4"
      },
      "source": [
        "In the example above, if $b$ had three axes (dimensions) then row will have two dimensions.\n",
        "\n",
        "#### **2.5. Shape manipulation**\n",
        "\n",
        "The shape of an array is the number of elements it has along each axis. You can change this shape by\n",
        "- flattening it (e.g., 2D array  becomes one long 1D array) using the method **ravel()**\n",
        "- reshape it. For example, if you have an array of 3 rows and 4 columns,  you can reshape it into an array of 6 rows and 2 columns using the method **reshape()**.\n",
        "\n"
      ]
    },
    {
      "cell_type": "markdown",
      "metadata": {
        "id": "DhYhRsYBmSrd"
      },
      "source": [
        "#### **2.6. Other matters**\n",
        "\n",
        "You can stack together several arrays along different axis to form a new array. You can also split one array into several smaller ones.\n",
        "\n",
        "It also important to pay attention to how arrays are copied. Copying an array variabe into another variable can be done in different ways:\n",
        "- A simple assignment $b = a$ does not make a separate (new) copy of a. Instead, $b$ becomes a new name for the same ndarray.\n",
        "- Viewer or shallow copy using the view method which creates a new array that looks at the same date. Also, slicing an array returns a view of it.\n",
        "- Deep copy using the method copy().\n",
        "\n"
      ]
    },
    {
      "cell_type": "markdown",
      "metadata": {
        "id": "WhgCJ6t0mV_5"
      },
      "source": [
        "#### **2.7. Additional Reading**\n",
        "\n",
        "For further reading, please refer to https://numpy.org/doc/stable/user/quickstart.html for more advanced topics related to NumPy arrays, including tricks and tips!"
      ]
    },
    {
      "cell_type": "markdown",
      "metadata": {
        "id": "PHSTcbsL2XI2"
      },
      "source": [
        "### **3. PyTorch**\n",
        "\n",
        "The second library of interest is PyTorch, which is an open-source deep learning library for python, and will be extensively used throughout the unit. You can install PyTorch on your local machine by referring to https://PyTorch.org/get-started/locally/.\n",
        "\n",
        "PyTorch is an open source deep learning platform that provides a seamless path from research prototyping to production deployment.\n",
        "> - *Hybrid Front-End:* A new hybrid front-end seamlessly transitions between eager mode and graph mode to provide both flexibility and speed.\n",
        "> - *Distributed Training:* Scalable distributed training and performance optimization in research and production is enabled by the torch.distributed backend.\n",
        "> - *Python-First:* Deep integration into Python allows popular libraries and packages to be used for easily writing neural network layers in Python.\n",
        "> - *Tools & Libraries:* A rich ecosystem of tools and libraries extends PyTorch and supports development in computer vision, NLP and more.\n",
        ">\n",
        "> To learn more about PyTorch and expand your knowledge, please refer to [About PyTorch](https://pytorch.org/)*\n",
        "\n",
        "One consideration as to why we are using PyTorch is most succinctly summerized by Andrej Karpathy, Director of Artificial Intelligence and Autopilot Vision at Tesla. The technical summary can be found [here](https://twitter.com/karpathy/status/868178954032513024?lang=en).\n",
        "\n",
        "To use PyTorch in colab, please refer to https://colab.research.google.com/github/omarsar/pytorch_notebooks/blob/master/pytorch_quick_start.ipynb.\n",
        "\n",
        "You can use the code below to check whether PyTorch is properly installed and which version is installed."
      ]
    },
    {
      "cell_type": "code",
      "execution_count": null,
      "metadata": {
        "colab": {
          "base_uri": "https://localhost:8080/"
        },
        "id": "lOPQMpSYb62l",
        "outputId": "da192bf9-bab1-4612-9f21-06eaa2e29dac"
      },
      "outputs": [
        {
          "output_type": "stream",
          "name": "stdout",
          "text": [
            "2.5.1+cu124\n"
          ]
        }
      ],
      "source": [
        "## Checking that PyTorch is running\n",
        "\n",
        "import torch\n",
        "\n",
        "# Check the version\n",
        "print(torch.__version__)"
      ]
    },
    {
      "cell_type": "code",
      "execution_count": null,
      "metadata": {
        "id": "_ztpnC1cQeko"
      },
      "outputs": [],
      "source": [
        "# Creare a simple Tensor\n",
        "data = [[1, 2],[3, 4]]\n",
        "x_data = torch.tensor(data)"
      ]
    },
    {
      "cell_type": "markdown",
      "metadata": {
        "id": "bhbrIKxucLSd"
      },
      "source": [
        "One of the fundamental concepts in PyTorch is the **Tensor**, a multi-dimensional matrix containing elements of a single type. Tensors are similar to NumPy nd-arrays. They also support most of the functionality that NumPy matrices do.\n",
        "\n",
        "Please go through this guide: https://pytorch.org/tutorials/ to learn about PyTorch, from the basics to advanced topics. Many of the examples are about deep learning - don't worry about them at this stage. Below are the topics that you need to familiarize yourself with at this stage.\n",
        "\n",
        "Start by familiarizing yourself with ***the basics*** at: https://pytorch.org/tutorials/beginner/basics/intro.html. You should learn about:\n",
        "- **Tensors:** These are a specialized data structure, very similar to arrays and matrices. Tensors in PyTorch are used to encode inputs and outputs of a model (neural network), as well as the model's parameters. They are similar to NumPy's ndarrays, except that tensors can run on GPUs or other hardware accelerators.  In fact, tensors and NumPy arrays can often share the same underlying memory, eliminating the need to copy data.\n",
        "- **Datasets and DataLoaders:** PyTorch offers ready-to-use classes and functions for loading standard datasets used to train neural networks.\n",
        "\n",
        "The Quick Start section of the tutorial above provides a quick overview of the functionalities available\n",
        "\n",
        "Once we advance in the unit and you learn about neural networks, then you need to familiarize yourself with the following topics:\n",
        "- **Transforms:** i.e., how to transform the data to make it suitable for training neural neytworks.\n",
        "- **Build model:** to build neural network models.\n",
        "- **Automatic differentiation:** I will talk about this later in the lecture.\n",
        "- **Optimization loop:** I will talk about this later in the lecture.\n",
        "\n",
        "This week, make sure that you familiarize yourself with **Tensors**. You need to know:\n",
        "- How to create tensors directly from data, from another NumPy array, and from another Tensor.\n",
        "- Attributes of a Tensor.\n",
        "- Operations on Tensors, including indexing and slicing."
      ]
    },
    {
      "cell_type": "markdown",
      "metadata": {
        "id": "wWrt-C9Vsp5C"
      },
      "source": [
        "### **4. Practice what you learned**\n",
        "\n",
        "In following exercises, you will familiarize yourself with tensors and more importantly, the PyTorch documentation. It is important to note that for this section, we are simply using PyTorch’s tensors as a matrix library, just like NumPy. So please do not use functions in torch.nn, like torch.nn.ReLU.\n",
        "\n",
        "In PyTorch, it is very simple to convert between numpy arrays and tensors. PyTorch’s tensor library provides functions to perform the conversion in either direction."
      ]
    },
    {
      "cell_type": "markdown",
      "metadata": {
        "id": "3p9YQe_uDi61"
      },
      "source": [
        "#### **4.1. Converting from NumPy to PyTorch Tensor**\n",
        "In this task, you will implement a conversion function from arrays to tensors.\n",
        "\n",
        "The function should take a numpy ndarray and convert it to a PyTorch tensor.\n",
        "\n",
        "*Function torch.tensor is one of the simple ways to implement it.*\n",
        "\n",
        "**Your Task**: Implement the function `numpy2tensor`."
      ]
    },
    {
      "cell_type": "code",
      "execution_count": null,
      "metadata": {
        "id": "klJEQtx7FGAH"
      },
      "outputs": [],
      "source": [
        "def numpy2tensor(x):\n",
        "    \"\"\"\n",
        "    Creates a torch.Tensor from a numpy.ndarray.\n",
        "\n",
        "    Parameters:\n",
        "    x (numpy.ndarray): 1-dimensional numpy array.\n",
        "\n",
        "    Returns:\n",
        "    torch.Tensor: 1-dimensional torch tensor.\n",
        "    \"\"\"\n",
        "    # Solution\n",
        "    return torch.tensor(x)"
      ]
    },
    {
      "cell_type": "markdown",
      "metadata": {
        "id": "LPckbKJpFHr4"
      },
      "source": [
        "**Test Example:**"
      ]
    },
    {
      "cell_type": "code",
      "execution_count": null,
      "metadata": {
        "id": "7L5Km3B2tKyl"
      },
      "outputs": [],
      "source": [
        "import torch\n",
        "import numpy as np"
      ]
    },
    {
      "cell_type": "code",
      "execution_count": null,
      "metadata": {
        "id": "pZjTdpA1FKFx",
        "colab": {
          "base_uri": "https://localhost:8080/"
        },
        "outputId": "8016e598-f107-47ff-c4a6-ff68914c9225"
      },
      "outputs": [
        {
          "output_type": "stream",
          "name": "stdout",
          "text": [
            "<class 'torch.Tensor'>\n",
            "tensor([ 115, -133,  855,  ..., -479,  710,  112])\n"
          ]
        }
      ],
      "source": [
        "\n",
        "\n",
        "X = np.random.randint(-1000, 1000, size=3000)\n",
        "\n",
        "newX = numpy2tensor(X)\n",
        "\n",
        "# printing the type of the data\n",
        "print(type(newX))\n",
        "\n",
        "# printing the data\n",
        "print(newX)"
      ]
    },
    {
      "cell_type": "markdown",
      "metadata": {
        "id": "DXW0LdfbFOFK"
      },
      "source": [
        "**Expected Output**:\n",
        "<table style = \"align:40%\">\n",
        "    <tr>\n",
        "        <td style=\"text-align:left;\"><tt><b> type(numpy2tensor(X)) </b></tt></td>\n",
        "        <td style=\"text-align:left;\"><tt> &lt;class &#39;torch.Tensor&#39;&gt; </tt></td>\n",
        "    </tr>\n",
        "</table>"
      ]
    },
    {
      "cell_type": "markdown",
      "metadata": {
        "id": "dXm9FUllFSSw"
      },
      "source": [
        "#### **4.2. Converting from PyTorch Tensor to NumPy**\n",
        "\n",
        "In this task, you will implement a conversion function from tensors to arrays.\n",
        "\n",
        "The function should take a PyTorch tensor and convert it to a numpy ndarray.\n",
        "\n",
        "**Your Task**: Implement the function `tensor2numpy`."
      ]
    },
    {
      "cell_type": "code",
      "execution_count": null,
      "metadata": {
        "id": "ls7nSxDfFoK2"
      },
      "outputs": [],
      "source": [
        "def tensor2numpy(x):\n",
        "    \"\"\"\n",
        "    Creates a numpy.ndarray from a torch.Tensor.\n",
        "\n",
        "    Parameters:\n",
        "    x (torch.Tensor): 1-dimensional torch tensor.\n",
        "\n",
        "    Returns:\n",
        "    numpy.ndarray: 1-dimensional numpy array.\n",
        "    \"\"\"\n",
        "\n",
        "    # Solution\n",
        "    return x.numpy()"
      ]
    },
    {
      "cell_type": "markdown",
      "metadata": {
        "id": "0hzuBTxuFqSY"
      },
      "source": [
        "**Test Example:**"
      ]
    },
    {
      "cell_type": "code",
      "execution_count": null,
      "metadata": {
        "id": "wXi-bI3TFsZs",
        "colab": {
          "base_uri": "https://localhost:8080/"
        },
        "outputId": "06de8f6a-4d44-4824-c9ea-b0307a72e5ea"
      },
      "outputs": [
        {
          "output_type": "stream",
          "name": "stdout",
          "text": [
            "<class 'numpy.ndarray'>\n"
          ]
        }
      ],
      "source": [
        "X = np.random.randint(-1000, 1000, size=3000)\n",
        "X = torch.from_numpy(X)\n",
        "\n",
        "print(type(tensor2numpy(X)))"
      ]
    },
    {
      "cell_type": "markdown",
      "metadata": {
        "id": "scUXKxnyFxVK"
      },
      "source": [
        "**Expected Output**:\n",
        "<table style = \"align:40%\">\n",
        "    <tr>\n",
        "        <td style=\"text-align:left;\"><tt><b> type(tensor2numpy(X)) </b></tt></td>\n",
        "        <td style=\"text-align:left;\"><tt> &lt;class &#39;numpy.ndarray&#39;&gt; </tt></td>\n",
        "    </tr>\n",
        "</table>"
      ]
    },
    {
      "cell_type": "markdown",
      "metadata": {
        "id": "IOF0T1j22_nv"
      },
      "source": [
        "### **5. Vectorization**\n",
        "\n",
        "Lists are a foundational data structure in Python, allowing us to create simple and complex algorithms to solve problems. However, in mathematics and particularly in linear algebra, we work with vectors and matrices to model problems and create statistical solutions. Through these exercises, we will begin introducing you to how to think more mathematically through the use of NumPy by starting with a process known as vectorization.\n",
        "\n",
        "Index chasing is a very valuable skill, and certainly one you will need in this course, but mathematical problems often have simpler and more efficient representations that use vectors. The process of converting from an implementation that uses indicies to one that uses vectors is known as vectorization. Once vectorized, the resulting implementation often yields to a faster and more readable code than before.\n",
        "\n",
        "In the following problems, we will ask you to practice reading mathematical expressions and deduce their vectorized equivalent along with their implementation in Python. You will use the NumPy array object as the Python equivalent to a vector, and in later sections you will work with sets of vectors known as matrices.\n",
        "\n",
        "For the following tasks you will be asked to complete the same task first using **NumPy** Operations, then again using **Torch** Operations."
      ]
    },
    {
      "cell_type": "markdown",
      "metadata": {
        "id": "KL6DGOa52_nx"
      },
      "source": [
        "#### **5.1. Dot Product**\n",
        "\n",
        "In this task, you will implement the dot product function for numpy arrays & torch tensors.\n",
        "\n",
        "The dot product (also known as the scalar product or inner product) is the linear combination of the n real components of two vectors.\n",
        "\n",
        "$$x \\cdot y = x_1 y_1 + x_2 y_2 + \\cdots + x_n y_n$$\n",
        "\n",
        "**Your Task**: Implement the functions `NUMPY_dot` & `PYTORCH_dot`."
      ]
    },
    {
      "cell_type": "code",
      "execution_count": null,
      "metadata": {
        "id": "t7_t_pOq2_ny"
      },
      "outputs": [],
      "source": [
        "def EXAMPLE_inefficient_dot(x, y):\n",
        "    \"\"\"\n",
        "    Inefficient dot product of two arrays.\n",
        "\n",
        "    Parameters:\n",
        "    x (numpy.ndarray): 1-dimensional numpy array.\n",
        "    y (numpy.ndarray): 1-dimensional numpy array.\n",
        "\n",
        "    Returns:\n",
        "    numpy.int64: scalar quantity.\n",
        "    \"\"\"\n",
        "    assert(len(x) == len(y))\n",
        "\n",
        "    result = 0\n",
        "    for i in range(len(x)):\n",
        "        result += x[i]*y[i]\n",
        "\n",
        "    return result"
      ]
    },
    {
      "cell_type": "code",
      "execution_count": null,
      "metadata": {
        "id": "8OgI9XvP2_nz"
      },
      "outputs": [],
      "source": [
        "def NUMPY_dot(x, y):\n",
        "    \"\"\"\n",
        "    Dot product of two arrays.\n",
        "\n",
        "    Parameters:\n",
        "    x (numpy.ndarray): 1-dimensional numpy array.\n",
        "    y (numpy.ndarray): 1-dimensional numpy array.\n",
        "\n",
        "    Returns:\n",
        "    numpy.int64: scalar quantity.\n",
        "    \"\"\"\n",
        "    # Here we will do element wise multiplication\n",
        "    T = np.multiply(x, y)\n",
        "    # Sum the elements of T and return the,\n",
        "    return T.sum()"
      ]
    },
    {
      "cell_type": "code",
      "execution_count": null,
      "metadata": {
        "id": "k6Vt0Q0pH74V"
      },
      "outputs": [],
      "source": [
        "def PYTORCH_dot(x, y):\n",
        "    \"\"\"\n",
        "    Dot product of two tensors.\n",
        "\n",
        "    Parameters:\n",
        "    x (torch.Tensor): 1-dimensional torch tensor.\n",
        "    y (torch.Tensor): 1-dimensional torch tensor.\n",
        "\n",
        "    Returns:\n",
        "    torch.int64: scalar quantity.\n",
        "    \"\"\"\n",
        "    # Here we will do element wise multiplication\n",
        "    T = np.multiply(x, y)\n",
        "\n",
        "    # Sum the elements of T and return the,\n",
        "    return T.sum()\n"
      ]
    },
    {
      "cell_type": "markdown",
      "metadata": {
        "id": "u80TqwMI2_nz"
      },
      "source": [
        "**Test Example:**"
      ]
    },
    {
      "cell_type": "code",
      "execution_count": null,
      "metadata": {
        "id": "zeZu1Amf2_n0",
        "colab": {
          "base_uri": "https://localhost:8080/"
        },
        "outputId": "68988c47-5746-46e3-f114-d3835bcbbebc"
      },
      "outputs": [
        {
          "output_type": "stream",
          "name": "stdout",
          "text": [
            "7082791\n",
            "tensor(7082791)\n"
          ]
        }
      ],
      "source": [
        "np.random.seed(0)\n",
        "X = np.random.randint(-1000, 1000, size=3000)\n",
        "Y = np.random.randint(-1000, 1000, size=3000)\n",
        "\n",
        "\n",
        "print(NUMPY_dot(X,Y))\n",
        "\n",
        "X = torch.from_numpy(X)\n",
        "Y = torch.from_numpy(Y)\n",
        "print(PYTORCH_dot(X,Y))\n"
      ]
    },
    {
      "cell_type": "markdown",
      "metadata": {
        "id": "A74YyJgJ2_n1"
      },
      "source": [
        "**Expected Output**:\n",
        "<table style = \"align:40%\">\n",
        "    <tr>\n",
        "        <td style=\"text-align:left;\"><tt><b> NUMPY_dot(X,Y) </b></tt></td>\n",
        "        <td style=\"text-align:left;\"><tt> 7082791 </tt></td>\n",
        "        <td style=\"text-align:left;\"><tt><b> PYTORCH_dot(X,Y) </b></tt></td>\n",
        "        <td style=\"text-align:left;\"><tt> 7082791 </tt></td>\n",
        "    </tr>\n",
        "</table>"
      ]
    },
    {
      "cell_type": "markdown",
      "metadata": {
        "id": "LIJf-ImY2_n2"
      },
      "source": [
        "#### **5.2. Outer Product**\n",
        "\n",
        "In this task, you will implement the outer product function for numpy arrays & torch tensors.\n",
        "\n",
        "The outer product (also known as the tensor product) of vectors x and y is defined as\n",
        "\n",
        "$$\n",
        "x \\otimes y =\n",
        "\\begin{bmatrix}\n",
        "x_1 y_1 & x_1 y_2 & … & x_1 y_n\\\\\n",
        "x_2 y_1 & x_2 y_2 & … & x_2 y_n\\\\\n",
        "⋮ & ⋮ & ⋱ & ⋮ \\\\\n",
        "x_m y_1 & x_m y_2 & … & x_m y_n\n",
        "\\end{bmatrix}\n",
        "$$\n",
        "\n",
        "**Your Task**: Implement the functions `NUMPY_outer` & `PYTORCH_outer`.\n"
      ]
    },
    {
      "cell_type": "code",
      "execution_count": null,
      "metadata": {
        "id": "kKidI4262_n3"
      },
      "outputs": [],
      "source": [
        "def EXAMPLE_inefficient_outer(x, y):\n",
        "    \"\"\"\n",
        "    Inefficiently compute the outer product of two vectors.\n",
        "\n",
        "    Parameters:\n",
        "    x (numpy.ndarray): 1-dimensional numpy array.\n",
        "    y (numpy.ndarray): 1-dimensional numpy array.\n",
        "\n",
        "    Returns:\n",
        "    numpy.ndarray: 2-dimensional numpy array.\n",
        "    \"\"\"\n",
        "    result = np.zeros((len(x), len(y)))\n",
        "    for i in range(len(x)):\n",
        "        for j in range(len(y)):\n",
        "            result[i, j] = x[i]*y[j]\n",
        "\n",
        "    return result"
      ]
    },
    {
      "cell_type": "code",
      "execution_count": null,
      "metadata": {
        "id": "NBg_pnlb2_n4"
      },
      "outputs": [],
      "source": [
        "def NUMPY_outer(x, y):\n",
        "    \"\"\"\n",
        "    Compute the outer product of two vectors.\n",
        "\n",
        "    Parameters:\n",
        "    x (numpy.ndarray): 1-dimensional numpy array.\n",
        "    y (numpy.ndarray): 1-dimensional numpy array.\n",
        "\n",
        "    Returns:\n",
        "    numpy.ndarray: 2-dimensional numpy array.\n",
        "    \"\"\"\n",
        "\n",
        "    new_x = x.reshape(len(x), 1)\n",
        "\n",
        "    return new_x * y\n",
        "    \"\"\"\n",
        "    n = len(x)    # length of x\n",
        "    m = len(y)    # length of y\n",
        "    # 1. Make x a column vector and replicate it m times\n",
        "    new_x = np.tile(x,  (m, 1) )\n",
        "    # 2. Make y a row vector (which it is already) and replicate it n times\n",
        "    new_y = np.tile(y,  (n, 1) )\n",
        "\n",
        "    # 3. Do element wise\n",
        "    res = np.multiply( new_x.transpose(), new_y)\n",
        "\n",
        "    return res\n",
        "    \"\"\""
      ]
    },
    {
      "cell_type": "code",
      "execution_count": null,
      "metadata": {
        "id": "q7JXJcKMKGA-"
      },
      "outputs": [],
      "source": [
        "def PYTORCH_outer(x, y):\n",
        "    \"\"\"\n",
        "    Compute the outer product of two vectors.\n",
        "\n",
        "    Parameters:\n",
        "    x (torch.Tensor): 1-dimensional torch tensor.\n",
        "    y (torch.Tensor): 1-dimensional torch tensor.\n",
        "\n",
        "    Returns:\n",
        "    torch.Tensor: 2-dimensional torch tensor.\n",
        "    \"\"\"\n",
        "\n",
        "    new_x = x.reshape(len(x), 1)\n",
        "\n",
        "    return new_x * y\n",
        "\n",
        "    # return NotImplemented"
      ]
    },
    {
      "cell_type": "markdown",
      "metadata": {
        "id": "QYdW53b_2_n4"
      },
      "source": [
        "**Test Example:**"
      ]
    },
    {
      "cell_type": "code",
      "execution_count": null,
      "metadata": {
        "id": "DFdGvph72_n5",
        "colab": {
          "base_uri": "https://localhost:8080/"
        },
        "outputId": "c96b0d69-cd56-4ac4-d58c-d91e344f22f4"
      },
      "outputs": [
        {
          "output_type": "stream",
          "name": "stdout",
          "text": [
            "NumPy Result:\n",
            "[[ -68256   52140   74892 -230996 -121028]\n",
            " [ -95256   72765  104517 -322371 -168903]\n",
            " [ 141048 -107745 -154761  477343  250099]]\n",
            "PyTorch Result:\n",
            "tensor([[ -68256,   52140,   74892, -230996, -121028],\n",
            "        [ -95256,   72765,  104517, -322371, -168903],\n",
            "        [ 141048, -107745, -154761,  477343,  250099]])\n"
          ]
        }
      ],
      "source": [
        "np.random.seed(0)\n",
        "\n",
        "# NumPy Version\n",
        "X = np.random.randint(-1000, 1000, size=3) #000)\n",
        "Y = np.random.randint(-1000, 1000, size=5)# 000)\n",
        "Z = NUMPY_outer(X,Y)\n",
        "\n",
        "print(\"NumPy Result:\")\n",
        "print(Z)\n",
        "\n",
        "# PyTorch Version\n",
        "X = torch.from_numpy(X)\n",
        "Y = torch.from_numpy(Y)\n",
        "print(\"PyTorch Result:\")\n",
        "print(PYTORCH_outer(X,Y))\n"
      ]
    },
    {
      "cell_type": "markdown",
      "metadata": {
        "id": "AiVgEuI12_n6"
      },
      "source": [
        "**Expected Output**:\n",
        "<table style = \"align:40%\">\n",
        "    <tr>\n",
        "        <td style=\"text-align:left;\"><tt><b> NUMPY_outer(X,Y) </b></tt></td>\n",
        "        <td style=\"text-align:left;\"><tt>\n",
        "            [[&nbsp;&nbsp;59092&nbsp;-144096&nbsp;&nbsp;136512&nbsp;...&nbsp;&nbsp;-53088&nbsp;&nbsp;-86268&nbsp;&nbsp;&nbsp;53404] <br>\n",
        "            &nbsp;[&nbsp;&nbsp;82467&nbsp;-201096&nbsp;&nbsp;190512&nbsp;...&nbsp;&nbsp;-74088&nbsp;-120393&nbsp;&nbsp;&nbsp;74529] <br>\n",
        "            &nbsp;[-122111&nbsp;&nbsp;297768&nbsp;-282096&nbsp;...&nbsp;&nbsp;109704&nbsp;&nbsp;178269&nbsp;-110357] <br>\n",
        "            &nbsp;... <br>\n",
        "            &nbsp;[-144551&nbsp;&nbsp;352488&nbsp;-333936&nbsp;...&nbsp;&nbsp;129864&nbsp;&nbsp;211029&nbsp;-130637] <br>\n",
        "            &nbsp;[-179707&nbsp;&nbsp;438216&nbsp;-415152&nbsp;...&nbsp;&nbsp;161448&nbsp;&nbsp;262353&nbsp;-162409] <br>\n",
        "            &nbsp;[&nbsp;&nbsp;88825&nbsp;-216600&nbsp;&nbsp;205200&nbsp;...&nbsp;&nbsp;-79800&nbsp;-129675&nbsp;&nbsp;&nbsp;80275]] <br>\n",
        "        </tt></td>\n",
        "        <td style=\"text-align:left;\"><tt><b> PYTORCH_outer(X,Y) </b></tt></td>\n",
        "        <td style=\"text-align:left;\"><tt>\n",
        "            [[&nbsp;&nbsp;59092&nbsp;-144096&nbsp;&nbsp;136512&nbsp;...&nbsp;&nbsp;-53088&nbsp;&nbsp;-86268&nbsp;&nbsp;&nbsp;53404] <br>\n",
        "            &nbsp;[&nbsp;&nbsp;82467&nbsp;-201096&nbsp;&nbsp;190512&nbsp;...&nbsp;&nbsp;-74088&nbsp;-120393&nbsp;&nbsp;&nbsp;74529] <br>\n",
        "            &nbsp;[-122111&nbsp;&nbsp;297768&nbsp;-282096&nbsp;...&nbsp;&nbsp;109704&nbsp;&nbsp;178269&nbsp;-110357] <br>\n",
        "            &nbsp;... <br>\n",
        "            &nbsp;[-144551&nbsp;&nbsp;352488&nbsp;-333936&nbsp;...&nbsp;&nbsp;129864&nbsp;&nbsp;211029&nbsp;-130637] <br>\n",
        "            &nbsp;[-179707&nbsp;&nbsp;438216&nbsp;-415152&nbsp;...&nbsp;&nbsp;161448&nbsp;&nbsp;262353&nbsp;-162409] <br>\n",
        "            &nbsp;[&nbsp;&nbsp;88825&nbsp;-216600&nbsp;&nbsp;205200&nbsp;...&nbsp;&nbsp;-79800&nbsp;-129675&nbsp;&nbsp;&nbsp;80275]] <br>\n",
        "        </tt></td>\n",
        "    </tr>\n",
        "</table>"
      ]
    },
    {
      "cell_type": "markdown",
      "metadata": {
        "id": "GKeK_i3f2_n8"
      },
      "source": [
        "#### **5.3. Hadamard Product**\n",
        "\n",
        "In this task, you will implement the Hadamard product function, `multiply`, for numpy arrays & torch tensors.\n",
        "\n",
        "The Hadamard product (also known as the Schur product or entrywise product) of vectors x and y is defined as\n",
        "\n",
        "$$\n",
        "x \\circ y =\n",
        "\\begin{bmatrix}\n",
        "x_{1} y_{1} & x_{2} y_{2} & … & x_{n} y_{n}\n",
        "\\end{bmatrix}\n",
        "$$\n",
        "\n",
        "**Your Task**: Implement the functions `NUMPY_multiply` & `PYTORCH_multiply`."
      ]
    },
    {
      "cell_type": "code",
      "execution_count": null,
      "metadata": {
        "id": "i5b2GYkT2_n-"
      },
      "outputs": [],
      "source": [
        "def EXAMPLE_inefficient_multiply(x, y):\n",
        "    \"\"\"\n",
        "    Inefficiently multiply arguments element-wise.\n",
        "\n",
        "    Parameters:\n",
        "    x (numpy.ndarray): 1-dimensional numpy array.\n",
        "    y (numpy.ndarray): 1-dimensional numpy array.\n",
        "\n",
        "    Returns:\n",
        "    numpy.ndarray: 1-dimensional numpy array.\n",
        "    \"\"\"\n",
        "    assert(len(x) == len(y))\n",
        "\n",
        "    result = np.zeros(len(x))\n",
        "    for i in range(len(x)):\n",
        "        result[i] = x[i]*y[i]\n",
        "\n",
        "    return result"
      ]
    },
    {
      "cell_type": "code",
      "execution_count": null,
      "metadata": {
        "id": "ulXFBhZW2_n-"
      },
      "outputs": [],
      "source": [
        "def NUMPY_multiply(x, y):\n",
        "    \"\"\"\n",
        "    Multiply arguments element-wise.\n",
        "\n",
        "    Parameters:\n",
        "    x (numpy.ndarray): 1-dimensional numpy array.\n",
        "    y (numpy.ndarray): 1-dimensional numpy array.\n",
        "\n",
        "    Returns:\n",
        "    numpy.ndarray: 1-dimensional numpy array.\n",
        "    \"\"\"\n",
        "\n",
        "    return np.multiply(x, y)"
      ]
    },
    {
      "cell_type": "code",
      "execution_count": null,
      "metadata": {
        "id": "HkauisJ-YTfF"
      },
      "outputs": [],
      "source": [
        "def PYTORCH_multiply(x, y):\n",
        "    \"\"\"\n",
        "    Multiply arguments element-wise.\n",
        "\n",
        "    Parameters:\n",
        "    x (torch.Tensor): 1-dimensional torch tensor.\n",
        "    y (torch.Tensor): 1-dimensional torch tensor.\n",
        "\n",
        "    Returns:\n",
        "    torch.Tensor: 1-dimensional torch tensor.\n",
        "    \"\"\"\n",
        "\n",
        "    return torch.multiply(x, y)"
      ]
    },
    {
      "cell_type": "markdown",
      "metadata": {
        "id": "MJamtDvL2_n_"
      },
      "source": [
        "**Test Example:**"
      ]
    },
    {
      "cell_type": "code",
      "execution_count": null,
      "metadata": {
        "id": "M1WVGeFB2_n_",
        "colab": {
          "base_uri": "https://localhost:8080/"
        },
        "outputId": "327589d4-a15a-47b2-ddd3-e58cca7e6f62"
      },
      "outputs": [
        {
          "output_type": "stream",
          "name": "stdout",
          "text": [
            "NumPy result:\n",
            "[  59092 -201096 -282096 ...  129864  262353   80275]\n",
            "PyTorch result:\n",
            "tensor([  59092, -201096, -282096,  ...,  129864,  262353,   80275])\n"
          ]
        }
      ],
      "source": [
        "np.random.seed(0)\n",
        "X = np.random.randint(-1000, 1000, size=3000)\n",
        "Y = np.random.randint(-1000, 1000, size=3000)\n",
        "\n",
        "print(\"NumPy result:\")\n",
        "print(NUMPY_multiply(X,Y))\n",
        "\n",
        "\n",
        "X = torch.from_numpy(X)\n",
        "Y = torch.from_numpy(Y)\n",
        "print(\"PyTorch result:\")\n",
        "print(PYTORCH_multiply(X,Y))\n"
      ]
    },
    {
      "cell_type": "markdown",
      "metadata": {
        "id": "IUt8RkH22_oA"
      },
      "source": [
        "**Expected Output**:\n",
        "<table style = \"align:40%\">\n",
        "    <tr>\n",
        "        <td style=\"text-align:left;\"><tt><b> NUMPY_multiply(X,Y) </b></tt></td>\n",
        "        <td style=\"text-align:left;\"><tt>\n",
        "            [&nbsp;&nbsp;59092&nbsp;-201096&nbsp;-282096&nbsp;...&nbsp;&nbsp;129864&nbsp;&nbsp;262353&nbsp;&nbsp;&nbsp;80275]\n",
        "        </tt></td>\n",
        "        <td style=\"text-align:left;\"><tt><b> PYTORCH_multiply(X,Y) </b></tt></td>\n",
        "        <td style=\"text-align:left;\"><tt>\n",
        "            [&nbsp;&nbsp;59092&nbsp;-201096&nbsp;-282096&nbsp;...&nbsp;&nbsp;129864&nbsp;&nbsp;262353&nbsp;&nbsp;&nbsp;80275]\n",
        "        </tt></td>\n",
        "    </tr>\n",
        "</table>"
      ]
    },
    {
      "cell_type": "markdown",
      "metadata": {
        "id": "wUntDGYM2_oB"
      },
      "source": [
        "#### **5.4. Sum-Product**\n",
        "In this task, you will implement the sum-product function for numpy arrays & torch tensors.\n",
        "\n",
        "The sum-product of vectors x and y, each with n real component, is defined as\n",
        "\n",
        "$$\n",
        "f(x, y) =\n",
        "{\n",
        "\\begin{bmatrix}\n",
        "1\\\\\n",
        "1\\\\\n",
        "⋮\\\\\n",
        "1\n",
        "\\end{bmatrix}^{\\;T}\n",
        "%\n",
        "\\begin{bmatrix}\n",
        "x_1 y_1 & x_1 y_2 & … & x_1 y_n\\\\\n",
        "x_2 y_1 & x_2 y_2 & … & x_2 y_n\\\\\n",
        "⋮ & ⋮ & ⋱ & ⋮ \\\\\n",
        "x_m y_1 & x_m y_2 & … & x_m y_n\n",
        "\\end{bmatrix}\n",
        "%\n",
        "\\begin{bmatrix}\n",
        "1\\\\\n",
        "1\\\\\n",
        "⋮\\\\\n",
        "1\n",
        "\\end{bmatrix}\n",
        "} =\n",
        "\\displaystyle\\sum_{i=1}^{n} \\displaystyle\\sum_{j=1}^{n} x_i \\cdot y_j\n",
        "$$\n",
        "\n",
        "**Your Task**: Implement the functions `NUMPY_sumproduct` & `PYTORCH_sumproduct`.\n"
      ]
    },
    {
      "cell_type": "code",
      "execution_count": null,
      "metadata": {
        "id": "AU4_ZYWc2_oC"
      },
      "outputs": [],
      "source": [
        "def EXAMPLE_inefficient_sumproduct(x, y):\n",
        "    \"\"\"\n",
        "    Inefficiently sum over all the dimensions of the outer product\n",
        "    of two vectors.\n",
        "\n",
        "    Parameters:\n",
        "    x (numpy.ndarray): 1-dimensional numpy array.\n",
        "    y (numpy.ndarray): 1-dimensional numpy array.\n",
        "\n",
        "    Returns:\n",
        "    numpy.int64: scalar quantity.\n",
        "    \"\"\"\n",
        "    # Check that the two lengths are correct\n",
        "    assert(len(x) == len(y))\n",
        "\n",
        "    result = 0\n",
        "    for i in range(len(x)):\n",
        "        for j in range(len(y)):\n",
        "            result += x[i] * y[j]\n",
        "\n",
        "    return result"
      ]
    },
    {
      "cell_type": "code",
      "execution_count": null,
      "metadata": {
        "id": "-rxIQWnO2_oD"
      },
      "outputs": [],
      "source": [
        "def NUMPY_sumproduct(x, y):\n",
        "    \"\"\"\n",
        "    Sum over all the dimensions of the outer product of two vectors.\n",
        "\n",
        "    Parameters:\n",
        "    x (numpy.ndarray): 1-dimensional numpy array.\n",
        "    y (numpy.ndarray): 1-dimensional numpy array.\n",
        "\n",
        "    Returns:\n",
        "    numpy.int64: scalar quantity.\n",
        "    \"\"\"\n",
        "\n",
        "    # Check that the two lengths are correct\n",
        "    assert(len(x) == len(y))\n",
        "\n",
        "    n = len(x)\n",
        "    one   = np.ones((1, n))\n",
        "    one_t = np.ones((n, 1))\n",
        "\n",
        "    #print(one_t)\n",
        "\n",
        "    # Use the symbol @ for matrix multiplications\n",
        "    return one @ (NUMPY_outer(x, y) @ one_t)"
      ]
    },
    {
      "cell_type": "code",
      "execution_count": null,
      "metadata": {
        "id": "PmP3En4dbg0D"
      },
      "outputs": [],
      "source": [
        "def PYTORCH_sumproduct(x, y):\n",
        "    \"\"\"\n",
        "    Sum over all the dimensions of the outer product of two vectors.\n",
        "\n",
        "    Parameters:\n",
        "    x (torch.Tensor): 1-dimensional torch tensor.\n",
        "    y (torch.Tensor): 1-dimensional torch tensor.\n",
        "\n",
        "    Returns:\n",
        "    torch.int64: scalar quantity.\n",
        "    \"\"\"\n",
        "\n",
        "    # Check that the two lengths are correct\n",
        "    assert(len(x) == len(y))\n",
        "\n",
        "    n = len(x)\n",
        "    one   = torch.ones((1, n))\n",
        "    one_t = torch.ones((n, 1))\n",
        "\n",
        "    #print(one_t)\n",
        "\n",
        "    # Use the symbol @ for matrix multiplications\n",
        "    return one @ PYTORCH_outer(x, y) @ one_t #one @ (TORCH_outer(x, y) @ one_t)"
      ]
    },
    {
      "cell_type": "markdown",
      "metadata": {
        "id": "saWnHRYC2_oE"
      },
      "source": [
        "**Test Example:**"
      ]
    },
    {
      "cell_type": "code",
      "execution_count": null,
      "metadata": {
        "colab": {
          "base_uri": "https://localhost:8080/"
        },
        "id": "TM6MG6Lc2_oE",
        "outputId": "dff0cc00-3bee-4db8-d6dc-232018a0eafc"
      },
      "outputs": [
        {
          "output_type": "stream",
          "name": "stdout",
          "text": [
            "NumPy Result: \n",
            "[[2.6542152e+08]]\n",
            "PyTorch Result: \n",
            "tensor([[2.6542e+08]])\n"
          ]
        }
      ],
      "source": [
        "np.random.seed(0)\n",
        "X = np.random.randint(-1000, 1000, size=3000)\n",
        "Y = np.random.randint(-1000, 1000, size=3000)\n",
        "\n",
        "print(\"NumPy Result: \")\n",
        "print(NUMPY_sumproduct(X,Y))\n",
        "\n",
        "X = torch.from_numpy(X)\n",
        "Y = torch.from_numpy(Y)\n",
        "print(\"PyTorch Result: \")\n",
        "print(PYTORCH_sumproduct(X.float(), Y.float()))"
      ]
    },
    {
      "cell_type": "markdown",
      "metadata": {
        "id": "oVkFcF3U2_oF"
      },
      "source": [
        "**Expected Output**:\n",
        "<table style = \"align:40%\">\n",
        "    <tr>\n",
        "        <td style=\"text-align:left;\"><tt><b> NUMPY_sumproduct(X,Y) </b></tt></td>\n",
        "        <td style=\"text-align:left;\"><tt> 265421520 </tt></td>\n",
        "        <td style=\"text-align:left;\"><tt><b> TORCH_sumproduct(X,Y) </b></tt></td>\n",
        "        <td style=\"text-align:left;\"><tt> 265421520 </tt></td>\n",
        "    </tr>\n",
        "</table>"
      ]
    },
    {
      "cell_type": "markdown",
      "metadata": {
        "id": "IrPg5BtP2_oG"
      },
      "source": [
        "#### **5.5. ReLU**\n",
        "\n",
        "In this task, you will implement the ReLU activation function for numpy arrays and torch tensors.\n",
        "\n",
        "The ReLU activation (also known as the rectifier or rectified linear unit) matrix Z resulting from applying the ReLU function to matrix X is defined such that for $X,Z \\in M_{m \\times n} (\\mathbb{R})$,\n",
        "\n",
        "$$Z = {\\tt ReLU}(X) \\implies \\begin{cases}z_{ij} = x_{ij}&{\\mbox{if }}x_{ij}>0\\\\z_{ij} = 0&{\\mbox{otherwise.}}\\end{cases}$$\n",
        "\n",
        "For reference, it is common to use the notation $X = (x_{ij})$ and $Z = (z_{ij})$.\n",
        "\n",
        "**Your Task:** Implement the functions `NUMPY_ReLU` & `PYTORCH_ReLU`."
      ]
    },
    {
      "cell_type": "code",
      "execution_count": null,
      "metadata": {
        "id": "4f7nUWF_2_oG"
      },
      "outputs": [],
      "source": [
        "def EXAMPLE_inefficient_ReLU(x):\n",
        "    \"\"\"\n",
        "    Inefficiently applies the rectified linear unit function\n",
        "    element-wise.\n",
        "\n",
        "    Parameters:\n",
        "    x (numpy.ndarray): 2-dimensional numpy array.\n",
        "\n",
        "    Returns:\n",
        "    numpy.ndarray: 2-dimensional numpy array.\n",
        "    \"\"\"\n",
        "    result = np.copy(x)\n",
        "    for i in range(x.shape[0]):\n",
        "        for j in range(x.shape[1]):\n",
        "            if x[i][j] < 0:\n",
        "                result[i][j] = 0\n",
        "\n",
        "    return result"
      ]
    },
    {
      "cell_type": "code",
      "execution_count": null,
      "metadata": {
        "id": "6NcT2GhH2_oH"
      },
      "outputs": [],
      "source": [
        "def NUMPY_ReLU(x):\n",
        "    \"\"\"\n",
        "    Applies the rectified linear unit function element-wise.\n",
        "\n",
        "    Parameters:\n",
        "    x (numpy.ndarray): 2-dimensional numpy array.\n",
        "\n",
        "    Returns:\n",
        "    numpy.ndarray: 2-dimensional numpy array.\n",
        "    \"\"\"\n",
        "\n",
        "    return np.maximum(0, x)"
      ]
    },
    {
      "cell_type": "code",
      "execution_count": null,
      "metadata": {
        "id": "dv8zksrxdRMx"
      },
      "outputs": [],
      "source": [
        "def PYTORCH_ReLU(x):\n",
        "    \"\"\"\n",
        "    Applies the rectified linear unit function element-wise.\n",
        "\n",
        "    Parameters:\n",
        "    x (torch.Tensor): 2-dimensional torch tensor.\n",
        "\n",
        "    Returns:\n",
        "    torch.Tensor: 2-dimensional torch tensor.\n",
        "    \"\"\"\n",
        "\n",
        "    return torch.maximum(torch.zeros(x.size()), x)"
      ]
    },
    {
      "cell_type": "markdown",
      "metadata": {
        "id": "Tf6YHkuk2_oH"
      },
      "source": [
        "**Test Example:**"
      ]
    },
    {
      "cell_type": "code",
      "execution_count": null,
      "metadata": {
        "id": "wX7cGu6l2_oH",
        "colab": {
          "base_uri": "https://localhost:8080/"
        },
        "outputId": "4f20b8c2-97e7-4e52-d25a-1fae4c2d5671"
      },
      "outputs": [
        {
          "output_type": "stream",
          "name": "stdout",
          "text": [
            "[[  0   0 653 ... 773 961   0]\n",
            " [  0 456   0 ... 168 273   0]\n",
            " [936 475   0 ... 408   0   0]\n",
            " ...\n",
            " [  0 396 457 ... 646   0   0]\n",
            " [645 943   0 ... 863   0 790]\n",
            " [641   0 379 ... 347   0   0]]\n",
            "tensor([[  0.,   0., 653.,  ..., 773., 961.,   0.],\n",
            "        [  0., 456.,   0.,  ..., 168., 273.,   0.],\n",
            "        [936., 475.,   0.,  ..., 408.,   0.,   0.],\n",
            "        ...,\n",
            "        [  0., 396., 457.,  ..., 646.,   0.,   0.],\n",
            "        [645., 943.,   0.,  ..., 863.,   0., 790.],\n",
            "        [641.,   0., 379.,  ..., 347.,   0.,   0.]])\n"
          ]
        }
      ],
      "source": [
        "np.random.seed(0)\n",
        "X = np.random.randint(-1000, 1000, size=(3000,3000))\n",
        "\n",
        "print(NUMPY_ReLU(X))\n",
        "\n",
        "X = torch.from_numpy(X)\n",
        "print(PYTORCH_ReLU(X))\n",
        "\n"
      ]
    },
    {
      "cell_type": "markdown",
      "metadata": {
        "id": "04cIXq5Q2_oI"
      },
      "source": [
        "**Expected Output**:\n",
        "<table style = \"align:40%\">\n",
        "    <tr>\n",
        "        <td style=\"text-align:left;\"><tt><b> NUMPY_ReLU(X) </b></tt></td>\n",
        "        <td style=\"text-align:left;\"><tt>\n",
        "            [[&nbsp;&nbsp;0&nbsp;&nbsp;&nbsp;0&nbsp;653&nbsp;...&nbsp;773&nbsp;961&nbsp;&nbsp;&nbsp;0] <br>\n",
        "&nbsp;[&nbsp;&nbsp;0&nbsp;456&nbsp;&nbsp;&nbsp;0&nbsp;...&nbsp;168&nbsp;273&nbsp;&nbsp;&nbsp;0] <br>\n",
        "&nbsp;[936&nbsp;475&nbsp;&nbsp;&nbsp;0&nbsp;...&nbsp;408&nbsp;&nbsp;&nbsp;0&nbsp;&nbsp;&nbsp;0] <br>\n",
        "&nbsp;... <br>\n",
        "&nbsp;[&nbsp;&nbsp;0&nbsp;396&nbsp;457&nbsp;...&nbsp;646&nbsp;&nbsp;&nbsp;0&nbsp;&nbsp;&nbsp;0] <br>\n",
        "&nbsp;[645&nbsp;943&nbsp;&nbsp;&nbsp;0&nbsp;...&nbsp;863&nbsp;&nbsp;&nbsp;0&nbsp;790] <br>\n",
        "&nbsp;[641&nbsp;&nbsp;&nbsp;0&nbsp;379&nbsp;...&nbsp;347&nbsp;&nbsp;&nbsp;0&nbsp;&nbsp;&nbsp;0]]\n",
        "        </tt></td>\n",
        "        <td style=\"text-align:left;\"><tt><b> PYTORCH_ReLU(X) </b></tt></td>\n",
        "        <td style=\"text-align:left;\"><tt>\n",
        "            [[&nbsp;&nbsp;0&nbsp;&nbsp;&nbsp;0&nbsp;653&nbsp;...&nbsp;773&nbsp;961&nbsp;&nbsp;&nbsp;0] <br>\n",
        "&nbsp;[&nbsp;&nbsp;0&nbsp;456&nbsp;&nbsp;&nbsp;0&nbsp;...&nbsp;168&nbsp;273&nbsp;&nbsp;&nbsp;0] <br>\n",
        "&nbsp;[936&nbsp;475&nbsp;&nbsp;&nbsp;0&nbsp;...&nbsp;408&nbsp;&nbsp;&nbsp;0&nbsp;&nbsp;&nbsp;0] <br>\n",
        "&nbsp;... <br>\n",
        "&nbsp;[&nbsp;&nbsp;0&nbsp;396&nbsp;457&nbsp;...&nbsp;646&nbsp;&nbsp;&nbsp;0&nbsp;&nbsp;&nbsp;0] <br>\n",
        "&nbsp;[645&nbsp;943&nbsp;&nbsp;&nbsp;0&nbsp;...&nbsp;863&nbsp;&nbsp;&nbsp;0&nbsp;790] <br>\n",
        "&nbsp;[641&nbsp;&nbsp;&nbsp;0&nbsp;379&nbsp;...&nbsp;347&nbsp;&nbsp;&nbsp;0&nbsp;&nbsp;&nbsp;0]]\n",
        "        </tt></td>\n",
        "    </tr>\n",
        "</table>"
      ]
    },
    {
      "cell_type": "markdown",
      "metadata": {
        "id": "0hpfecaX2_oJ"
      },
      "source": [
        "#### **5.6. Prime ReLU (derivative of ReLU)**\n",
        "\n",
        "In this task, you will implement the derivative of the ReLU activation function for numpy arrays and torch tensors.\n",
        "\n",
        "The derivative of the ReLU activation matrix Z resulting from applying the derivative of the ReLU function to matrix X is defined such that for $X,Z \\in M_{m \\times n} (\\mathbb{R})$,\n",
        "\n",
        "$$Z = {\\tt PrimeReLU}(X) \\implies \\begin{cases}z_{ij} = \\frac{d}{dx_{ij}} (x_{ij}) = 1&{\\mbox{if }}x_{ij}> 0\\\\z_{ij} = \\frac{d}{dx_{ij}} (0)=0&{\\mbox{otherwise.}}\\end{cases}$$\n",
        "\n",
        "For reference, it is common to use the notation $X = (x_{ij})$ and $Z = (z_{ij})$.\n",
        "\n",
        "**Your Task:** Implement the functions `NUMPY_PrimeReLU` & `PYTORCH_PrimeReLU`."
      ]
    },
    {
      "cell_type": "code",
      "execution_count": null,
      "metadata": {
        "id": "-OtY3Bwi2_oJ"
      },
      "outputs": [],
      "source": [
        "def EXAMPLE_inefficient_PrimeReLU(x):\n",
        "    \"\"\"\n",
        "    Inefficiently applies the derivative of the rectified linear unit\n",
        "    function element-wise.\n",
        "\n",
        "    Parameters:\n",
        "    x (numpy.ndarray): 2-dimensional numpy array.\n",
        "\n",
        "    Returns:\n",
        "    numpy.ndarray: 2-dimensional numpy array.\n",
        "    \"\"\"\n",
        "\n",
        "    result = np.copy(x)\n",
        "    for i in range(x.shape[0]):\n",
        "        for j in range(x.shape[1]):\n",
        "            if x[i][j] <= 0:\n",
        "                result[i][j] = 0\n",
        "            else:\n",
        "                result[i][j] = 1\n",
        "\n",
        "    return result"
      ]
    },
    {
      "cell_type": "code",
      "execution_count": null,
      "metadata": {
        "id": "sB4gnatn2_oK"
      },
      "outputs": [],
      "source": [
        "def NUMPY_PrimeReLU(x):\n",
        "    \"\"\"\n",
        "    Applies the derivative of the rectified linear unit function\n",
        "    element-wise.\n",
        "\n",
        "    Parameters:\n",
        "    x (numpy.ndarray): 2-dimensional numpy array.\n",
        "\n",
        "    Returns:\n",
        "    numpy.ndarray: 2-dimensional numpy array.\n",
        "    \"\"\"\n",
        "    y = x\n",
        "    y[x<=0] = 0\n",
        "    y[x>0] = 1\n",
        "    return y"
      ]
    },
    {
      "cell_type": "code",
      "execution_count": null,
      "metadata": {
        "id": "BJPbP09vpwHv"
      },
      "outputs": [],
      "source": [
        "def PYTORCH_PrimeReLU(x):\n",
        "    \"\"\"\n",
        "    Applies derivative of the rectified linear unit function\n",
        "    element-wise.\n",
        "\n",
        "    Parameters:\n",
        "    x (torch.Tensor): 2-dimensional torch tensor.\n",
        "\n",
        "    Returns:\n",
        "    torch.Tensor: 2-dimensional torch tensor.\n",
        "    \"\"\"\n",
        "\n",
        "    y = x\n",
        "    y[x<=0] = 0\n",
        "    y[x>0] = 1\n",
        "    return y"
      ]
    },
    {
      "cell_type": "markdown",
      "metadata": {
        "id": "SS9ihFG92_oK"
      },
      "source": [
        "**Test Example:**"
      ]
    },
    {
      "cell_type": "code",
      "execution_count": null,
      "metadata": {
        "id": "9pA_oCOL2_oL",
        "colab": {
          "base_uri": "https://localhost:8080/"
        },
        "outputId": "24467cd0-c2df-49c0-99d2-05260278bb04"
      },
      "outputs": [
        {
          "output_type": "stream",
          "name": "stdout",
          "text": [
            "[[0 0 1 ... 1 1 0]\n",
            " [0 1 0 ... 1 1 0]\n",
            " [1 1 0 ... 1 0 0]\n",
            " ...\n",
            " [0 1 1 ... 1 0 0]\n",
            " [1 1 0 ... 1 0 1]\n",
            " [1 0 1 ... 1 0 0]]\n",
            "tensor([[0, 0, 1,  ..., 1, 1, 0],\n",
            "        [0, 1, 0,  ..., 1, 1, 0],\n",
            "        [1, 1, 0,  ..., 1, 0, 0],\n",
            "        ...,\n",
            "        [0, 1, 1,  ..., 1, 0, 0],\n",
            "        [1, 1, 0,  ..., 1, 0, 1],\n",
            "        [1, 0, 1,  ..., 1, 0, 0]])\n"
          ]
        }
      ],
      "source": [
        "np.random.seed(0)\n",
        "X = np.random.randint(-1000, 1000, size=(3000,3000))\n",
        "\n",
        "# NumPy\n",
        "print(NUMPY_PrimeReLU(X))\n",
        "\n",
        "# PyTorch\n",
        "X = torch.from_numpy(X)\n",
        "print(PYTORCH_PrimeReLU(X))\n"
      ]
    },
    {
      "cell_type": "markdown",
      "metadata": {
        "id": "W4Z_qYgM2_oL"
      },
      "source": [
        "**Expected Output**:\n",
        "<table style = \"align:40%\">\n",
        "    <tr>\n",
        "        <td style=\"text-align:left;\"><tt><b> NUMPY_PrimeReLU(X) </b></tt></td>\n",
        "        <td style=\"text-align:left;\"><tt>\n",
        "            [[0&nbsp;0&nbsp;1&nbsp;...&nbsp;1&nbsp;1&nbsp;0] <br>\n",
        "&nbsp;[0&nbsp;1&nbsp;0&nbsp;...&nbsp;1&nbsp;1&nbsp;0] <br>\n",
        "&nbsp;[1&nbsp;1&nbsp;0&nbsp;...&nbsp;1&nbsp;0&nbsp;0] <br>\n",
        "&nbsp;... <br>\n",
        "&nbsp;[0&nbsp;1&nbsp;1&nbsp;...&nbsp;1&nbsp;0&nbsp;0] <br>\n",
        "&nbsp;[1&nbsp;1&nbsp;0&nbsp;...&nbsp;1&nbsp;0&nbsp;1] <br>\n",
        "&nbsp;[1&nbsp;0&nbsp;1&nbsp;...&nbsp;1&nbsp;0&nbsp;0]]\n",
        "        </tt></td>\n",
        "        <td style=\"text-align:left;\"><tt><b> PYTORCH_PrimeReLU(X) </b></tt></td>\n",
        "        <td style=\"text-align:left;\"><tt>\n",
        "            [[0&nbsp;0&nbsp;1&nbsp;...&nbsp;1&nbsp;1&nbsp;0] <br>\n",
        "&nbsp;[0&nbsp;1&nbsp;0&nbsp;...&nbsp;1&nbsp;1&nbsp;0] <br>\n",
        "&nbsp;[1&nbsp;1&nbsp;0&nbsp;...&nbsp;1&nbsp;0&nbsp;0] <br>\n",
        "&nbsp;... <br>\n",
        "&nbsp;[0&nbsp;1&nbsp;1&nbsp;...&nbsp;1&nbsp;0&nbsp;0] <br>\n",
        "&nbsp;[1&nbsp;1&nbsp;0&nbsp;...&nbsp;1&nbsp;0&nbsp;1] <br>\n",
        "&nbsp;[1&nbsp;0&nbsp;1&nbsp;...&nbsp;1&nbsp;0&nbsp;0]]\n",
        "        </tt></td>\n",
        "    </tr>\n",
        "</table>"
      ]
    },
    {
      "cell_type": "markdown",
      "metadata": {
        "id": "0wOMneSn2_oN"
      },
      "source": [
        "**Example 1 - Data*\n",
        "\n",
        "<img src=\"images/ex3.png\" width=\"600\">"
      ]
    },
    {
      "cell_type": "code",
      "execution_count": null,
      "metadata": {
        "id": "gouQ94m5kHSr",
        "colab": {
          "base_uri": "https://localhost:8080/"
        },
        "outputId": "45121bb7-4d50-40d9-f0b1-fc6c6f72d71f"
      },
      "outputs": [
        {
          "output_type": "execute_result",
          "data": {
            "text/plain": [
              "[array([[3, 5, 2, 4, 7, 6, 8, 8, 1, 6, 7, 7, 8, 1, 5, 9, 8, 9, 4, 3, 0, 3,\n",
              "         5, 0, 2, 3, 8, 1, 3, 3, 3, 7, 0, 1, 9, 9, 0, 4, 7, 3],\n",
              "        [2, 7, 2, 0, 0, 4, 5, 5, 6, 8, 4, 1, 4, 9, 8, 1, 1, 7, 9, 9, 3, 6,\n",
              "         7, 2, 0, 3, 5, 9, 4, 4, 6, 4, 4, 3, 4, 4, 8, 4, 3, 7],\n",
              "        [5, 5, 0, 1, 5, 9, 3, 0, 5, 0, 1, 2, 4, 2, 0, 3, 2, 0, 7, 5, 9, 0,\n",
              "         2, 7, 2, 9, 2, 3, 3, 2, 3, 4, 1, 2, 9, 1, 4, 6, 8, 2],\n",
              "        [3, 0, 0, 6, 0, 6, 3, 3, 8, 8, 8, 2, 3, 2, 0, 8, 8, 3, 8, 2, 8, 4,\n",
              "         3, 0, 4, 3, 6, 9, 8, 0, 8, 5, 9, 0, 9, 6, 5, 3, 1, 8],\n",
              "        [0, 4, 9, 6, 5, 7, 8, 8, 9, 2, 8, 6, 6, 9, 1, 6, 8, 8, 3, 2, 3, 6,\n",
              "         3, 6, 5, 7, 0, 8, 4, 6, 5, 8, 2, 3, 9, 7, 5, 3, 4, 5]]),\n",
              " array([[3, 3, 7, 9, 9, 9, 7, 3, 2, 3, 9, 7, 7, 5, 1, 2, 2, 8, 1, 5, 8, 4,\n",
              "         0, 2, 5, 5, 0, 8, 1, 1, 0, 3, 8, 8, 4, 4, 0, 9, 3, 7],\n",
              "        [3, 2, 1, 1, 2, 1, 4, 2, 5, 5, 5, 2, 5, 7, 7, 6, 1, 6, 7, 2, 3, 1,\n",
              "         9, 5, 9, 9, 2, 0, 9, 1, 9, 0, 6, 0, 4, 8, 4, 3, 3, 8],\n",
              "        [8, 7, 0, 3, 8, 7, 7, 1, 8, 4, 7, 0, 4, 9, 0, 6, 4, 2, 4, 6, 3, 3,\n",
              "         7, 8, 5, 0, 8, 5, 4, 7, 4, 1, 3, 3, 9, 2, 5, 2, 3, 5],\n",
              "        [7, 2, 7, 1, 6, 5, 0, 0, 3, 1, 9, 9, 6, 6, 7, 8, 8, 7, 0, 8, 6, 8,\n",
              "         9, 8, 3, 6, 1, 7, 4, 9, 2, 0, 8, 2, 7, 8, 4, 4, 1, 7],\n",
              "        [6, 9, 4, 1, 5, 9, 7, 1, 3, 5, 7, 3, 6, 6, 7, 9, 1, 9, 6, 0, 3, 8,\n",
              "         4, 1, 4, 5, 0, 3, 1, 4, 4, 4, 0, 0, 8, 4, 6, 9, 3, 3],\n",
              "        [2, 1, 2, 1, 3, 4, 1, 1, 0, 7, 8, 4, 3, 5, 6, 3, 2, 9, 8, 1, 4, 0,\n",
              "         8, 3, 9, 5, 5, 1, 7, 8, 6, 4, 7, 3, 5, 3, 6, 4, 7, 3],\n",
              "        [0, 5, 9, 3, 7, 5, 5, 8, 0, 8, 3, 6, 9, 3, 2, 7, 0, 3, 0, 3, 6, 1,\n",
              "         9, 2, 9, 4, 9, 1, 3, 2, 4, 9, 7, 4, 9, 4, 1, 2, 7, 2],\n",
              "        [3, 9, 7, 6, 6, 2, 3, 6, 0, 8, 0, 7, 6, 5, 9, 6, 5, 2, 7, 1, 9, 2,\n",
              "         2, 5, 6, 4, 2, 2, 1, 0, 9, 0, 2, 8, 3, 0, 8, 8, 1, 0]]),\n",
              " array([[5, 8, 2, 3, 5, 3, 8, 6, 4, 6, 3, 6, 2, 6, 5, 5, 9, 4, 6, 5, 1, 3,\n",
              "         3, 8, 9, 5, 5, 6, 0, 9, 7, 5, 1, 5, 6, 6, 8, 7, 5, 3],\n",
              "        [2, 9, 9, 3, 2, 5, 4, 1, 5, 8, 3, 5, 8, 4, 1, 7, 8, 1, 2, 1, 1, 7,\n",
              "         5, 0, 4, 1, 1, 6, 6, 0, 2, 3, 7, 9, 2, 4, 9, 0, 6, 9],\n",
              "        [2, 4, 7, 3, 0, 5, 4, 0, 2, 3, 1, 7, 1, 3, 4, 1, 7, 4, 0, 2, 7, 4,\n",
              "         0, 2, 6, 9, 2, 4, 9, 9, 5, 4, 4, 9, 8, 1, 5, 7, 0, 1],\n",
              "        [3, 9, 2, 8, 2, 4, 8, 2, 9, 8, 7, 8, 2, 3, 3, 6, 0, 3, 6, 3, 9, 6,\n",
              "         3, 2, 2, 2, 6, 4, 6, 0, 4, 9, 2, 1, 6, 1, 7, 5, 6, 1],\n",
              "        [6, 6, 6, 6, 2, 5, 2, 2, 3, 2, 9, 3, 8, 5, 4, 5, 1, 5, 8, 2, 9, 9,\n",
              "         5, 6, 4, 0, 8, 5, 5, 5, 1, 0, 0, 0, 0, 0, 7, 6, 3, 5],\n",
              "        [4, 3, 4, 5, 1, 3, 6, 7, 4, 0, 0, 7, 3, 3, 0, 0, 9, 4, 4, 5, 8, 8,\n",
              "         0, 1, 5, 9, 9, 6, 1, 4, 0, 4, 7, 7, 7, 6, 2, 6, 0, 2],\n",
              "        [7, 7, 2, 6, 1, 3, 7, 0, 5, 4, 5, 5, 3, 8, 0, 1, 5, 4, 1, 5, 0, 6,\n",
              "         8, 8, 6, 3, 4, 4, 3, 6, 5, 9, 8, 1, 3, 8, 1, 5, 8, 0],\n",
              "        [3, 7, 1, 7, 8, 0, 7, 5, 9, 9, 6, 8, 7, 5, 9, 1, 0, 0, 5, 6, 3, 6,\n",
              "         1, 7, 7, 0, 7, 6, 0, 4, 2, 7, 5, 2, 8, 5, 6, 6, 4, 1]]),\n",
              " array([[5, 4, 5, 5, 6, 3, 8, 1, 4, 2, 9, 7, 4, 1, 8, 2, 3, 3, 4, 1, 6, 2,\n",
              "         5, 4, 9, 1, 5, 9, 4, 5, 7, 4, 4, 2, 2, 1, 3, 0, 1, 9],\n",
              "        [1, 6, 9, 8, 6, 3, 0, 7, 3, 2, 5, 9, 7, 3, 4, 7, 6, 7, 3, 6, 9, 3,\n",
              "         7, 1, 3, 7, 8, 8, 4, 5, 3, 6, 9, 6, 2, 9, 3, 5, 7, 9],\n",
              "        [0, 7, 1, 2, 5, 0, 5, 8, 9, 8, 2, 5, 3, 1, 7, 3, 8, 5, 5, 1, 9, 7,\n",
              "         2, 1, 0, 1, 0, 1, 1, 6, 8, 8, 3, 2, 0, 7, 4, 6, 0, 5],\n",
              "        [3, 3, 9, 4, 9, 0, 6, 5, 3, 0, 0, 1, 2, 0, 2, 2, 9, 6, 7, 8, 9, 8,\n",
              "         2, 4, 7, 7, 5, 7, 2, 4, 1, 1, 1, 7, 9, 0, 9, 0, 2, 1],\n",
              "        [4, 6, 0, 6, 6, 2, 8, 6, 6, 5, 2, 5, 0, 3, 9, 9, 7, 0, 4, 1, 3, 5,\n",
              "         7, 6, 2, 7, 3, 4, 9, 7, 0, 0, 1, 8, 3, 5, 0, 1, 1, 3],\n",
              "        [7, 9, 3, 7, 0, 2, 4, 4, 6, 0, 1, 7, 6, 5, 5, 7, 3, 6, 8, 8, 2, 1,\n",
              "         0, 8, 7, 7, 0, 4, 8, 0, 4, 5, 7, 2, 4, 9, 7, 5, 0, 4],\n",
              "        [9, 4, 0, 2, 5, 5, 3, 0, 0, 1, 9, 9, 2, 1, 0, 1, 6, 3, 4, 3, 6, 4,\n",
              "         2, 3, 6, 3, 3, 8, 1, 3, 3, 1, 5, 3, 6, 4, 8, 5, 7, 1],\n",
              "        [8, 2, 0, 0, 4, 2, 1, 2, 2, 3, 4, 7, 5, 1, 3, 1, 0, 1, 4, 0, 2, 1,\n",
              "         3, 1, 4, 7, 5, 6, 9, 2, 5, 2, 2, 1, 3, 8, 3, 0, 7, 3]]),\n",
              " array([[8, 2, 4, 3, 1, 6, 5, 8, 4, 3, 6, 5, 3, 7, 8, 8, 3, 7, 8, 5, 7, 2,\n",
              "         7, 8, 0, 7, 4, 8, 4, 4, 0, 4, 8, 0, 0, 4, 7, 3, 7, 7],\n",
              "        [2, 2, 1, 7, 0, 7, 5, 9, 7, 1, 1, 2, 4, 1, 4, 5, 8, 2, 1, 6, 3, 0,\n",
              "         3, 9, 5, 1, 3, 7, 1, 1, 7, 9, 4, 2, 0, 3, 2, 4, 0, 0],\n",
              "        [9, 3, 8, 3, 0, 4, 4, 0, 2, 5, 5, 8, 2, 7, 3, 6, 1, 0, 2, 2, 5, 5,\n",
              "         1, 2, 8, 7, 3, 7, 3, 1, 0, 1, 0, 8, 8, 5, 3, 3, 1, 0],\n",
              "        [6, 1, 6, 9, 5, 7, 0, 1, 4, 9, 5, 1, 6, 5, 4, 4, 4, 7, 2, 2, 6, 5,\n",
              "         3, 0, 8, 8, 1, 8, 7, 5, 7, 9, 4, 0, 7, 2, 3, 9, 5, 4],\n",
              "        [0, 4, 5, 8, 1, 4, 8, 0, 1, 1, 8, 9, 4, 9, 0, 3, 0, 7, 0, 8, 1, 2,\n",
              "         8, 5, 8, 2, 1, 3, 5, 0, 2, 5, 8, 6, 2, 7, 7, 1, 8, 4],\n",
              "        [9, 3, 3, 2, 9, 0, 4, 6, 4, 3, 2, 3, 1, 1, 2, 7, 2, 7, 0, 1, 8, 0,\n",
              "         5, 2, 8, 0, 4, 0, 3, 8, 1, 6, 4, 6, 9, 6, 4, 7, 2, 9]])]"
            ]
          },
          "metadata": {},
          "execution_count": 48
        }
      ],
      "source": [
        "def get_data_1():\n",
        "    \"\"\"\n",
        "    This is the generating process from which example data 1 will derive\n",
        "\n",
        "    Parameters:\n",
        "    None\n",
        "\n",
        "    Returns:\n",
        "    numpy.ndarray: 1-d numpy array with 2-d numpy arrays as elements.\n",
        "    \"\"\"\n",
        "    freq000 = 3; freq001 = 1; freq002 = 4; freq003 = 1\n",
        "    freq010 = 5; freq011 = 9; freq012 = 2; freq013 = 6\n",
        "    freq020 = 5; freq021 = 3; freq022 = 5; freq023 = 8\n",
        "    frame00 = np.array([freq000, freq001, freq002, freq003])\n",
        "    frame01 = np.array([freq010, freq011, freq012, freq013])\n",
        "    frame02 = np.array([freq020, freq021, freq022, freq023])\n",
        "    utterance0 = np.array([frame00, frame01, frame02])\n",
        "\n",
        "    freq100 = 9; freq101 = 7; freq102 = 9; freq103 = 3\n",
        "    freq110 = 2; freq111 = 3; freq112 = 8; freq113 = 4\n",
        "    frame10 = np.array([freq100, freq101, freq102, freq103])\n",
        "    frame11 = np.array([freq110, freq111, freq112, freq113])\n",
        "    utterance1 = np.array([frame10, frame11])\n",
        "\n",
        "    freq200 = 6; freq201 = 2; freq202 = 6; freq203 = 4\n",
        "    freq210 = 3; freq211 = 3; freq212 = 8; freq213 = 3\n",
        "    freq220 = 2; freq221 = 7; freq222 = 9; freq223 = 5\n",
        "    freq230 = 0; freq231 = 2; freq232 = 8; freq233 = 8\n",
        "    frame20 = np.array([freq200, freq201, freq202, freq203])\n",
        "    frame21 = np.array([freq210, freq211, freq212, freq213])\n",
        "    frame22 = np.array([freq220, freq221, freq222, freq223])\n",
        "    frame23 = np.array([freq230, freq231, freq232, freq233])\n",
        "    utterance2 = np.array([frame20, frame21, frame22, frame23])\n",
        "\n",
        "    # Create a NumPy array of objects to hold the utterances with different shapes\n",
        "    spectrograms = np.array([utterance0, utterance1, utterance2], dtype=object)\n",
        "\n",
        "    return spectrograms\n",
        "\n",
        "def get_data_2():\n",
        "    \"\"\"\n",
        "    This is the generating process from which example data 2 will derive\n",
        "\n",
        "    Parameters:\n",
        "    None\n",
        "\n",
        "    Returns:\n",
        "    numpy.ndarray: 1-d numpy array with 2-d numpy arrays as elements.\n",
        "    \"\"\"\n",
        "    np.random.seed(0)\n",
        "    recordings = np.random.randint(10)\n",
        "    durations = [np.random.randint(low=5, high=10)\n",
        "                 for i in range(recordings)]\n",
        "    data = []\n",
        "    k = 40 # Given as fixed constant\n",
        "    for duration in durations:\n",
        "        data.append(np.random.randint(10, size=(duration, k)))\n",
        "    # data = np.asarray(data)\n",
        "    return data\n",
        "\n",
        "# get_data_1()\n",
        "\n",
        "get_data_2()"
      ]
    },
    {
      "cell_type": "markdown",
      "metadata": {
        "id": "5GUs3hbW2_oO"
      },
      "source": [
        "#### **6.1. Slicing: Last Point**\n",
        "Takes one 3-dimensional array with the length of the output instances. Your task is to keep only the $m$ last frames for each instance in the dataset.\n",
        "\n",
        "To the extent that it is helpful, a formal description provided in the Appendix.\n",
        "\n",
        "**Your Task:** Implement the function `slice_last_point`."
      ]
    },
    {
      "cell_type": "code",
      "execution_count": null,
      "metadata": {
        "id": "R56vpvuE2_oO",
        "colab": {
          "base_uri": "https://localhost:8080/"
        },
        "outputId": "c5389191-3209-48dd-cbd2-8e65ffc19a4c"
      },
      "outputs": [
        {
          "output_type": "execute_result",
          "data": {
            "text/plain": [
              "array([array([[3, 7, 9, 3, 5, 2, 4, 7, 6, 8, 8, 1, 6, 7, 7, 8, 1, 5, 9, 8, 9, 4,\n",
              "               3, 0, 3, 5, 0, 2, 3, 8, 1, 3, 3, 3, 7, 0, 1, 9, 9, 0],\n",
              "              [4, 7, 3, 2, 7, 2, 0, 0, 4, 5, 5, 6, 8, 4, 1, 4, 9, 8, 1, 1, 7, 9,\n",
              "               9, 3, 6, 7, 2, 0, 3, 5, 9, 4, 4, 6, 4, 4, 3, 4, 4, 8],\n",
              "              [4, 3, 7, 5, 5, 0, 1, 5, 9, 3, 0, 5, 0, 1, 2, 4, 2, 0, 3, 2, 0, 7,\n",
              "               5, 9, 0, 2, 7, 2, 9, 2, 3, 3, 2, 3, 4, 1, 2, 9, 1, 4],\n",
              "              [6, 8, 2, 3, 0, 0, 6, 0, 6, 3, 3, 8, 8, 8, 2, 3, 2, 0, 8, 8, 3, 8,\n",
              "               2, 8, 4, 3, 0, 4, 3, 6, 9, 8, 0, 8, 5, 9, 0, 9, 6, 5],\n",
              "              [3, 1, 8, 0, 4, 9, 6, 5, 7, 8, 8, 9, 2, 8, 6, 6, 9, 1, 6, 8, 8, 3,\n",
              "               2, 3, 6, 3, 6, 5, 7, 0, 8, 4, 6, 5, 8, 2, 3, 9, 7, 5],\n",
              "              [3, 4, 5, 3, 3, 7, 9, 9, 9, 7, 3, 2, 3, 9, 7, 7, 5, 1, 2, 2, 8, 1,\n",
              "               5, 8, 4, 0, 2, 5, 5, 0, 8, 1, 1, 0, 3, 8, 8, 4, 4, 0],\n",
              "              [9, 3, 7, 3, 2, 1, 1, 2, 1, 4, 2, 5, 5, 5, 2, 5, 7, 7, 6, 1, 6, 7,\n",
              "               2, 3, 1, 9, 5, 9, 9, 2, 0, 9, 1, 9, 0, 6, 0, 4, 8, 4],\n",
              "              [3, 3, 8, 8, 7, 0, 3, 8, 7, 7, 1, 8, 4, 7, 0, 4, 9, 0, 6, 4, 2, 4,\n",
              "               6, 3, 3, 7, 8, 5, 0, 8, 5, 4, 7, 4, 1, 3, 3, 9, 2, 5],\n",
              "              [2, 3, 5, 7, 2, 7, 1, 6, 5, 0, 0, 3, 1, 9, 9, 6, 6, 7, 8, 8, 7, 0,\n",
              "               8, 6, 8, 9, 8, 3, 6, 1, 7, 4, 9, 2, 0, 8, 2, 7, 8, 4]])          ,\n",
              "       array([[4, 1, 7, 6, 9, 4, 1, 5, 9, 7, 1, 3, 5, 7, 3, 6, 6, 7, 9, 1, 9, 6,\n",
              "               0, 3, 8, 4, 1, 4, 5, 0, 3, 1, 4, 4, 4, 0, 0, 8, 4, 6],\n",
              "              [9, 3, 3, 2, 1, 2, 1, 3, 4, 1, 1, 0, 7, 8, 4, 3, 5, 6, 3, 2, 9, 8,\n",
              "               1, 4, 0, 8, 3, 9, 5, 5, 1, 7, 8, 6, 4, 7, 3, 5, 3, 6],\n",
              "              [4, 7, 3, 0, 5, 9, 3, 7, 5, 5, 8, 0, 8, 3, 6, 9, 3, 2, 7, 0, 3, 0,\n",
              "               3, 6, 1, 9, 2, 9, 4, 9, 1, 3, 2, 4, 9, 7, 4, 9, 4, 1],\n",
              "              [2, 7, 2, 3, 9, 7, 6, 6, 2, 3, 6, 0, 8, 0, 7, 6, 5, 9, 6, 5, 2, 7,\n",
              "               1, 9, 2, 2, 5, 6, 4, 2, 2, 1, 0, 9, 0, 2, 8, 3, 0, 8],\n",
              "              [8, 1, 0, 5, 8, 2, 3, 5, 3, 8, 6, 4, 6, 3, 6, 2, 6, 5, 5, 9, 4, 6,\n",
              "               5, 1, 3, 3, 8, 9, 5, 5, 6, 0, 9, 7, 5, 1, 5, 6, 6, 8]])          ,\n",
              "       array([[7, 5, 3, 2, 9, 9, 3, 2, 5, 4, 1, 5, 8, 3, 5, 8, 4, 1, 7, 8, 1, 2,\n",
              "               1, 1, 7, 5, 0, 4, 1, 1, 6, 6, 0, 2, 3, 7, 9, 2, 4, 9],\n",
              "              [0, 6, 9, 2, 4, 7, 3, 0, 5, 4, 0, 2, 3, 1, 7, 1, 3, 4, 1, 7, 4, 0,\n",
              "               2, 7, 4, 0, 2, 6, 9, 2, 4, 9, 9, 5, 4, 4, 9, 8, 1, 5],\n",
              "              [7, 0, 1, 3, 9, 2, 8, 2, 4, 8, 2, 9, 8, 7, 8, 2, 3, 3, 6, 0, 3, 6,\n",
              "               3, 9, 6, 3, 2, 2, 2, 6, 4, 6, 0, 4, 9, 2, 1, 6, 1, 7],\n",
              "              [5, 6, 1, 6, 6, 6, 6, 2, 5, 2, 2, 3, 2, 9, 3, 8, 5, 4, 5, 1, 5, 8,\n",
              "               2, 9, 9, 5, 6, 4, 0, 8, 5, 5, 5, 1, 0, 0, 0, 0, 0, 7],\n",
              "              [6, 3, 5, 4, 3, 4, 5, 1, 3, 6, 7, 4, 0, 0, 7, 3, 3, 0, 0, 9, 4, 4,\n",
              "               5, 8, 8, 0, 1, 5, 9, 9, 6, 1, 4, 0, 4, 7, 7, 7, 6, 2],\n",
              "              [6, 0, 2, 7, 7, 2, 6, 1, 3, 7, 0, 5, 4, 5, 5, 3, 8, 0, 1, 5, 4, 1,\n",
              "               5, 0, 6, 8, 8, 6, 3, 4, 4, 3, 6, 5, 9, 8, 1, 3, 8, 1],\n",
              "              [5, 8, 0, 3, 7, 1, 7, 8, 0, 7, 5, 9, 9, 6, 8, 7, 5, 9, 1, 0, 0, 5,\n",
              "               6, 3, 6, 1, 7, 7, 0, 7, 6, 0, 4, 2, 7, 5, 2, 8, 5, 6],\n",
              "              [6, 4, 1, 5, 4, 5, 5, 6, 3, 8, 1, 4, 2, 9, 7, 4, 1, 8, 2, 3, 3, 4,\n",
              "               1, 6, 2, 5, 4, 9, 1, 5, 9, 4, 5, 7, 4, 4, 2, 2, 1, 3]])          ],\n",
              "      dtype=object)"
            ]
          },
          "metadata": {},
          "execution_count": 67
        }
      ],
      "source": [
        "import numpy as np\n",
        "import torch\n",
        "\n",
        "def get_data_1():\n",
        "    \"\"\"\n",
        "    This is the generating process from which example data 1 will derive\n",
        "\n",
        "    Parameters:\n",
        "    None\n",
        "\n",
        "    Returns:\n",
        "    numpy.ndarray: 1-d numpy array with 2-d numpy arrays as elements.\n",
        "    \"\"\"\n",
        "    freq000 = 3; freq001 = 1; freq002 = 4; freq003 = 1\n",
        "    freq010 = 5; freq011 = 9; freq012 = 2; freq013 = 6\n",
        "    freq020 = 5; freq021 = 3; freq022 = 5; freq023 = 8\n",
        "    frame00 = np.array([freq000, freq001, freq002, freq003])\n",
        "    frame01 = np.array([freq010, freq011, freq012, freq013])\n",
        "    frame02 = np.array([freq020, freq021, freq022, freq023])\n",
        "    utterance0 = np.array([frame00, frame01, frame02])\n",
        "\n",
        "    freq100 = 9; freq101 = 7; freq102 = 9; freq103 = 3\n",
        "    freq110 = 2; freq111 = 3; freq112 = 8; freq113 = 4\n",
        "    frame10 = np.array([freq100, freq101, freq102, freq103])\n",
        "    frame11 = np.array([freq110, freq111, freq112, freq113])\n",
        "    utterance1 = np.array([frame10, frame11])\n",
        "\n",
        "    freq200 = 6; freq201 = 6; freq202 = 6; freq203 = 4\n",
        "    freq210 = 3; freq211 = 3; freq212 = 8; freq213 = 3\n",
        "    freq220 = 2; freq221 = 7; freq222 = 9; freq223 = 5\n",
        "    freq230 = 0; freq231 = 2; freq232 = 8; freq233 = 8\n",
        "    frame20 = np.array([freq200, freq201, freq202, freq203])\n",
        "    frame21 = np.array([freq210, freq211, freq212, freq213])\n",
        "    frame22 = np.array([freq220, freq221, freq222, freq223])\n",
        "    frame23 = np.array([freq230, freq231, freq232, freq233])\n",
        "    utterance2 = np.array([frame20, frame21, frame22, frame23])\n",
        "\n",
        "    # Create a NumPy array of objects to hold the utterances with different shapes\n",
        "    spectrograms = np.array([utterance0, utterance1, utterance2], dtype=object)\n",
        "\n",
        "    return spectrograms\n",
        "\n",
        "def get_data_2():\n",
        "    \"\"\"\n",
        "    This is the generating process from which example data 2 will derive\n",
        "\n",
        "    Parameters:\n",
        "    None\n",
        "\n",
        "    Returns:\n",
        "    numpy.ndarray: 1-d numpy array with 2-d numpy arrays as elements.\n",
        "    \"\"\"\n",
        "    np.random.seed(0)\n",
        "    # recordings = np.random.randint(10) # Original code generated a random number of recordings, which was causing issues with consistent output shapes. Changed to a fixed number for predictable testing.\n",
        "    recordings = 3\n",
        "    durations = [np.random.randint(low=5, high=10)\n",
        "                 for i in range(recordings)]\n",
        "    data = []\n",
        "    k = 40 # Given as fixed constant\n",
        "    for duration in durations:\n",
        "        data.append(np.random.randint(10, size=(duration, k)))\n",
        "    # data = np.asarray(data) # Original code commented this out. Need to convert list to numpy array.\n",
        "    return np.array(data, dtype=object)\n",
        "\n",
        "# get_data_1()\n",
        "\n",
        "get_data_2()"
      ]
    },
    {
      "cell_type": "markdown",
      "metadata": {
        "id": "siBLl_G82_oO"
      },
      "source": [
        "**Example 1**"
      ]
    },
    {
      "cell_type": "code",
      "execution_count": null,
      "metadata": {
        "id": "YC04c9uG2_oP",
        "colab": {
          "base_uri": "https://localhost:8080/"
        },
        "outputId": "7ba2bb0a-b707-48ab-ce1b-94f6f4bab3c6"
      },
      "outputs": [
        {
          "output_type": "stream",
          "name": "stdout",
          "text": [
            "[[[5 9 2 6]\n",
            "  [5 3 5 8]]\n",
            "\n",
            " [[9 7 9 3]\n",
            "  [2 3 8 4]]\n",
            "\n",
            " [[2 7 9 5]\n",
            "  [0 2 8 8]]]\n"
          ]
        }
      ],
      "source": [
        "spectrograms = get_data_1()\n",
        "duration = 2\n",
        "print(slice_last_point(spectrograms, duration))"
      ]
    },
    {
      "cell_type": "markdown",
      "metadata": {
        "id": "wqk9Bufc2_oP"
      },
      "source": [
        "**Expected Output 1**\n",
        "\n",
        "<img src=\"images/ex3-1.png\" width=\"600\">"
      ]
    },
    {
      "cell_type": "markdown",
      "metadata": {
        "id": "WWuYvAiT2_oQ"
      },
      "source": [
        "<table style = \"align:40%\">\n",
        "    <tr>\n",
        "        <td style=\"text-align:left;\"><tt><b> slice_last_point(<br>spectrograms, duration) </b></tt></td>\n",
        "        <td style=\"text-align:left;\"><tt>\n",
        "            [[[5.&nbsp;9.&nbsp;2.&nbsp;6.] <br>\n",
        "&nbsp;&nbsp;[5.&nbsp;3.&nbsp;5.&nbsp;8.]] <br>\n",
        "\n",
        "&nbsp;[[9.&nbsp;7.&nbsp;9.&nbsp;3.] <br>\n",
        "&nbsp;&nbsp;[2.&nbsp;3.&nbsp;8.&nbsp;4.]] <br>\n",
        "\n",
        "&nbsp;[[2.&nbsp;7.&nbsp;9.&nbsp;5.] <br>\n",
        "&nbsp;&nbsp;[0.&nbsp;2.&nbsp;8.&nbsp;8.]]] <br>\n",
        "        </tt></td>\n",
        "    </tr>\n",
        "</table>"
      ]
    },
    {
      "cell_type": "markdown",
      "metadata": {
        "id": "Nwu7OfTG2_oQ"
      },
      "source": [
        "**Example 2**"
      ]
    },
    {
      "cell_type": "code",
      "execution_count": null,
      "metadata": {
        "id": "DKTsia7b2_oR",
        "colab": {
          "base_uri": "https://localhost:8080/"
        },
        "outputId": "608a80c6-8895-4df2-c775-ffdfa293df35"
      },
      "outputs": [
        {
          "output_type": "stream",
          "name": "stdout",
          "text": [
            "[[4 1 7 6 9 4 1 5 9 7 1 3 5 7 3 6 6 7 9 1 9 6 0 3 8 4 1 4 5 0 3 1 4 4 4 0\n",
            "  0 8 4 6]\n",
            " [9 3 3 2 1 2 1 3 4 1 1 0 7 8 4 3 5 6 3 2 9 8 1 4 0 8 3 9 5 5 1 7 8 6 4 7\n",
            "  3 5 3 6]\n",
            " [4 7 3 0 5 9 3 7 5 5 8 0 8 3 6 9 3 2 7 0 3 0 3 6 1 9 2 9 4 9 1 3 2 4 9 7\n",
            "  4 9 4 1]\n",
            " [2 7 2 3 9 7 6 6 2 3 6 0 8 0 7 6 5 9 6 5 2 7 1 9 2 2 5 6 4 2 2 1 0 9 0 2\n",
            "  8 3 0 8]\n",
            " [8 1 0 5 8 2 3 5 3 8 6 4 6 3 6 2 6 5 5 9 4 6 5 1 3 3 8 9 5 5 6 0 9 7 5 1\n",
            "  5 6 6 8]]\n"
          ]
        }
      ],
      "source": [
        "data = get_data_2()\n",
        "m = 5\n",
        "print(slice_last_point(data, m)[1])"
      ]
    },
    {
      "cell_type": "markdown",
      "metadata": {
        "id": "GTdZEdsH2_oS"
      },
      "source": [
        "**Expected Output 2**:\n",
        "<table style = \"align:40%\"  >\n",
        "    <tr>\n",
        "        <td style=\"text-align:left;\"><tt><b> slice_last_point(<br>data, m)[1] </b></tt></td>\n",
        "        <td style=\"text-align:left;\"><tt>\n",
        "[[7.&nbsp;2.&nbsp;7.&nbsp;1.&nbsp;6.&nbsp;5.&nbsp;0.&nbsp;0.&nbsp;3.&nbsp;1.&nbsp;9.&nbsp;9.&nbsp;6.&nbsp;6.&nbsp;7.&nbsp;8.&nbsp;8.&nbsp;7.&nbsp;0.&nbsp;8.&nbsp;6.&nbsp;8.&nbsp;9.&nbsp;8. <br>\n",
        "&nbsp;&nbsp;3.&nbsp;6.&nbsp;1.&nbsp;7.&nbsp;4.&nbsp;9.&nbsp;2.&nbsp;0.&nbsp;8.&nbsp;2.&nbsp;7.&nbsp;8.&nbsp;4.&nbsp;4.&nbsp;1.&nbsp;7.] <br>\n",
        "&nbsp;[6.&nbsp;9.&nbsp;4.&nbsp;1.&nbsp;5.&nbsp;9.&nbsp;7.&nbsp;1.&nbsp;3.&nbsp;5.&nbsp;7.&nbsp;3.&nbsp;6.&nbsp;6.&nbsp;7.&nbsp;9.&nbsp;1.&nbsp;9.&nbsp;6.&nbsp;0.&nbsp;3.&nbsp;8.&nbsp;4.&nbsp;1. <br>\n",
        "&nbsp;&nbsp;4.&nbsp;5.&nbsp;0.&nbsp;3.&nbsp;1.&nbsp;4.&nbsp;4.&nbsp;4.&nbsp;0.&nbsp;0.&nbsp;8.&nbsp;4.&nbsp;6.&nbsp;9.&nbsp;3.&nbsp;3.] <br>\n",
        "&nbsp;[2.&nbsp;1.&nbsp;2.&nbsp;1.&nbsp;3.&nbsp;4.&nbsp;1.&nbsp;1.&nbsp;0.&nbsp;7.&nbsp;8.&nbsp;4.&nbsp;3.&nbsp;5.&nbsp;6.&nbsp;3.&nbsp;2.&nbsp;9.&nbsp;8.&nbsp;1.&nbsp;4.&nbsp;0.&nbsp;8.&nbsp;3. <br>\n",
        "&nbsp;&nbsp;9.&nbsp;5.&nbsp;5.&nbsp;1.&nbsp;7.&nbsp;8.&nbsp;6.&nbsp;4.&nbsp;7.&nbsp;3.&nbsp;5.&nbsp;3.&nbsp;6.&nbsp;4.&nbsp;7.&nbsp;3.] <br>\n",
        "&nbsp;[0.&nbsp;5.&nbsp;9.&nbsp;3.&nbsp;7.&nbsp;5.&nbsp;5.&nbsp;8.&nbsp;0.&nbsp;8.&nbsp;3.&nbsp;6.&nbsp;9.&nbsp;3.&nbsp;2.&nbsp;7.&nbsp;0.&nbsp;3.&nbsp;0.&nbsp;3.&nbsp;6.&nbsp;1.&nbsp;9.&nbsp;2. <br>\n",
        "&nbsp;&nbsp;9.&nbsp;4.&nbsp;9.&nbsp;1.&nbsp;3.&nbsp;2.&nbsp;4.&nbsp;9.&nbsp;7.&nbsp;4.&nbsp;9.&nbsp;4.&nbsp;1.&nbsp;2.&nbsp;7.&nbsp;2.] <br>\n",
        "&nbsp;[3.&nbsp;9.&nbsp;7.&nbsp;6.&nbsp;6.&nbsp;2.&nbsp;3.&nbsp;6.&nbsp;0.&nbsp;8.&nbsp;0.&nbsp;7.&nbsp;6.&nbsp;5.&nbsp;9.&nbsp;6.&nbsp;5.&nbsp;2.&nbsp;7.&nbsp;1.&nbsp;9.&nbsp;2.&nbsp;2.&nbsp;5. <br>\n",
        "&nbsp;&nbsp;6.&nbsp;4.&nbsp;2.&nbsp;2.&nbsp;1.&nbsp;0.&nbsp;9.&nbsp;0.&nbsp;2.&nbsp;8.&nbsp;3.&nbsp;0.&nbsp;8.&nbsp;8.&nbsp;1.&nbsp;0.]]\n",
        "        </tt></td>\n",
        "    </tr>\n",
        "</table>"
      ]
    },
    {
      "cell_type": "markdown",
      "metadata": {
        "id": "EpKq69jC2_oS"
      },
      "source": [
        "#### **6.2. Slicing: Fixed Point**\n",
        "Takes one 3-dimensional array with the starting position and the length of the output instances. Your task is to slice the instances from the same starting position for the given length.\n",
        "\n",
        "To the extent that it is helpful, a formal description provided in the Appendix.\n",
        "\n",
        "**Your Task:** Implement the function `slice_fixed_point`."
      ]
    },
    {
      "cell_type": "code",
      "execution_count": null,
      "metadata": {
        "id": "i4hyj3Fd2_oS"
      },
      "outputs": [],
      "source": [
        "def slice_fixed_point(x, s, m):\n",
        "    \"\"\"\n",
        "    Takes one 3-dimensional array with the starting position and the\n",
        "    length of the output instances. Your task is to slice the instances\n",
        "    from the same starting position for the given length.\n",
        "\n",
        "    Parameters:\n",
        "    x (numpy.ndarray): 1-d numpy array with 2-d numpy arrays as elements (n, ?, k).\n",
        "    s (int): The starting reference index in dimension 2.\n",
        "    m (int): The cutoff reference index in dimension 2.\n",
        "\n",
        "    Returns:\n",
        "    numpy.ndarray: A 3-dimensional int numpy array of shape (n, m-s, k)\n",
        "    \"\"\"\n",
        "    spectrograms = x\n",
        "\n",
        "    # Input function dimension specification\n",
        "    assert(spectrograms.ndim == 1)\n",
        "    for utter in spectrograms:\n",
        "        assert(utter.ndim == 2)\n",
        "\n",
        "    # Pre-define output function dimension specification\n",
        "    dim1 = spectrograms.shape[0]     # n\n",
        "    dim2 = m-s                      # m-s\n",
        "    dim3 = spectrograms[0].shape[1]  # k\n",
        "\n",
        "    result = np.zeros((dim1,dim2,dim3))\n",
        "\n",
        "    #### Start of your code ####\n",
        "\n",
        "\n",
        "    ####  End of your code  ####\n",
        "\n",
        "    # Assert output function dimension specification\n",
        "    assert(result.shape[0] == dim1)\n",
        "    assert(result.shape[1] == dim2)\n",
        "    assert(result.shape[2] == dim3)\n",
        "\n",
        "    return result"
      ]
    },
    {
      "cell_type": "markdown",
      "metadata": {
        "id": "E2bG0rKX2_oT"
      },
      "source": [
        "**Test Example 1:**"
      ]
    },
    {
      "cell_type": "code",
      "execution_count": null,
      "metadata": {
        "id": "2sWrW28-2_oT",
        "outputId": "1b2f9b16-f8ca-4373-fcd3-70a066d8e91d",
        "colab": {
          "base_uri": "https://localhost:8080/"
        }
      },
      "outputs": [
        {
          "output_type": "stream",
          "name": "stdout",
          "text": [
            "[[[0. 0. 0. 0.]\n",
            "  [0. 0. 0. 0.]]\n",
            "\n",
            " [[0. 0. 0. 0.]\n",
            "  [0. 0. 0. 0.]]\n",
            "\n",
            " [[0. 0. 0. 0.]\n",
            "  [0. 0. 0. 0.]]]\n"
          ]
        }
      ],
      "source": [
        "spectrograms = get_data_1()\n",
        "start = 0\n",
        "end = 2\n",
        "print(slice_fixed_point(spectrograms, start, end))"
      ]
    },
    {
      "cell_type": "markdown",
      "metadata": {
        "id": "HWangEV92_oU"
      },
      "source": [
        "**Expected Output 1**\n",
        "\n",
        "<img src=\"images/ex3-2.png\" width=\"600\">"
      ]
    },
    {
      "cell_type": "markdown",
      "metadata": {
        "id": "abbkbFkI2_oU"
      },
      "source": [
        "<table style = \"align:40%\">\n",
        "    <tr>\n",
        "        <td style=\"text-align:left;\"><tt><b> slice_fixed_point(<br>spectrograms, start, end) </b></tt></td>\n",
        "        <td style=\"text-align:left;\"><tt>\n",
        "            [[[3.&nbsp;1.&nbsp;4.&nbsp;1.] <br>\n",
        "&nbsp;&nbsp;[5.&nbsp;9.&nbsp;2.&nbsp;6.]] <br>\n",
        "\n",
        "&nbsp;[[9.&nbsp;7.&nbsp;9.&nbsp;3.] <br>\n",
        "&nbsp;&nbsp;[2.&nbsp;3.&nbsp;8.&nbsp;4.]] <br>\n",
        "\n",
        "&nbsp;[[6.&nbsp;2.&nbsp;6.&nbsp;4.] <br>\n",
        "&nbsp;&nbsp;[3.&nbsp;3.&nbsp;8.&nbsp;3.]]] <br>\n",
        "        </tt></td>\n",
        "    </tr>\n",
        "</table>"
      ]
    },
    {
      "cell_type": "markdown",
      "metadata": {
        "id": "lrDXF-3y2_oU"
      },
      "source": [
        "**Test Example 2:**"
      ]
    },
    {
      "cell_type": "code",
      "execution_count": null,
      "metadata": {
        "id": "AqabyogU2_oV",
        "colab": {
          "base_uri": "https://localhost:8080/"
        },
        "outputId": "4561e20d-dab7-436d-bbb6-54e057c151e7"
      },
      "outputs": [
        {
          "output_type": "stream",
          "name": "stdout",
          "text": [
            "[[0. 0. 0. 0. 0. 0. 0. 0. 0. 0. 0. 0. 0. 0. 0. 0. 0. 0. 0. 0. 0. 0. 0. 0.\n",
            "  0. 0. 0. 0. 0. 0. 0. 0. 0. 0. 0. 0. 0. 0. 0. 0.]\n",
            " [0. 0. 0. 0. 0. 0. 0. 0. 0. 0. 0. 0. 0. 0. 0. 0. 0. 0. 0. 0. 0. 0. 0. 0.\n",
            "  0. 0. 0. 0. 0. 0. 0. 0. 0. 0. 0. 0. 0. 0. 0. 0.]\n",
            " [0. 0. 0. 0. 0. 0. 0. 0. 0. 0. 0. 0. 0. 0. 0. 0. 0. 0. 0. 0. 0. 0. 0. 0.\n",
            "  0. 0. 0. 0. 0. 0. 0. 0. 0. 0. 0. 0. 0. 0. 0. 0.]]\n"
          ]
        }
      ],
      "source": [
        "data = get_data_2()\n",
        "s = 2\n",
        "m = 5\n",
        "print(slice_fixed_point(data, s, m)[1])"
      ]
    },
    {
      "cell_type": "markdown",
      "metadata": {
        "id": "ruAF9Psl2_oV"
      },
      "source": [
        "**Expected Output 2**:\n",
        "<table style = \"align:40%\">\n",
        "    <tr>\n",
        "        <td style=\"text-align:left;\"><tt><b> slice_fixed_point(<br>data, s, m)[1] </b></tt></td>\n",
        "        <td style=\"text-align:left;\"><tt>\n",
        "[[8.&nbsp;7.&nbsp;0.&nbsp;3.&nbsp;8.&nbsp;7.&nbsp;7.&nbsp;1.&nbsp;8.&nbsp;4.&nbsp;7.&nbsp;0.&nbsp;4.&nbsp;9.&nbsp;0.&nbsp;6.&nbsp;4.&nbsp;2.&nbsp;4.&nbsp;6.&nbsp;3.&nbsp;3.&nbsp;7.&nbsp;8. <br>\n",
        "&nbsp;&nbsp;5.&nbsp;0.&nbsp;8.&nbsp;5.&nbsp;4.&nbsp;7.&nbsp;4.&nbsp;1.&nbsp;3.&nbsp;3.&nbsp;9.&nbsp;2.&nbsp;5.&nbsp;2.&nbsp;3.&nbsp;5.] <br>\n",
        "&nbsp;[7.&nbsp;2.&nbsp;7.&nbsp;1.&nbsp;6.&nbsp;5.&nbsp;0.&nbsp;0.&nbsp;3.&nbsp;1.&nbsp;9.&nbsp;9.&nbsp;6.&nbsp;6.&nbsp;7.&nbsp;8.&nbsp;8.&nbsp;7.&nbsp;0.&nbsp;8.&nbsp;6.&nbsp;8.&nbsp;9.&nbsp;8. <br>\n",
        "&nbsp;&nbsp;3.&nbsp;6.&nbsp;1.&nbsp;7.&nbsp;4.&nbsp;9.&nbsp;2.&nbsp;0.&nbsp;8.&nbsp;2.&nbsp;7.&nbsp;8.&nbsp;4.&nbsp;4.&nbsp;1.&nbsp;7.] <br>\n",
        "&nbsp;[6.&nbsp;9.&nbsp;4.&nbsp;1.&nbsp;5.&nbsp;9.&nbsp;7.&nbsp;1.&nbsp;3.&nbsp;5.&nbsp;7.&nbsp;3.&nbsp;6.&nbsp;6.&nbsp;7.&nbsp;9.&nbsp;1.&nbsp;9.&nbsp;6.&nbsp;0.&nbsp;3.&nbsp;8.&nbsp;4.&nbsp;1. <br>\n",
        "&nbsp;&nbsp;4.&nbsp;5.&nbsp;0.&nbsp;3.&nbsp;1.&nbsp;4.&nbsp;4.&nbsp;4.&nbsp;0.&nbsp;0.&nbsp;8.&nbsp;4.&nbsp;6.&nbsp;9.&nbsp;3.&nbsp;3.]]\n",
        "        </tt></td>\n",
        "    </tr>\n",
        "</table>"
      ]
    },
    {
      "cell_type": "markdown",
      "metadata": {
        "id": "m8HOCznK2_oV"
      },
      "source": [
        "#### **6.3. Slicing: Random Point**\n",
        "Takes one 3-dimensional array with the length of the output instances. Your task is to slice the instances from a random point in each of the utterances with the given length. Please use function `numpy.random.randint` for generating the starting position.\n",
        "\n",
        "To the extent that it is helpful, a formal description provided in the Appendix.\n",
        "\n",
        "**Your Task:** Implement the function `slice_random_point`."
      ]
    },
    {
      "cell_type": "code",
      "execution_count": null,
      "metadata": {
        "id": "Uw50g_Yp2_oW"
      },
      "outputs": [],
      "source": [
        "def slice_random_point(x, d):\n",
        "    \"\"\"\n",
        "    Takes one 3-dimensional array with the length of the output instances.\n",
        "    Your task is to slice the instances from a random point in each of the\n",
        "    utterances with the given length. Please use offset and refer to their\n",
        "    mathematical correspondance.\n",
        "\n",
        "    Parameters:\n",
        "    x (numpy.ndarray): 1-d numpy array with 2-d numpy arrays as elements (n, ?, k).\n",
        "    d (int): The resulting size of the data in dimension 2.\n",
        "\n",
        "    Returns:\n",
        "    numpy.ndarray: A 3-dimensional int numpy array of shape (n, d, k)\n",
        "    \"\"\"\n",
        "    spectrograms = x\n",
        "\n",
        "    # Input function dimension specification\n",
        "    assert(spectrograms.ndim == 1)\n",
        "    for utter in spectrograms:\n",
        "        assert(utter.ndim == 2)\n",
        "        assert(utter.shape[0] >= d)\n",
        "\n",
        "    offset = [np.random.randint(utter.shape[0]-d+1)\n",
        "              if utter.shape[0]-d > 0 else 0\n",
        "              for utter in spectrograms]\n",
        "\n",
        "    # Pre-define output function dimension specification\n",
        "    dim1 = spectrograms.shape[0]    # n\n",
        "    dim2 = d                       # d\n",
        "    dim3 = spectrograms[0].shape[1] # k\n",
        "\n",
        "    result = np.zeros((dim1,dim2,dim3))\n",
        "\n",
        "    #### Start of your code ####\n",
        "\n",
        "\n",
        "\n",
        "\n",
        "    ####  End of your code  ####\n",
        "\n",
        "    # Assert output function dimension specification\n",
        "    assert(result.shape[0] == dim1)\n",
        "    assert(result.shape[1] == dim2)\n",
        "    assert(result.shape[2] == dim3)\n",
        "\n",
        "    return result"
      ]
    },
    {
      "cell_type": "markdown",
      "metadata": {
        "id": "YdFlj7v72_oW"
      },
      "source": [
        "##### Test Example 1:"
      ]
    },
    {
      "cell_type": "code",
      "execution_count": null,
      "metadata": {
        "id": "u8S10qVh2_oX",
        "outputId": "8a270d50-aa88-4ff9-92dc-f7a178c6fbc5",
        "colab": {
          "base_uri": "https://localhost:8080/"
        }
      },
      "outputs": [
        {
          "output_type": "stream",
          "name": "stdout",
          "text": [
            "[[[0. 0. 0. 0.]\n",
            "  [0. 0. 0. 0.]]\n",
            "\n",
            " [[0. 0. 0. 0.]\n",
            "  [0. 0. 0. 0.]]\n",
            "\n",
            " [[0. 0. 0. 0.]\n",
            "  [0. 0. 0. 0.]]]\n"
          ]
        }
      ],
      "source": [
        "np.random.seed(1)\n",
        "spectrograms = get_data_1()\n",
        "duration = 2\n",
        "print(slice_random_point(spectrograms, duration))"
      ]
    },
    {
      "cell_type": "markdown",
      "metadata": {
        "id": "nMLLJrmH2_oX"
      },
      "source": [
        "##### Expected Output 1\n",
        "\n",
        "<img src=\"images/ex3-3.png\" width=\"600\">"
      ]
    },
    {
      "cell_type": "markdown",
      "metadata": {
        "id": "WP4Fikbv2_oX"
      },
      "source": [
        "<table style = \"align:40%\">\n",
        "    <tr>\n",
        "        <td style=\"text-align:left;\"><tt><b> slice_random_point(<br>spectrograms, duration) </b></tt></td>\n",
        "        <td style=\"text-align:left;\"><tt>\n",
        "            [[[5.&nbsp;9.&nbsp;2.&nbsp;6.] <br>\n",
        "&nbsp;&nbsp;[5.&nbsp;3.&nbsp;5.&nbsp;8.]] <br>\n",
        "\n",
        "&nbsp;[[9.&nbsp;7.&nbsp;9.&nbsp;3.] <br>\n",
        "&nbsp;&nbsp;[2.&nbsp;3.&nbsp;8.&nbsp;4.]] <br>\n",
        "\n",
        "&nbsp;[[6.&nbsp;2.&nbsp;6.&nbsp;4.] <br>\n",
        "&nbsp;&nbsp;[3.&nbsp;3.&nbsp;8.&nbsp;3.]]] <br>\n",
        "        </tt></td>\n",
        "    </tr>\n",
        "</table>"
      ]
    },
    {
      "cell_type": "markdown",
      "metadata": {
        "id": "XNRsTs_o2_oY"
      },
      "source": [
        "##### Test Example 2:"
      ]
    },
    {
      "cell_type": "code",
      "execution_count": null,
      "metadata": {
        "id": "1PBUV-rW2_oY",
        "outputId": "0cef9792-f27c-4d0d-d17f-bd2a292640d1"
      },
      "outputs": [
        {
          "name": "stdout",
          "output_type": "stream",
          "text": [
            "[[0. 0. 0. 0. 0. 0. 0. 0. 0. 0. 0. 0. 0. 0. 0. 0. 0. 0. 0. 0. 0. 0. 0. 0.\n",
            "  0. 0. 0. 0. 0. 0. 0. 0. 0. 0. 0. 0. 0. 0. 0. 0.]\n",
            " [0. 0. 0. 0. 0. 0. 0. 0. 0. 0. 0. 0. 0. 0. 0. 0. 0. 0. 0. 0. 0. 0. 0. 0.\n",
            "  0. 0. 0. 0. 0. 0. 0. 0. 0. 0. 0. 0. 0. 0. 0. 0.]\n",
            " [0. 0. 0. 0. 0. 0. 0. 0. 0. 0. 0. 0. 0. 0. 0. 0. 0. 0. 0. 0. 0. 0. 0. 0.\n",
            "  0. 0. 0. 0. 0. 0. 0. 0. 0. 0. 0. 0. 0. 0. 0. 0.]\n",
            " [0. 0. 0. 0. 0. 0. 0. 0. 0. 0. 0. 0. 0. 0. 0. 0. 0. 0. 0. 0. 0. 0. 0. 0.\n",
            "  0. 0. 0. 0. 0. 0. 0. 0. 0. 0. 0. 0. 0. 0. 0. 0.]]\n"
          ]
        }
      ],
      "source": [
        "data = get_data_2()\n",
        "d = 4\n",
        "print(slice_random_point(data, d)[1])"
      ]
    },
    {
      "cell_type": "markdown",
      "metadata": {
        "id": "IVCHRmEy2_oZ"
      },
      "source": [
        "**Expected Output 2**:\n",
        "<table style = \"align:40%\">\n",
        "    <tr>\n",
        "        <td style=\"text-align:left;\"><tt><b> slice_random_point(<br>data, d)[1] </b></tt></td>\n",
        "        <td style=\"text-align:left;\"><tt>\n",
        "[[3.&nbsp;3.&nbsp;7.&nbsp;9.&nbsp;9.&nbsp;9.&nbsp;7.&nbsp;3.&nbsp;2.&nbsp;3.&nbsp;9.&nbsp;7.&nbsp;7.&nbsp;5.&nbsp;1.&nbsp;2.&nbsp;2.&nbsp;8.&nbsp;1.&nbsp;5.&nbsp;8.&nbsp;4.&nbsp;0.&nbsp;2. <br>\n",
        "&nbsp;&nbsp;5.&nbsp;5.&nbsp;0.&nbsp;8.&nbsp;1.&nbsp;1.&nbsp;0.&nbsp;3.&nbsp;8.&nbsp;8.&nbsp;4.&nbsp;4.&nbsp;0.&nbsp;9.&nbsp;3.&nbsp;7.] <br>\n",
        "&nbsp;[3.&nbsp;2.&nbsp;1.&nbsp;1.&nbsp;2.&nbsp;1.&nbsp;4.&nbsp;2.&nbsp;5.&nbsp;5.&nbsp;5.&nbsp;2.&nbsp;5.&nbsp;7.&nbsp;7.&nbsp;6.&nbsp;1.&nbsp;6.&nbsp;7.&nbsp;2.&nbsp;3.&nbsp;1.&nbsp;9.&nbsp;5. <br>\n",
        "&nbsp;&nbsp;9.&nbsp;9.&nbsp;2.&nbsp;0.&nbsp;9.&nbsp;1.&nbsp;9.&nbsp;0.&nbsp;6.&nbsp;0.&nbsp;4.&nbsp;8.&nbsp;4.&nbsp;3.&nbsp;3.&nbsp;8.] <br>\n",
        "&nbsp;[8.&nbsp;7.&nbsp;0.&nbsp;3.&nbsp;8.&nbsp;7.&nbsp;7.&nbsp;1.&nbsp;8.&nbsp;4.&nbsp;7.&nbsp;0.&nbsp;4.&nbsp;9.&nbsp;0.&nbsp;6.&nbsp;4.&nbsp;2.&nbsp;4.&nbsp;6.&nbsp;3.&nbsp;3.&nbsp;7.&nbsp;8. <br>\n",
        "&nbsp;&nbsp;5.&nbsp;0.&nbsp;8.&nbsp;5.&nbsp;4.&nbsp;7.&nbsp;4.&nbsp;1.&nbsp;3.&nbsp;3.&nbsp;9.&nbsp;2.&nbsp;5.&nbsp;2.&nbsp;3.&nbsp;5.] <br>\n",
        "&nbsp;[7.&nbsp;2.&nbsp;7.&nbsp;1.&nbsp;6.&nbsp;5.&nbsp;0.&nbsp;0.&nbsp;3.&nbsp;1.&nbsp;9.&nbsp;9.&nbsp;6.&nbsp;6.&nbsp;7.&nbsp;8.&nbsp;8.&nbsp;7.&nbsp;0.&nbsp;8.&nbsp;6.&nbsp;8.&nbsp;9.&nbsp;8. <br>\n",
        "&nbsp;&nbsp;3.&nbsp;6.&nbsp;1.&nbsp;7.&nbsp;4.&nbsp;9.&nbsp;2.&nbsp;0.&nbsp;8.&nbsp;2.&nbsp;7.&nbsp;8.&nbsp;4.&nbsp;4.&nbsp;1.&nbsp;7.]]\n",
        "        </tt></td>\n",
        "    </tr>\n",
        "</table>"
      ]
    },
    {
      "cell_type": "markdown",
      "metadata": {
        "id": "M59MvQ_o2_oZ"
      },
      "source": [
        "---"
      ]
    },
    {
      "cell_type": "markdown",
      "metadata": {
        "id": "a5NVT0ZO2_oa"
      },
      "source": [
        "#### **6.4. Padding: Ending Pattern**\n",
        "Takes one 3-dimensional array. Your task is to pad the instances from the end position as shown in the example below. That is, you need to pad the reflection of the utterance mirrored along the edge values of the array.\n",
        "\n",
        "To the extent that it is helpful, a formal description provided in the Appendix.\n",
        "\n",
        "**Your Task:** Implement the function `pad_ending_pattern`."
      ]
    },
    {
      "cell_type": "code",
      "execution_count": null,
      "metadata": {
        "id": "WotHIXHD2_oa"
      },
      "outputs": [],
      "source": [
        "def pad_ending_pattern(x):\n",
        "    \"\"\"\n",
        "    Takes one 3-dimensional array. Your task is to pad the instances from\n",
        "    the end position as shown in the example below. That is, you need to\n",
        "    pads with the reflection of the vector mirrored along the edge of the array.\n",
        "\n",
        "    Parameters:\n",
        "    x (numpy.ndarray): 1-d numpy array with 2-d numpy arrays as elements.\n",
        "\n",
        "    Returns:\n",
        "    numpy.ndarray: 3-dimensional int numpy array\n",
        "    \"\"\"\n",
        "    spectrograms = x\n",
        "\n",
        "    # Input function dimension specification\n",
        "    assert(spectrograms.ndim == 1)\n",
        "    for utter in spectrograms:\n",
        "        assert(utter.ndim == 2)\n",
        "\n",
        "    # Pre-define output function dimension specification\n",
        "    dim1 = spectrograms.shape[0]    # n\n",
        "    dim2 = max([utter.shape[0] for utter in spectrograms]) # m\n",
        "    dim3 = spectrograms[0].shape[1] # k\n",
        "\n",
        "    result = np.zeros((dim1, dim2, dim3))\n",
        "\n",
        "    #### Start of your code ####\n",
        "\n",
        "\n",
        "\n",
        "    ####  End of your code  ####\n",
        "\n",
        "    # Assert output function dimension specification\n",
        "    assert(result.shape[0] == dim1)\n",
        "    assert(result.shape[1] == dim2)\n",
        "    assert(result.shape[2] == dim3)\n",
        "\n",
        "    return result"
      ]
    },
    {
      "cell_type": "markdown",
      "metadata": {
        "id": "d4q3FuLC2_ob"
      },
      "source": [
        "**Test Example 1:**"
      ]
    },
    {
      "cell_type": "code",
      "execution_count": null,
      "metadata": {
        "id": "c7GzF6WC2_ob",
        "outputId": "5fd45812-81fb-421c-b842-f3d6780a8f9d",
        "colab": {
          "base_uri": "https://localhost:8080/"
        }
      },
      "outputs": [
        {
          "output_type": "stream",
          "name": "stdout",
          "text": [
            "[[[0. 0. 0. 0.]\n",
            "  [0. 0. 0. 0.]\n",
            "  [0. 0. 0. 0.]\n",
            "  [0. 0. 0. 0.]]\n",
            "\n",
            " [[0. 0. 0. 0.]\n",
            "  [0. 0. 0. 0.]\n",
            "  [0. 0. 0. 0.]\n",
            "  [0. 0. 0. 0.]]\n",
            "\n",
            " [[0. 0. 0. 0.]\n",
            "  [0. 0. 0. 0.]\n",
            "  [0. 0. 0. 0.]\n",
            "  [0. 0. 0. 0.]]]\n"
          ]
        }
      ],
      "source": [
        "spectrograms = get_data_1()\n",
        "duration = 2\n",
        "print(pad_ending_pattern(spectrograms))"
      ]
    }
  ],
  "metadata": {
    "colab": {
      "collapsed_sections": [
        "nMLLJrmH2_oX",
        "XNRsTs_o2_oY"
      ],
      "provenance": [],
      "gpuType": "T4"
    },
    "kernelspec": {
      "display_name": "Python 3",
      "name": "python3"
    },
    "language_info": {
      "codemirror_mode": {
        "name": "ipython",
        "version": 3
      },
      "file_extension": ".py",
      "mimetype": "text/x-python",
      "name": "python",
      "nbconvert_exporter": "python",
      "pygments_lexer": "ipython3",
      "version": "3.7.7"
    },
    "accelerator": "GPU"
  },
  "nbformat": 4,
  "nbformat_minor": 0
}